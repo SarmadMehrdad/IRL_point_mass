{
 "cells": [
  {
   "cell_type": "code",
   "execution_count": 1,
   "id": "bf12eac3-e5a2-45fd-9908-0c9de011a629",
   "metadata": {},
   "outputs": [],
   "source": [
    "import crocoddyl\n",
    "import pinocchio\n",
    "from IPython.display import HTML\n",
    "import mim_solvers\n",
    "import numpy as np\n",
    "from matplotlib import animation\n",
    "from matplotlib import pyplot as plt\n",
    "from PointMass_utils import *\n",
    "from PointMass_model import DifferentialActionModelPointMass"
   ]
  },
  {
   "cell_type": "code",
   "execution_count": 2,
   "id": "39e063ef-ed83-436f-b579-fd5bda40d0c5",
   "metadata": {},
   "outputs": [],
   "source": [
    "nx = 4\n",
    "nu = 2\n",
    "T = 50\n",
    "start_point = np.array([5, 5, 0, 0])\n",
    "target_low = np.array([10, 0, 0, 0])\n",
    "target_high = np.array([10, 10, 0, 0])\n",
    "obs0 = Obstacle(10, 8, 2, 1, 'Obs0')\n",
    "obs1 = Obstacle(10, 8, 1, 2, 'Obs1')\n",
    "obs2 = Obstacle(8, 10, 1, 2, 'Obs2')\n",
    "obs3 = Obstacle(8, 8, 1, 2, 'Obs3')\n",
    "obs_set = [obs1, obs2, obs3]\n",
    "# obs_set = [obs0]\n",
    "translation_cost = XReg(nx, target_high, 'trans_high')\n",
    "xreg = XReg(nx, start_point, 'XReg')\n",
    "ureg = UReg(nu, None, 'UReg')\n",
    "\n",
    "cost_set = Costs()\n",
    "cost_set.add_cost(translation_cost)\n",
    "cost_set.add_cost(xreg)\n",
    "cost_set.add_cost(ureg)\n",
    "# cost_set.add_cost(obs0)\n",
    "cost_set.add_cost(obs1)\n",
    "cost_set.add_cost(obs2)\n",
    "cost_set.add_cost(obs3)\n",
    "\n",
    "nr = cost_set.nr"
   ]
  },
  {
   "cell_type": "code",
   "execution_count": 3,
   "id": "d94481c5-53f8-46a0-a547-b82ffc6ee5ba",
   "metadata": {},
   "outputs": [
    {
     "name": "stdout",
     "output_type": "stream",
     "text": [
      "iter     merit         cost         grad      step    ||gaps||        KKT\n",
      "   1  2.53125e+01  2.53125e+01  1.45970e+01  1.0000  0.00000e+00  4.98986e+00\n",
      "   2  3.36626e+00  3.36626e+00  4.31861e-01  1.0000  4.44089e-14  3.68782e-01\n",
      "   3  3.05261e+00  3.05261e+00  3.14947e-01  1.0000  3.92355e-10  1.93348e-01\n",
      "   4  2.91456e+00  2.91456e+00  2.21626e-01  1.0000  3.52844e-10  1.19044e-01\n",
      "   5  2.84870e+00  2.84870e+00  1.71164e-01  1.0000  3.28337e-10  7.46740e-02\n",
      "   6  2.80966e+00  2.80966e+00  1.39565e-01  1.0000  2.63293e-10  4.88692e-02\n",
      "   7  2.78302e+00  2.78302e+00  1.16167e-01  1.0000  2.94038e-10  3.31063e-02\n",
      "   8  2.76278e+00  2.76278e+00  1.35873e-01  1.0000  1.89872e-10  5.96056e-02\n",
      "   9  2.74173e+00  2.74173e+00  1.02702e-01  1.0000  2.11002e-10  2.38436e-02\n",
      "  10  2.72711e+00  2.72711e+00  8.96921e-02  1.0000  1.87359e-10  2.07664e-02\n",
      "iter     merit         cost         grad      step    ||gaps||        KKT\n",
      "  11  2.71538e+00  2.71538e+00  5.94133e-01  1.0000  1.74446e-10  6.69925e-02\n",
      "  12  2.65095e+00  2.65095e+00  5.25577e-01  1.0000  1.40020e-09  2.19175e-02\n",
      "  13  2.59985e+00  2.59985e+00  5.02191e-01  1.0000  1.00881e-09  6.37920e-03\n",
      "  14  2.55142e+00  2.55142e+00  4.89292e-01  1.0000  1.31134e-09  4.77048e-03\n",
      "  15  2.50459e+00  2.50459e+00  4.79571e-01  1.0000  1.23446e-09  5.05438e-03\n",
      "  16  2.45928e+00  2.45928e+00  4.70094e-01  1.0000  1.22437e-09  5.82307e-03\n",
      "  17  2.41557e+00  2.41557e+00  4.60422e-01  1.0000  1.12622e-09  6.56744e-03\n",
      "  18  2.37354e+00  2.37354e+00  4.53428e-01  1.0000  1.09223e-09  1.03258e-02\n",
      "  19  2.33302e+00  2.33302e+00  1.51014e+00  1.0000  1.03949e-09  5.51703e-01\n",
      "  20  2.25917e+00  2.25917e+00  5.45206e+00  1.0000  2.35606e-09  1.78597e-01\n",
      "iter     merit         cost         grad      step    ||gaps||        KKT\n",
      "  21  1.82340e+00  1.82340e+00  2.63429e+00  1.0000  1.17793e-08  1.15591e-01\n",
      "  22  1.66531e+00  1.66531e+00  1.96356e+00  1.0000  5.73659e-09  3.89205e-02\n",
      "  23  1.57659e+00  1.57659e+00  1.85622e+00  1.0000  5.03292e-09  3.08854e-02\n",
      "  24  1.49762e+00  1.49762e+00  5.45724e-01  1.0000  4.29901e-09  7.85615e-02\n",
      "  25  1.46135e+00  1.46135e+00  5.45735e-01  1.0000  9.47936e-10  3.06261e-02\n",
      "  26  1.41933e+00  1.41933e+00  5.71738e-01  1.0000  1.09336e-09  1.26817e-02\n",
      "  27  1.37151e+00  1.37151e+00  9.99429e+00  1.0000  1.24981e-09  1.83253e-01\n",
      "  28  9.17023e-01  9.17023e-01  2.98780e+00  1.0000  1.77143e-08  1.96951e-01\n",
      "  29  8.57171e-01  8.57171e-01  6.40068e+00  1.0000  6.86261e-09  1.31043e-02\n",
      "  30  8.38346e-01  8.38346e-01  1.05163e+00  1.0000  1.41142e-08  2.69086e-03\n",
      "iter     merit         cost         grad      step    ||gaps||        KKT\n",
      "  31  8.36840e-01  8.36840e-01  2.72645e-01  1.0000  2.43553e-09  3.63300e-04\n",
      "  32  8.36820e-01  8.36820e-01  2.06700e-02  1.0000  6.57730e-10  4.11569e-05\n",
      "True\n",
      " END  8.36820e-01  8.36820e-01  5.03119e-05   ----   4.49399e-11  1.08503e-07\n"
     ]
    }
   ],
   "source": [
    "# Desired Running and Terminal Model\n",
    "w_run = np.array([10, 1., 1., 1000, 1000, 1000])\n",
    "w_term = np.array([2000, 1., 1., 1000, 1000, 1000])\n",
    "# w_des = np.hstack([w_run, w_term])\n",
    "w_des = (np.hstack([w_run, w_term])/(np.max(np.hstack([w_run, w_term])))).copy()\n",
    "# w_des = (np.hstack([w_run, w_term])/(np.linalg.norm(np.hstack([w_run, w_term])))).copy()\n",
    "w_run = w_des[:nr]; w_term = w_des[nr:]\n",
    "PM_DAM_running = DifferentialActionModelPointMass(cost_set, w_run)\n",
    "PM_DAM_terminal = DifferentialActionModelPointMass(cost_set, w_term)\n",
    "pmDataRunning = PM_DAM_running.createData()\n",
    "pmDataTerminal = PM_DAM_terminal.createData()\n",
    "PM_ND_R = crocoddyl.DifferentialActionModelNumDiff(PM_DAM_running, False)\n",
    "PM_ND_T = crocoddyl.DifferentialActionModelNumDiff(PM_DAM_terminal, False)\n",
    "timeStep = 5e-2\n",
    "PM_IAM = crocoddyl.IntegratedActionModelEuler(PM_ND_R, timeStep)\n",
    "PM_IAM_T = crocoddyl.IntegratedActionModelEuler(PM_ND_T, 0.0)\n",
    "x0 = start_point\n",
    "u0 = np.array([0.0, 0.0])\n",
    "problem = crocoddyl.ShootingProblem(x0, [PM_IAM] * T, PM_IAM_T)\n",
    "# Creating the SQP solver\n",
    "sqp_opt = mim_solvers.SolverSQP(problem)\n",
    "sqp_opt.setCallbacks([crocoddyl.CallbackVerbose()])\n",
    "sqp_opt.with_callbacks=True\n",
    "sqp_opt.termination_tolerance = 1e-5\n",
    "xs_init = [x0 for i in range(T+1)]\n",
    "us_init = [u0 for i in range(T)]\n",
    "\n",
    "# Solving this problem\n",
    "done = sqp_opt.solve(xs_init, us_init, 500)\n",
    "xs_optimal = np.stack(sqp_opt.xs.tolist().copy())\n",
    "us_optimal = np.stack(sqp_opt.us.tolist().copy())\n",
    "print(done)"
   ]
  },
  {
   "cell_type": "code",
   "execution_count": 4,
   "id": "ca0bbc3d-1690-48d6-b939-66b562f26092",
   "metadata": {},
   "outputs": [],
   "source": [
    "# HTML(animatePointMass(xs_optimal, obs_set, target_high).to_jshtml())"
   ]
  },
  {
   "cell_type": "code",
   "execution_count": 5,
   "id": "3fdb9583-1200-4b0f-b1de-fafad7075033",
   "metadata": {},
   "outputs": [
    {
     "data": {
      "image/png": "[encoded data removed]",
      "text/plain": [
       "<Figure size 640x480 with 1 Axes>"
      ]
     },
     "metadata": {},
     "output_type": "display_data"
    }
   ],
   "source": [
    "plot_1_traj(xs_optimal, obs_set, target_high, label='Optimal', linemap = 'b')"
   ]
  },
  {
   "cell_type": "code",
   "execution_count": 6,
   "id": "35751564-117c-4a16-98fc-b5393bfb806f",
   "metadata": {},
   "outputs": [
    {
     "name": "stdout",
     "output_type": "stream",
     "text": [
      "iter     merit         cost         grad      step    ||gaps||        KKT\n",
      "   1  2.56250e+01  2.56250e+01  1.45677e+01  1.0000  0.00000e+00  4.97991e+00\n",
      "True\n",
      " END  3.93930e-01  3.93930e-01  5.39967e-05   ----   4.52971e-14  2.19792e-07\n"
     ]
    }
   ],
   "source": [
    "# Bad Running and Terminal Model\n",
    "w_run = np.array([10, 1., 1., 0., 0., 0.])\n",
    "w_term = np.array([1000, 1., 1., 0., 0., 0.])\n",
    "# w_bad = np.hstack([w_run, w_term])\n",
    "w_bad = (np.hstack([w_run, w_term])/(np.max(np.hstack([w_run, w_term])))).copy()\n",
    "# w_bad = (np.hstack([w_run, w_term])/(np.linalg.norm(np.hstack([w_run, w_term])))).copy()\n",
    "w_run = w_bad[:nr]; w_term = w_bad[nr:]\n",
    "PM_DAM_running = DifferentialActionModelPointMass(cost_set, w_run)\n",
    "PM_DAM_terminal = DifferentialActionModelPointMass(cost_set, w_term)\n",
    "pmDataRunning = PM_DAM_running.createData()\n",
    "pmDataTerminal = PM_DAM_terminal.createData()\n",
    "PM_ND_R = crocoddyl.DifferentialActionModelNumDiff(PM_DAM_running, False)\n",
    "PM_ND_T = crocoddyl.DifferentialActionModelNumDiff(PM_DAM_terminal, False)\n",
    "timeStep = 5e-2\n",
    "PM_IAM = crocoddyl.IntegratedActionModelEuler(PM_ND_R, timeStep)\n",
    "PM_IAM_T = crocoddyl.IntegratedActionModelEuler(PM_ND_T, 0.0)\n",
    "x0 = start_point\n",
    "u0 = np.array([0.0, 0.0])\n",
    "problem = crocoddyl.ShootingProblem(x0, [PM_IAM] * T, PM_IAM_T)\n",
    "# Creating the SQP solver\n",
    "sqp_non_opt = mim_solvers.SolverSQP(problem)\n",
    "sqp_non_opt.setCallbacks([crocoddyl.CallbackVerbose()])\n",
    "sqp_non_opt.with_callbacks=True\n",
    "sqp_non_opt.termination_tolerance = 1e-5\n",
    "xs_init = [x0 for i in range(T+1)]\n",
    "us_init = [u0 for i in range(T)]\n",
    "\n",
    "# Solving this problem\n",
    "done = sqp_non_opt.solve(xs_init, us_init, 500)\n",
    "xs_non_optimal = np.stack(sqp_non_opt.xs.tolist().copy())\n",
    "us_non_optimal = np.stack(sqp_non_opt.us.tolist().copy())\n",
    "print(done)\n"
   ]
  },
  {
   "cell_type": "code",
   "execution_count": 7,
   "id": "67e75e9f-cc45-447f-9511-275d9b0cfb03",
   "metadata": {},
   "outputs": [],
   "source": [
    "# HTML(animatePointMass(xs_non_optimal, obs_set, target_high).to_jshtml())"
   ]
  },
  {
   "cell_type": "code",
   "execution_count": 8,
   "id": "ebdf76ce-5579-406d-ac64-7cbafca0b8c3",
   "metadata": {},
   "outputs": [
    {
     "data": {
      "image/png": "[encoded data removed]",
      "text/plain": [
       "<Figure size 640x480 with 1 Axes>"
      ]
     },
     "metadata": {},
     "output_type": "display_data"
    }
   ],
   "source": [
    "plot_1_traj(xs_non_optimal, obs_set, target_high, label='Non-Optimal', linemap = 'r')"
   ]
  },
  {
   "cell_type": "code",
   "execution_count": 9,
   "id": "54396499-fcd4-4fa1-8eb4-a2d03fbfee5c",
   "metadata": {},
   "outputs": [
    {
     "name": "stdout",
     "output_type": "stream",
     "text": [
      "Desired Trajectory Cost:   0.8368197222980587  || other Trajectory, same cost:    3.3916994987999383\n",
      "Bad Trajectory Cost:       0.3939303420001925  || other Trajectory, same cost:    1.100495760303379\n"
     ]
    }
   ],
   "source": [
    "print('Desired Trajectory Cost:  ', cost_set.traj_cost(xs_optimal, us_optimal, w_des[:nr], w_des[nr:], timeStep), ' || other Trajectory, same cost:   ', cost_set.traj_cost(xs_non_optimal, us_non_optimal, w_des[:nr], w_des[nr:], timeStep))\n",
    "print('Bad Trajectory Cost:      ', cost_set.traj_cost(xs_non_optimal, us_non_optimal, w_bad[:nr], w_bad[nr:], timeStep), ' || other Trajectory, same cost:   ', cost_set.traj_cost(xs_optimal, us_optimal, w_bad[:nr], w_bad[nr:], timeStep))"
   ]
  },
  {
   "cell_type": "code",
   "execution_count": 10,
   "id": "3aa27aa7-611a-41fb-9912-255ea825acbc",
   "metadata": {},
   "outputs": [],
   "source": [
    "###### IRL #######"
   ]
  },
  {
   "cell_type": "code",
   "execution_count": 11,
   "id": "605a80bc-c803-48ce-9422-09fc597284c4",
   "metadata": {},
   "outputs": [],
   "source": [
    "# generating bad trajectories\n",
    "num_bad = 10\n",
    "scales = 5.0\n",
    "xs_non_optimal_set = []\n",
    "us_non_optimal_set = []\n",
    "xs_non_optimal_set.append(np.stack(xs_non_optimal.tolist()).copy())\n",
    "us_non_optimal_set.append(np.stack(us_non_optimal.tolist()).copy())\n",
    "for _ in range(num_bad):\n",
    "    # # Get one non-optimal sample from non-optimal demo\n",
    "    Us = us_non_optimal.copy()+np.random.normal(0,scales,np.stack(us_non_optimal.tolist()).shape)\n",
    "    us_non_optimal_set.append(Us)\n",
    "    xs_non_optimal_set.append(np.stack(problem.rollout([Us[i] for i in range(T)])))\n",
    "    # # Get one non-optimal sample from optimal demo\n",
    "    Us = us_optimal.copy()+np.random.normal(0,scales,np.stack(us_non_optimal.tolist()).shape)\n",
    "    us_non_optimal_set.append(Us)\n",
    "    xs_non_optimal_set.append(np.stack(problem.rollout([Us[i] for i in range(T)])))"
   ]
  },
  {
   "cell_type": "code",
   "execution_count": 12,
   "id": "f9b5271a-57f8-4697-b4df-b786ddc5832f",
   "metadata": {},
   "outputs": [
    {
     "name": "stdout",
     "output_type": "stream",
     "text": [
      "0.43308566829267114\n",
      "Modified:  1.557200067806255 Original:  0.6744010320312648\n",
      "Modified:  3.759722943209652e-05 Original:  1.6282821234552405e-05\n",
      "Modified:  0.0007260464135272695 Original:  0.0003144402962139546\n",
      "Modified:  0.0022225648343818147 Original:  0.0009625609766220381\n",
      "Modified:  0.0231989442175508 Original:  0.010047130260142386\n",
      "Modified:  0.012555640416965028 Original:  0.005437667920823772\n",
      "Modified:  0.31248410168388535 Original:  0.13533238600860048\n",
      "Modified:  8.754265098410112e-14 Original:  3.79134675055615e-14\n",
      "Modified:  0.2051908386423414 Original:  0.08886521148095207\n",
      "Modified:  0.4341813296034306 Original:  0.18803771129150226\n",
      "Modified:  0.1339483983945348 Original:  0.05801113163543006\n",
      "Modified:  0.03548348833369521 Original:  0.01536739025835359\n",
      "Modified:  4.43601941228382e-07 Original:  1.9211764317282003e-07\n",
      "Modified:  0.12034062981577948 Original:  0.052117802086527804\n",
      "Modified:  2.9899123379740525e-08 Original:  1.2948881830279953e-08\n",
      "Modified:  0.00011655864608783986 Original:  5.047987913624107e-05\n",
      "Modified:  1.2904802567341873e-13 Original:  5.5888850440622336e-14\n",
      "Modified:  3.15423133082188e-12 Original:  1.3660523838586754e-12\n",
      "Modified:  2.270924583836764e-07 Original:  9.83504891033201e-08\n",
      "Modified:  2.690503353052478e-06 Original:  1.165218442700405e-06\n",
      "Modified:  0.012779005839994497 Original:  0.005534404284329964\n"
     ]
    }
   ],
   "source": [
    "opt_cost = np.exp(-cost_set.traj_cost(xs_optimal,us_optimal,w_des[:nr], w_des[nr:], timeStep))\n",
    "print(opt_cost)\n",
    "for X, U in zip(xs_non_optimal_set, us_non_optimal_set):\n",
    "    print('Modified: ', np.exp(-cost_set.traj_cost(X,U,w_bad[:nr], w_bad[nr:], timeStep))/opt_cost, \n",
    "         'Original: ', np.exp(-cost_set.traj_cost(X,U,w_bad[:nr], w_bad[nr:], timeStep)))"
   ]
  },
  {
   "cell_type": "code",
   "execution_count": 13,
   "id": "9904e761-7547-427c-ab51-4cc1dfb70afc",
   "metadata": {},
   "outputs": [],
   "source": [
    "# IRL Algorithm\n",
    "from scipy.optimize import minimize\n",
    "from scipy.optimize import Bounds\n",
    "\n",
    "def fcn_w(x, cost_set, xs_optimal, us_optimal, xs_non_optimal_set, us_non_optimal_set, dt, Lambda = 0.001):\n",
    "    # x /= np.linalg.norm(x)\n",
    "    nr = cost_set.nr\n",
    "    output = 0\n",
    "    num = np.nextafter(0,1)\n",
    "    den = np.nextafter(0,1)\n",
    "    num += np.exp(-cost_set.traj_cost(xs_optimal, us_optimal, x[:nr], x[nr:], dt))\n",
    "    den += num\n",
    "    for Xs, Us in zip(xs_non_optimal_set, us_non_optimal_set):\n",
    "        den += np.exp(-cost_set.traj_cost(Xs, Us, x[:nr], x[nr:], dt))\n",
    "    output -= np.log(num/den)\n",
    "    output += Lambda*np.linalg.norm(x)\n",
    "    return output\n",
    "\n",
    "def fcn_w_nSamples(x, cost_set, xs_optimal, us_optimal, xs_non_optimal_set, us_non_optimal_set, dt, samples, Lambda = 0.001):\n",
    "    nr = cost_set.nr\n",
    "    num_samples = samples # Have these number of samples per trajectory equidistantly starting from the beginning\n",
    "    output = 0\n",
    "    for i in np.int32(np.linspace(0, len(xs_optimal), num=num_samples+1))[:-1]:\n",
    "        num = np.nextafter(0,1)\n",
    "        den = np.nextafter(0,1)\n",
    "        X_opt = xs_optimal[i:].copy(); U_opt = us_optimal[i:].copy()\n",
    "        num += np.exp(-cost_set.traj_cost(X_opt, U_opt, x[:nr], x[nr:], dt))\n",
    "        den += num\n",
    "        for Xs, Us in zip(xs_non_optimal_set, us_non_optimal_set):\n",
    "            X_nopt = Xs[i:].copy(); U_nopt = Us[i:].copy()\n",
    "            den += np.max([np.nextafter(0,1), np.exp(-cost_set.traj_cost(X_nopt, U_nopt, x[:nr], x[nr:], dt))])\n",
    "        output -= np.log(num/den)\n",
    "    output += Lambda*np.linalg.norm(x)\n",
    "    return output\n",
    "\n",
    "def fcn_w_cum(x, cost_set, xs_optimal, us_optimal, xs_non_optimal_set, us_non_optimal_set, dt, Lambda = 0.001):\n",
    "    return True\n",
    "\n",
    "# def fcn_w_nD(x, cost_set, xs_optimal_set, us_optimal_set, xs_non_optimal_set, us_non_optimal_set, dt, Lambda = 0.001):\n",
    "#     # x /= np.linalg.norm(x)\n",
    "#     nr = cost_set.nr\n",
    "#     output = 0\n",
    "#     for Xs_opt, Us_opt in zip(xs_optimal_set, us_optimal_set):\n",
    "#         num = np.nextafter(0,1)\n",
    "#         den = np.nextafter(0,1)\n",
    "#         num += np.exp(-cost_set.traj_cost(Xs_opt, Us_opt, x[:nr], x[nr:], dt))\n",
    "#         den += num\n",
    "#         for Xs, Us in zip(xs_non_optimal_set, us_non_optimal_set):\n",
    "#             den += np.exp(-cost_set.traj_cost(Xs, Us, x[:nr], x[nr:], dt))\n",
    "#         output -= np.log(num/den)\n",
    "    \n",
    "#     output += Lambda*np.linalg.norm(x)\n",
    "#     return output\n",
    "\n"
   ]
  },
  {
   "cell_type": "code",
   "execution_count": 51,
   "id": "f6085ced-6509-44e5-a8e9-7a3b56604fd5",
   "metadata": {},
   "outputs": [
    {
     "name": "stdout",
     "output_type": "stream",
     "text": [
      "RUNNING THE L-BFGS-B CODE\n",
      "\n",
      "           * * *\n",
      "\n",
      "Machine precision = 2.220D-16\n",
      " N =           12     M =           10\n",
      "\n",
      "At X0        12 variables are exactly at the bounds\n",
      "\n",
      "At iterate    0    f=  3.09104D+00    |proj g|=  1.05929D+01\n",
      "\n",
      "At iterate    1    f=  2.80012D+00    |proj g|=  3.81149D+00\n",
      "\n",
      "At iterate    2    f=  2.49853D+00    |proj g|=  3.87296D+00\n",
      "\n",
      "At iterate    3    f=  2.16406D+00    |proj g|=  2.84347D+00\n",
      "\n",
      "At iterate    4    f=  1.64271D+00    |proj g|=  1.45469D+00\n",
      "\n",
      "At iterate    5    f=  1.58143D+00    |proj g|=  1.33746D+00\n",
      "\n",
      "At iterate    6    f=  1.15009D+00    |proj g|=  1.00370D+00\n",
      "\n",
      "At iterate    7    f=  7.01948D-01    |proj g|=  6.28522D-01\n",
      "\n",
      "At iterate    8    f=  4.10611D-01    |proj g|=  3.85056D-01\n",
      "\n",
      "At iterate    9    f=  2.16283D-01    |proj g|=  2.06636D-01\n",
      "\n",
      "At iterate   10    f=  1.09343D-01    |proj g|=  5.79556D-01\n",
      "\n",
      "At iterate   11    f=  5.45811D-02    |proj g|=  5.88390D-01\n",
      "\n",
      "At iterate   12    f=  2.73315D-02    |proj g|=  4.44761D-01\n",
      "\n",
      "At iterate   13    f=  1.37082D-02    |proj g|=  2.96666D-01\n",
      "\n",
      "At iterate   14    f=  6.88356D-03    |proj g|=  1.84645D-01\n",
      "\n",
      "At iterate   15    f=  3.45723D-03    |proj g|=  1.09897D-01\n",
      "\n",
      "At iterate   16    f=  2.86048D-03    |proj g|=  1.29685D-02\n",
      "\n",
      "At iterate   17    f=  1.23185D-03    |proj g|=  1.14799D-02\n",
      "\n",
      "At iterate   18    f=  6.73345D-04    |proj g|=  4.95362D-03\n",
      "\n",
      "At iterate   19    f=  3.25311D-04    |proj g|=  1.91731D-03\n",
      "\n",
      "At iterate   20    f=  1.64860D-04    |proj g|=  7.92686D-04\n",
      "\n",
      "At iterate   21    f=  8.20175D-05    |proj g|=  4.56905D-04\n",
      "\n",
      "At iterate   22    f=  4.11088D-05    |proj g|=  2.22376D-04\n",
      "\n",
      "At iterate   23    f=  2.05439D-05    |proj g|=  1.07860D-04\n",
      "\n",
      "At iterate   24    f=  1.02522D-05    |proj g|=  5.22476D-05\n",
      "\n",
      "At iterate   25    f=  5.14079D-06    |proj g|=  2.54242D-05\n",
      "\n",
      "At iterate   26    f=  2.58132D-06    |proj g|=  1.23790D-05\n",
      "\n",
      "At iterate   27    f=  1.42295D-06    |proj g|=  8.85404D-05\n",
      "\n",
      "At iterate   28    f=  4.39648D-07    |proj g|=  3.50942D-05\n",
      "\n",
      "At iterate   29    f=  2.77981D-07    |proj g|=  2.08944D-05\n",
      "\n",
      "At iterate   30    f=  1.45450D-07    |proj g|=  9.67004D-06\n",
      "\n",
      "At iterate   31    f=  6.23466D-08    |proj g|=  3.36398D-06\n",
      "\n",
      "At iterate   32    f=  3.65789D-08    |proj g|=  1.63203D-06\n",
      "\n",
      "At iterate   33    f=  2.60901D-08    |proj g|=  9.43690D-07\n",
      "  ys=-2.381E-09  -gs= 8.775E-09 BFGS update SKIPPED\n",
      "\n",
      "At iterate   34    f=  1.67189D-08    |proj g|=  4.32987D-07\n",
      "\n",
      "At iterate   35    f=  1.21667D-08    |proj g|=  1.99840D-07\n",
      "\n",
      "At iterate   36    f=  6.22606D-09    |proj g|=  3.33067D-08\n",
      "  message: CONVERGENCE: REL_REDUCTION_OF_F_<=_FACTR*EPSMCH\n",
      "  success: True\n",
      "   status: 0\n",
      "      fun: 6.22605857698318e-09\n",
      "        x: [ 0.000e+00  0.000e+00  3.577e-02  3.639e+00  3.087e+00\n",
      "             6.791e+00  2.215e+01  0.000e+00  0.000e+00  3.925e+00\n",
      "             1.547e+00  1.859e+00]\n",
      "      nit: 37\n",
      "      jac: [ 4.441e-08  9.992e-08  3.331e-08  0.000e+00  0.000e+00\n",
      "             0.000e+00  0.000e+00  2.220e-08  0.000e+00  0.000e+00\n",
      "             0.000e+00  0.000e+00]\n",
      "     nfev: 728\n",
      "     njev: 56\n",
      " hess_inv: <12x12 LbfgsInvHessProduct with dtype=float64>\n",
      "\n",
      "At iterate   37    f=  6.22606D-09    |proj g|=  3.33067D-08\n",
      "\n",
      "           * * *\n",
      "\n",
      "Tit   = total number of iterations\n",
      "Tnf   = total number of function evaluations\n",
      "Tnint = total number of segments explored during Cauchy searches\n",
      "Skip  = number of BFGS updates skipped\n",
      "Nact  = number of active bounds at final generalized Cauchy point\n",
      "Projg = norm of the final projected gradient\n",
      "F     = final function value\n",
      "\n",
      "           * * *\n",
      "\n",
      "   N    Tit     Tnf  Tnint  Skip  Nact     Projg        F\n",
      "   12     37     57     39     1     4   3.331D-08   6.226D-09\n",
      "  F =   6.2260585769831803E-009\n",
      "\n",
      "CONVERGENCE: REL_REDUCTION_OF_F_<=_FACTR*EPSMCH             \n"
     ]
    },
    {
     "name": "stderr",
     "output_type": "stream",
     "text": [
      "\n",
      " Warning:  more than 10 function and gradient\n",
      "   evaluations in the last line search.  Termination\n",
      "   may possibly be caused by a bad search direction.\n"
     ]
    }
   ],
   "source": [
    "dt = timeStep\n",
    "Lambda = 0.0\n",
    "lb = 0.0; ub = np.inf\n",
    "bnds = Bounds(lb, ub)\n",
    "options = {'maxiter': 100, 'iprint': 1,'ftol': 1e-15 ,'gtol' : 1e-15}\n",
    "tol = 1e-15\n",
    "samples = 1\n",
    "# w0 = w_bad\n",
    "w0 = np.zeros_like(w_bad)\n",
    "# w0 = w_des\n",
    "# w0 = 10*np.ones_like(w_bad)\n",
    "\n",
    "# 1 Optimal Demo\n",
    "args=(cost_set, xs_optimal, us_optimal, xs_non_optimal_set, us_non_optimal_set, dt, Lambda)\n",
    "res = minimize(fcn_w, \n",
    "               w0, \n",
    "               args, \n",
    "               bounds=bnds, \n",
    "               method='L-BFGS-B', \n",
    "               tol = tol,\n",
    "               options=options)\n",
    "print(res)\n",
    "\n",
    "# 1 Optimal Demo, Multiple Samples\n",
    "# args=(cost_set, xs_optimal, us_optimal, xs_non_optimal_set, us_non_optimal_set, dt, samples, Lambda)\n",
    "# res = minimize(fcn_w_nSamples, \n",
    "#                w0, \n",
    "#                args, \n",
    "#                bounds=bnds, \n",
    "#                method='L-BFGS-B', \n",
    "#                tol = tol,\n",
    "#                options=options)\n",
    "# print(res)\n",
    "\n",
    "\n",
    "# WIRL = []\n",
    "# for i in range(1,len(xs_non_optimal_set)):\n",
    "#     xs_no_subset = xs_non_optimal_set[:i]\n",
    "#     us_no_subset = us_non_optimal_set[:i]\n",
    "#     res = minimize(fcn_w, \n",
    "#                    w0, \n",
    "#                    args=(cost_set, xs_optimal, us_optimal, xs_no_subset, us_no_subset, dt, Lambda), \n",
    "#                    bounds=bnds, \n",
    "#                    method='L-BFGS-B', \n",
    "#                    tol = tol,\n",
    "#                    options=options)\n",
    "#     WIRL.append(res.x)\n",
    "#     print(res)\n",
    "\n",
    "w_irl = res.x"
   ]
  },
  {
   "cell_type": "code",
   "execution_count": 52,
   "id": "f548d71e-7065-47b6-bd11-524f4ce30442",
   "metadata": {},
   "outputs": [
    {
     "name": "stdout",
     "output_type": "stream",
     "text": [
      "trans_high :\n",
      "Running ||  Desired:  0.005 IRL:  0.0\n",
      "Terminal ||  Desired:  1.0 IRL:  22.152189916313816\n",
      "\n",
      "XReg :\n",
      "Running ||  Desired:  0.0005 IRL:  0.0\n",
      "Terminal ||  Desired:  0.0005 IRL:  0.0\n",
      "\n",
      "UReg :\n",
      "Running ||  Desired:  0.0005 IRL:  0.035774654263402976\n",
      "Terminal ||  Desired:  0.0005 IRL:  0.0\n",
      "\n",
      "Obs1 :\n",
      "Running ||  Desired:  0.5 IRL:  3.6393841886559555\n",
      "Terminal ||  Desired:  0.5 IRL:  3.925392406855836\n",
      "\n",
      "Obs2 :\n",
      "Running ||  Desired:  0.5 IRL:  3.0870504388004023\n",
      "Terminal ||  Desired:  0.5 IRL:  1.5466935501016816\n",
      "\n",
      "Obs3 :\n",
      "Running ||  Desired:  0.5 IRL:  6.791039615611117\n",
      "Terminal ||  Desired:  0.5 IRL:  1.8586119943102775\n",
      "\n"
     ]
    }
   ],
   "source": [
    "# w_irl /= np.max(w_irl)\n",
    "for i, cost in enumerate(cost_set.costs):\n",
    "    print(cost.name, ':')\n",
    "    print('Running || ', 'Desired: ', w_des[:nr][i], 'IRL: ', w_irl[:nr][i])\n",
    "    print('Terminal || ', 'Desired: ', w_des[nr:][i], 'IRL: ', w_irl[nr:][i])\n",
    "    print('')"
   ]
  },
  {
   "cell_type": "code",
   "execution_count": 53,
   "id": "1864cbf4-0d5e-4694-a974-3c1a107cbcfd",
   "metadata": {},
   "outputs": [],
   "source": [
    "# w_irl = w_irl/np.max(w_irl)"
   ]
  },
  {
   "cell_type": "code",
   "execution_count": 54,
   "id": "de33ae35-2a22-48d2-bab3-fddf6f3f0e99",
   "metadata": {},
   "outputs": [
    {
     "name": "stdout",
     "output_type": "stream",
     "text": [
      "Desired Trajectory Cost:  0.8368197222980587  || with IRL Weight:   11.830189091179733\n",
      "Bad Trajectory Cost:      0.3939303420001925  || with IRL Weight:   31.65781383756261\n"
     ]
    }
   ],
   "source": [
    "print('Desired Trajectory Cost: ', cost_set.traj_cost(xs_optimal, us_optimal, w_des[:nr], w_des[nr:], timeStep), ' || with IRL Weight:  ', cost_set.traj_cost(xs_optimal, us_optimal, w_irl[:nr], w_irl[nr:], timeStep))\n",
    "print('Bad Trajectory Cost:     ', cost_set.traj_cost(xs_non_optimal, us_non_optimal, w_bad[:nr], w_bad[nr:], timeStep), ' || with IRL Weight:  ', cost_set.traj_cost(xs_non_optimal, us_non_optimal, w_irl[:nr], w_irl[nr:], timeStep))"
   ]
  },
  {
   "cell_type": "code",
   "execution_count": 55,
   "id": "4e78c1e7-c248-494d-a041-ec3dc69a59e2",
   "metadata": {},
   "outputs": [
    {
     "name": "stdout",
     "output_type": "stream",
     "text": [
      "Desired Fcn:     0.4892076702530379\n",
      "IRL Fcn:         6.22605857698318e-09\n",
      "Bad Fcn:         1.5497883899327523\n"
     ]
    }
   ],
   "source": [
    "# Test IRL 1D Output\n",
    "print('Desired Fcn:    ', fcn_w(w_des, cost_set, xs_optimal, us_optimal, xs_non_optimal_set, us_non_optimal_set, dt, Lambda))\n",
    "print('IRL Fcn:        ', fcn_w(w_irl, cost_set, xs_optimal, us_optimal, xs_non_optimal_set, us_non_optimal_set, dt, Lambda))\n",
    "print('Bad Fcn:        ', fcn_w(w_bad, cost_set, xs_optimal, us_optimal, xs_non_optimal_set, us_non_optimal_set, dt, Lambda))"
   ]
  },
  {
   "cell_type": "code",
   "execution_count": 65,
   "id": "1a854832-9e24-41bf-adff-f6afa1a113af",
   "metadata": {},
   "outputs": [
    {
     "name": "stdout",
     "output_type": "stream",
     "text": [
      "iter     merit         cost         grad      step    ||gaps||        KKT\n",
      "   1  2.04846e+01  2.04846e+01  6.64484e+00  1.0000  0.00000e+00  2.22240e+01\n",
      "   2  7.77191e+00  7.77191e+00  7.26832e+00  1.0000  4.61853e-14  7.05560e+00\n",
      "   3  4.83833e+00  4.83833e+00  6.25078e+00  1.0000  1.36755e-08  4.97144e-01\n",
      "   4  4.75340e+00  4.75340e+00  4.37768e+00  1.0000  1.16892e-08  1.64174e-01\n",
      "   5  4.59095e+00  4.59095e+00  1.80522e+00  1.0000  7.71685e-09  6.13321e-02\n",
      "   6  4.45227e+00  4.45227e+00  5.41479e-01  1.0000  3.47029e-09  7.88953e-03\n",
      "   7  4.44760e+00  4.44760e+00  2.94225e-02  1.0000  1.16990e-09  6.69574e-04\n",
      "   8  4.44758e+00  4.44758e+00  4.85356e-04  1.0000  5.58678e-11  1.28833e-05\n",
      " END  4.44758e+00  4.44758e+00  1.22386e-07   ----   9.68758e-13  4.07441e-09\n"
     ]
    }
   ],
   "source": [
    "# Run again with bad weights (zero for obstacles)\n",
    "w_run = w_irl[:nr]\n",
    "w_term = w_irl[nr:]\n",
    "PM_DAM_running = DifferentialActionModelPointMass(cost_set, w_run)\n",
    "PM_DAM_terminal = DifferentialActionModelPointMass(cost_set, w_term)\n",
    "pmDataRunning = PM_DAM_running.createData()\n",
    "pmDataTerminal = PM_DAM_terminal.createData()\n",
    "PM_ND_R = crocoddyl.DifferentialActionModelNumDiff(PM_DAM_running, False)\n",
    "PM_ND_T = crocoddyl.DifferentialActionModelNumDiff(PM_DAM_terminal, False)\n",
    "timeStep = 5e-2\n",
    "PM_IAM = crocoddyl.IntegratedActionModelEuler(PM_ND_R, timeStep)\n",
    "PM_IAM_T = crocoddyl.IntegratedActionModelEuler(PM_ND_T, 0.0)\n",
    "x0 = start_point\n",
    "x0 = np.array([9.5, 11.0, 0.0, 0.0])\n",
    "u0 = np.array([0.0, 0.0])\n",
    "problem = crocoddyl.ShootingProblem(x0, [PM_IAM] * T, PM_IAM_T)\n",
    "# Creating the SQP solver\n",
    "sqp = mim_solvers.SolverSQP(problem)\n",
    "sqp.setCallbacks([crocoddyl.CallbackVerbose()])\n",
    "sqp.with_callbacks=True\n",
    "sqp.termination_tolerance = 1e-5\n",
    "xs_init = [x0 for i in range(T+1)]\n",
    "us_init = [u0 for i in range(T)]\n",
    "# xs_init = [xs_optimal[i] for i in range(T+1)]\n",
    "# us_init = [us_optimal[i] for i in range(T)]\n",
    "\n",
    "# Solving this problem\n",
    "done = sqp.solve(xs_init, us_init, 500)\n",
    "xs_output = np.stack(sqp.xs.tolist().copy())\n",
    "us_output = np.stack(sqp.us.tolist().copy())"
   ]
  },
  {
   "cell_type": "code",
   "execution_count": 66,
   "id": "753d8e61-5624-4352-8d54-2bb3243dcef8",
   "metadata": {},
   "outputs": [
    {
     "name": "stdout",
     "output_type": "stream",
     "text": [
      "IRL Trajectory Cost:   4.447581796349857\n",
      "with Desired Weight:   0.6802713018196591\n",
      "with Bad Weight:       0.19407738335716718\n"
     ]
    }
   ],
   "source": [
    "print('IRL Trajectory Cost:  ', cost_set.traj_cost(xs_output, us_output, w_irl[:nr], w_irl[nr:], timeStep))\n",
    "print('with Desired Weight:  ', cost_set.traj_cost(xs_output, us_output, w_des[:nr], w_des[nr:], timeStep)) \n",
    "print('with Bad Weight:      ', cost_set.traj_cost(xs_output, us_output, w_bad[:nr], w_bad[nr:], timeStep))"
   ]
  },
  {
   "cell_type": "code",
   "execution_count": 67,
   "id": "c5a8aedc-66a7-4c74-a7a8-d284a48265f8",
   "metadata": {},
   "outputs": [
    {
     "name": "stdout",
     "output_type": "stream",
     "text": [
      "IRL Trajectory Cost:       4.447581796349857\n",
      "Desired Trajectory Cost:   0.8368197222980587\n"
     ]
    }
   ],
   "source": [
    "print('IRL Trajectory Cost:      ', cost_set.traj_cost(xs_output, us_output, w_irl[:nr], w_irl[nr:], timeStep))\n",
    "print('Desired Trajectory Cost:  ', cost_set.traj_cost(xs_optimal, us_optimal, w_des[:nr], w_des[nr:], timeStep))"
   ]
  },
  {
   "cell_type": "code",
   "execution_count": 68,
   "id": "c0856eac-418c-4e7b-bd82-c3f42c17beac",
   "metadata": {},
   "outputs": [
    {
     "name": "stdout",
     "output_type": "stream",
     "text": [
      "IRL Trajectory with Desired Cost:  0.6802713018196591\n",
      "Initial Optimal Trajectory Cost:   0.8368197222980587\n"
     ]
    }
   ],
   "source": [
    "print('IRL Trajectory with Desired Cost: ', cost_set.traj_cost(xs_output, us_output, w_des[:nr], w_des[nr:], timeStep))\n",
    "print('Initial Optimal Trajectory Cost:  ', cost_set.traj_cost(xs_optimal, us_optimal, w_des[:nr], w_des[nr:], timeStep))"
   ]
  },
  {
   "cell_type": "code",
   "execution_count": 69,
   "id": "70a71c58-f906-4408-ad61-e696fce81acd",
   "metadata": {},
   "outputs": [
    {
     "data": {
      "image/png": "[encoded data removed]",
      "text/plain": [
       "<Figure size 640x480 with 1 Axes>"
      ]
     },
     "metadata": {},
     "output_type": "display_data"
    }
   ],
   "source": [
    "plot_results(xs_optimal, xs_non_optimal_set, xs_output, obs_set, target_high)"
   ]
  },
  {
   "cell_type": "code",
   "execution_count": 70,
   "id": "56d490a2-ae96-4728-bb45-b314bbf49bab",
   "metadata": {},
   "outputs": [],
   "source": [
    "P_irl = distributions(cost_set, xs_optimal, us_optimal, xs_non_optimal_set, us_non_optimal_set, w_irl[:nr], w_irl[nr:], dt)\n",
    "P_des = distributions(cost_set, xs_optimal, us_optimal, xs_non_optimal_set, us_non_optimal_set, w_des[:nr], w_des[nr:], dt)   "
   ]
  },
  {
   "cell_type": "code",
   "execution_count": 71,
   "id": "412ec628-d7a1-4202-8fed-39f243113846",
   "metadata": {},
   "outputs": [
    {
     "data": {
      "text/plain": [
       "array([1.00000000e+000, 2.44890526e-009, 6.85076184e-104, 3.58908801e-068,\n",
       "       4.76236460e-071, 7.33484942e-034, 1.09390366e-048, 3.77715331e-009,\n",
       "       1.79828691e-291, 8.53338767e-017, 4.25394436e-026, 5.33077846e-025,\n",
       "       3.82711023e-047, 4.57765295e-138, 2.63481528e-029, 7.71706353e-162,\n",
       "       3.87490546e-099, 3.58913265e-280, 1.82269203e-261, 2.82035887e-142,\n",
       "       2.43203238e-132, 2.21381931e-050])"
      ]
     },
     "execution_count": 71,
     "metadata": {},
     "output_type": "execute_result"
    }
   ],
   "source": [
    "P_irl/np.max(P_irl)"
   ]
  },
  {
   "cell_type": "code",
   "execution_count": 72,
   "id": "3e25325c-4eac-4c4a-a61a-bb0d98a782c3",
   "metadata": {},
   "outputs": [
    {
     "data": {
      "text/plain": [
       "array([1.00000000e+00, 7.77015731e-02, 1.18168707e-05, 8.59246876e-04,\n",
       "       1.09666179e-04, 3.87313313e-02, 3.60648842e-03, 4.03000315e-01,\n",
       "       3.91775258e-14, 5.72473323e-02, 5.90265588e-03, 1.97578299e-02,\n",
       "       1.62063593e-03, 5.95012439e-07, 2.16702817e-02, 5.63155810e-08,\n",
       "       9.01814334e-06, 1.93728703e-13, 7.94225813e-13, 4.25955058e-07,\n",
       "       4.17197453e-07, 7.93713972e-04])"
      ]
     },
     "execution_count": 72,
     "metadata": {},
     "output_type": "execute_result"
    }
   ],
   "source": [
    "P_des/np.max(P_des)"
   ]
  },
  {
   "cell_type": "code",
   "execution_count": 73,
   "id": "743601be-ca63-499f-8222-a2050c840d72",
   "metadata": {},
   "outputs": [
    {
     "data": {
      "image/png": "[encoded data removed]",
      "text/plain": [
       "<Figure size 640x480 with 1 Axes>"
      ]
     },
     "metadata": {},
     "output_type": "display_data"
    }
   ],
   "source": [
    "plt.plot(-1/np.log(P_irl[1:]),label='IRL')\n",
    "plt.plot(-1/np.log(P_des[1:]),label='Desired')\n",
    "plt.legend()\n",
    "plt.title('Inverse Negative Log(P), Desired should be higher')\n",
    "plt.show()"
   ]
  },
  {
   "cell_type": "code",
   "execution_count": null,
   "id": "1c9ab6ad-9d84-486c-80ee-7f76e13d0103",
   "metadata": {},
   "outputs": [],
   "source": []
  }
 ],
 "metadata": {
  "kernelspec": {
   "display_name": "Python 3 (ipykernel)",
   "language": "python",
   "name": "python3"
  },
  "language_info": {
   "codemirror_mode": {
    "name": "ipython",
    "version": 3
   },
   "file_extension": ".py",
   "mimetype": "text/x-python",
   "name": "python",
   "nbconvert_exporter": "python",
   "pygments_lexer": "ipython3",
   "version": "3.10.12"
  }
 },
 "nbformat": 4,
 "nbformat_minor": 5
}
