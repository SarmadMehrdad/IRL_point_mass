{
 "cells": [
  {
   "cell_type": "code",
   "execution_count": 1,
   "id": "bf12eac3-e5a2-45fd-9908-0c9de011a629",
   "metadata": {},
   "outputs": [],
   "source": [
    "import crocoddyl\n",
    "import pinocchio\n",
    "from IPython.display import HTML\n",
    "import mim_solvers\n",
    "import numpy as np\n",
    "from matplotlib import animation\n",
    "from matplotlib import pyplot as plt\n",
    "from PointMass_utils import *\n",
    "from PointMass_model import DifferentialActionModelPointMass"
   ]
  },
  {
   "cell_type": "code",
   "execution_count": 2,
   "id": "39e063ef-ed83-436f-b579-fd5bda40d0c5",
   "metadata": {},
   "outputs": [],
   "source": [
    "nx = 4\n",
    "nu = 2\n",
    "T = 50\n",
    "start_point = np.array([0, 0, 0, 0])\n",
    "target_low = np.array([10, 0, 0, 0])\n",
    "target_high = np.array([10, 10, 0, 0])\n",
    "obs0 = Obstacle(10, 8, 2, 1, 'Obs0')\n",
    "obs1 = Obstacle(10, 8, 1, 2, 'Obs1')\n",
    "obs2 = Obstacle(8, 10, 1, 2, 'Obs2')\n",
    "obs3 = Obstacle(8, 8, 1, 2, 'Obs3')\n",
    "obs_set = [obs1, obs2, obs3]\n",
    "# obs_set = [obs0]\n",
    "translation_cost = XReg(nx, target_high, 'trans_high')\n",
    "xreg = XReg(nx, start_point, 'XReg')\n",
    "ureg = UReg(nu, None, 'UReg')\n",
    "\n",
    "cost_set = Costs()\n",
    "cost_set.add_cost(translation_cost)\n",
    "cost_set.add_cost(xreg)\n",
    "cost_set.add_cost(ureg)\n",
    "# cost_set.add_cost(obs0)\n",
    "cost_set.add_cost(obs1)\n",
    "cost_set.add_cost(obs2)\n",
    "cost_set.add_cost(obs3)\n",
    "\n",
    "nr = cost_set.nr"
   ]
  },
  {
   "cell_type": "code",
   "execution_count": 3,
   "id": "d94481c5-53f8-46a0-a547-b82ffc6ee5ba",
   "metadata": {},
   "outputs": [
    {
     "name": "stdout",
     "output_type": "stream",
     "text": [
      "iter     merit         cost         grad      step    ||gaps||        KKT\n",
      "   1  1.01250e+02  1.01250e+02  2.91940e+01  1.0000  0.00000e+00  9.97972e+00\n",
      "   2  3.01609e+00  3.01609e+00  5.59573e-02  1.0000  1.75138e-14  7.55501e-02\n",
      "   3  2.97331e+00  2.97331e+00  3.58745e-01  1.0000  5.06917e-11  3.11857e-01\n",
      "   4  2.77491e+00  2.77491e+00  7.12445e-01  1.0000  3.36121e-10  3.16733e-01\n",
      "   5  2.61731e+00  2.61731e+00  7.62747e-02  1.0000  1.26762e-09  3.42886e-02\n",
      "   6  2.60863e+00  2.60863e+00  6.07051e-02  1.0000  1.50395e-10  2.25152e-02\n",
      "   7  2.60256e+00  2.60256e+00  5.00395e-02  1.0000  8.99342e-11  1.57213e-02\n",
      "   8  2.59798e+00  2.59798e+00  3.02300e-01  1.0000  1.00357e-10  4.55592e-02\n",
      "   9  2.57729e+00  2.57729e+00  2.69517e-01  1.0000  8.58399e-10  1.78476e-02\n",
      "  10  2.56338e+00  2.56338e+00  2.54828e-01  1.0000  6.00672e-10  7.75933e-03\n",
      "iter     merit         cost         grad      step    ||gaps||        KKT\n",
      "  11  2.55130e+00  2.55130e+00  2.53501e-02  1.0000  5.87056e-10  1.74906e-03\n",
      "  12  2.55013e+00  2.55013e+00  2.52245e-02  1.0000  6.72002e-11  1.73647e-03\n",
      "  13  2.54898e+00  2.54898e+00  2.50985e-02  1.0000  6.08280e-11  1.72531e-03\n",
      "  14  2.54783e+00  2.54783e+00  2.49722e-02  1.0000  5.13275e-11  1.71538e-03\n",
      "  15  2.54670e+00  2.54670e+00  2.48458e-02  1.0000  6.56180e-11  1.70652e-03\n",
      "  16  2.54558e+00  2.54558e+00  2.47195e-02  1.0000  6.19267e-11  1.69857e-03\n",
      "  17  2.54447e+00  2.54447e+00  2.45935e-02  1.0000  6.48331e-11  1.69140e-03\n",
      "  18  2.54337e+00  2.54337e+00  2.44689e-02  1.0000  6.68564e-11  1.68487e-03\n",
      "  19  2.54228e+00  2.54228e+00  2.43455e-02  1.0000  5.81496e-11  1.67889e-03\n",
      "  20  2.54120e+00  2.54120e+00  2.42229e-02  1.0000  4.52809e-11  1.67337e-03\n",
      "iter     merit         cost         grad      step    ||gaps||        KKT\n",
      "  21  2.54012e+00  2.54012e+00  2.41093e-02  1.0000  5.54994e-11  1.66802e-03\n",
      "  22  2.53906e+00  2.53906e+00  2.40048e-02  1.0000  6.46676e-11  1.66278e-03\n",
      "  23  2.53801e+00  2.53801e+00  2.38956e-02  1.0000  5.63988e-11  1.65803e-03\n",
      "  24  2.53696e+00  2.53696e+00  2.37871e-02  1.0000  5.79760e-11  1.65359e-03\n",
      "  25  2.53592e+00  2.53592e+00  2.36793e-02  1.0000  6.31748e-11  1.64942e-03\n",
      "  26  2.53489e+00  2.53489e+00  2.35723e-02  1.0000  6.32808e-11  1.64549e-03\n",
      "  27  2.53387e+00  2.53387e+00  2.34661e-02  1.0000  5.51487e-11  1.64175e-03\n",
      "  28  2.53285e+00  2.53285e+00  2.33608e-02  1.0000  6.40617e-11  1.63819e-03\n",
      "  29  2.53185e+00  2.53185e+00  2.32565e-02  1.0000  6.32518e-11  1.63481e-03\n",
      "  30  2.53085e+00  2.53085e+00  2.31531e-02  1.0000  5.70278e-11  1.63159e-03\n",
      "iter     merit         cost         grad      step    ||gaps||        KKT\n",
      "  31  2.52985e+00  2.52985e+00  2.30508e-02  1.0000  5.83202e-11  1.62858e-03\n",
      "  32  2.52887e+00  2.52887e+00  2.29496e-02  1.0000  6.17019e-11  1.62585e-03\n",
      "  33  2.52789e+00  2.52789e+00  2.28496e-02  1.0000  6.34185e-11  1.62459e-03\n",
      "  34  2.52692e+00  2.52692e+00  2.27512e-02  1.0000  4.84267e-11  1.62444e-03\n",
      "  35  2.52595e+00  2.52595e+00  2.26582e-02  1.0000  6.26242e-11  1.62679e-03\n",
      "  36  2.52499e+00  2.52499e+00  2.26016e-02  1.0000  5.70140e-11  1.77429e-03\n",
      "  37  2.52404e+00  2.52404e+00  2.28886e-02  1.0000  5.87739e-11  4.99422e-03\n",
      "  38  2.52308e+00  2.52308e+00  2.51081e-02  1.0000  6.09295e-11  1.84663e-02\n",
      "  39  2.52205e+00  2.52205e+00  3.90003e-02  1.0000  5.56942e-11  8.06165e-02\n",
      "  40  2.52027e+00  2.52027e+00  3.86087e-02  1.0000  6.25043e-11  3.88042e-02\n",
      "iter     merit         cost         grad      step    ||gaps||        KKT\n",
      "  41  2.51812e+00  2.51812e+00  3.82760e-02  1.0000  6.13735e-11  2.11320e-02\n",
      "  42  2.51600e+00  2.51600e+00  3.69503e-02  1.0000  7.66167e-11  1.29125e-02\n",
      "  43  2.51397e+00  2.51397e+00  1.43634e+00  1.0000  7.09818e-11  9.71145e-01\n",
      "  44  2.50185e+00  2.50185e+00  3.68909e+00  1.0000  2.74605e-09  2.70607e-01\n",
      "  45  2.24477e+00  2.24477e+00  1.80280e+00  1.0000  6.36260e-09  6.85748e-02\n",
      "  46  2.14504e+00  2.14504e+00  1.44285e+00  1.0000  3.93020e-09  1.95979e-02\n",
      "  47  2.08605e+00  2.08605e+00  1.17217e+00  1.0000  4.08778e-09  1.68335e-02\n",
      "  48  2.04677e+00  2.04677e+00  5.85674e+00  1.0000  2.87485e-09  1.54758e-01\n",
      "  49  1.88974e+00  1.88974e+00  2.13231e+00  1.0000  1.10997e-08  2.29848e-01\n",
      "  50  1.80773e+00  1.80773e+00  9.92720e+00  1.0000  3.12413e-09  1.41366e-01\n",
      "iter     merit         cost         grad      step    ||gaps||        KKT\n",
      "  51  1.55255e+00  1.55255e+00  1.23827e+01  1.0000  1.61473e-08  1.13700e-01\n",
      "  52  1.53881e+00  1.53881e+00  1.03022e+01  1.0000  2.72626e-08  2.64779e-02\n",
      "  53  1.63732e+00  1.63732e+00  1.39848e+01  1.0000  2.23937e-08  6.68258e-02\n",
      "  54  1.59156e+00  1.59156e+00  1.61556e+01  0.5000  2.72590e-08  6.94618e-02\n",
      "  55  1.54767e+00  1.54767e+00  2.70135e+00  1.0000  2.26466e-08  2.73260e-02\n",
      "  56  1.49560e+00  1.49560e+00  3.37855e+00  1.0000  6.67118e-09  1.59830e-02\n",
      "  57  1.48874e+00  1.48874e+00  1.42423e+00  1.0000  8.84936e-09  9.77654e-04\n",
      "  58  1.48805e+00  1.48805e+00  1.45725e-01  1.0000  3.15056e-09  2.41522e-04\n",
      "True END  1.48804e+00  1.48804e+00  3.51129e-03   ----   3.29212e-10  7.77019e-06\n",
      "\n"
     ]
    }
   ],
   "source": [
    "# Desired Running and Terminal Model\n",
    "w_run = np.array([10, 1., 1., 1000, 1000, 1000])\n",
    "w_term = np.array([2000, 1., 1., 1000, 1000, 1000])\n",
    "# w_des = np.hstack([w_run, w_term])\n",
    "w_des = (np.hstack([w_run, w_term])/(np.max(np.hstack([w_run, w_term])))).copy()\n",
    "# w_des = (np.hstack([w_run, w_term])/(np.linalg.norm(np.hstack([w_run, w_term])))).copy()\n",
    "w_run = w_des[:nr]; w_term = w_des[nr:]\n",
    "PM_DAM_running = DifferentialActionModelPointMass(cost_set, w_run)\n",
    "PM_DAM_terminal = DifferentialActionModelPointMass(cost_set, w_term)\n",
    "pmDataRunning = PM_DAM_running.createData()\n",
    "pmDataTerminal = PM_DAM_terminal.createData()\n",
    "PM_ND_R = crocoddyl.DifferentialActionModelNumDiff(PM_DAM_running, False)\n",
    "PM_ND_T = crocoddyl.DifferentialActionModelNumDiff(PM_DAM_terminal, False)\n",
    "timeStep = 5e-2\n",
    "PM_IAM = crocoddyl.IntegratedActionModelEuler(PM_ND_R, timeStep)\n",
    "PM_IAM_T = crocoddyl.IntegratedActionModelEuler(PM_ND_T, 0.0)\n",
    "x0 = start_point\n",
    "u0 = np.array([0.0, 0.0])\n",
    "problem = crocoddyl.ShootingProblem(x0, [PM_IAM] * T, PM_IAM_T)\n",
    "# Creating the SQP solver\n",
    "sqp_opt = mim_solvers.SolverSQP(problem)\n",
    "sqp_opt.setCallbacks([crocoddyl.CallbackVerbose()])\n",
    "sqp_opt.with_callbacks=True\n",
    "sqp_opt.termination_tolerance = 1e-5\n",
    "xs_init = [x0 for i in range(T+1)]\n",
    "us_init = [u0 for i in range(T)]\n",
    "\n",
    "# Solving this problem\n",
    "done = sqp_opt.solve(xs_init, us_init, 500)\n",
    "xs_optimal = np.stack(sqp_opt.xs.tolist().copy())\n",
    "us_optimal = np.stack(sqp_opt.us.tolist().copy())\n",
    "print(done)"
   ]
  },
  {
   "cell_type": "code",
   "execution_count": 4,
   "id": "ca0bbc3d-1690-48d6-b939-66b562f26092",
   "metadata": {},
   "outputs": [],
   "source": [
    "# HTML(animatePointMass(xs_optimal, obs_set, target_high).to_jshtml())"
   ]
  },
  {
   "cell_type": "code",
   "execution_count": 5,
   "id": "3fdb9583-1200-4b0f-b1de-fafad7075033",
   "metadata": {},
   "outputs": [
    {
     "data": {
      "image/png": "[encoded data removed]",
      "text/plain": [
       "<Figure size 640x480 with 1 Axes>"
      ]
     },
     "metadata": {},
     "output_type": "display_data"
    }
   ],
   "source": [
    "plot_1_traj(xs_optimal, obs_set, target_high, label='Optimal', linemap = 'b')"
   ]
  },
  {
   "cell_type": "code",
   "execution_count": 6,
   "id": "35751564-117c-4a16-98fc-b5393bfb806f",
   "metadata": {},
   "outputs": [
    {
     "name": "stdout",
     "output_type": "stream",
     "text": [
      "iter     merit         cost         grad      step    ||gaps||        KKT\n",
      "   1  1.02500e+02  1.02500e+02  2.91355e+01  1.0000  0.00000e+00  9.95982e+00\n",
      "True\n",
      " END  1.57572e+00  1.57572e+00  1.18130e-04   ----   2.33424e-14  1.58227e-06\n"
     ]
    }
   ],
   "source": [
    "# Bad Running and Terminal Model\n",
    "w_run = np.array([10, 1., 1., 0., 0., 0.])\n",
    "w_term = np.array([1000, 1., 1., 0., 0., 0.])\n",
    "# w_bad = np.hstack([w_run, w_term])\n",
    "w_bad = (np.hstack([w_run, w_term])/(np.max(np.hstack([w_run, w_term])))).copy()\n",
    "# w_bad = (np.hstack([w_run, w_term])/(np.linalg.norm(np.hstack([w_run, w_term])))).copy()\n",
    "w_run = w_bad[:nr]; w_term = w_bad[nr:]\n",
    "PM_DAM_running = DifferentialActionModelPointMass(cost_set, w_run)\n",
    "PM_DAM_terminal = DifferentialActionModelPointMass(cost_set, w_term)\n",
    "pmDataRunning = PM_DAM_running.createData()\n",
    "pmDataTerminal = PM_DAM_terminal.createData()\n",
    "PM_ND_R = crocoddyl.DifferentialActionModelNumDiff(PM_DAM_running, False)\n",
    "PM_ND_T = crocoddyl.DifferentialActionModelNumDiff(PM_DAM_terminal, False)\n",
    "timeStep = 5e-2\n",
    "PM_IAM = crocoddyl.IntegratedActionModelEuler(PM_ND_R, timeStep)\n",
    "PM_IAM_T = crocoddyl.IntegratedActionModelEuler(PM_ND_T, 0.0)\n",
    "x0 = start_point\n",
    "u0 = np.array([0.0, 0.0])\n",
    "problem = crocoddyl.ShootingProblem(x0, [PM_IAM] * T, PM_IAM_T)\n",
    "# Creating the SQP solver\n",
    "sqp_non_opt = mim_solvers.SolverSQP(problem)\n",
    "sqp_non_opt.setCallbacks([crocoddyl.CallbackVerbose()])\n",
    "sqp_non_opt.with_callbacks=True\n",
    "sqp_non_opt.termination_tolerance = 1e-5\n",
    "xs_init = [x0 for i in range(T+1)]\n",
    "us_init = [u0 for i in range(T)]\n",
    "\n",
    "# Solving this problem\n",
    "done = sqp_non_opt.solve(xs_init, us_init, 500)\n",
    "xs_non_optimal = np.stack(sqp_non_opt.xs.tolist().copy())\n",
    "us_non_optimal = np.stack(sqp_non_opt.us.tolist().copy())\n",
    "print(done)\n"
   ]
  },
  {
   "cell_type": "code",
   "execution_count": 7,
   "id": "67e75e9f-cc45-447f-9511-275d9b0cfb03",
   "metadata": {},
   "outputs": [],
   "source": [
    "# HTML(animatePointMass(xs_non_optimal, obs_set, target_high).to_jshtml())"
   ]
  },
  {
   "cell_type": "code",
   "execution_count": 8,
   "id": "ebdf76ce-5579-406d-ac64-7cbafca0b8c3",
   "metadata": {},
   "outputs": [
    {
     "data": {
      "image/png": "[encoded data removed]",
      "text/plain": [
       "<Figure size 640x480 with 1 Axes>"
      ]
     },
     "metadata": {},
     "output_type": "display_data"
    }
   ],
   "source": [
    "plot_1_traj(xs_non_optimal, obs_set, target_high, label='Non-Optimal', linemap = 'r')"
   ]
  },
  {
   "cell_type": "code",
   "execution_count": 9,
   "id": "54396499-fcd4-4fa1-8eb4-a2d03fbfee5c",
   "metadata": {},
   "outputs": [
    {
     "name": "stdout",
     "output_type": "stream",
     "text": [
      "Desired Trajectory Cost:   1.4880389633500672  || other Trajectory, same cost:    3.0567155566599604\n",
      "Bad Trajectory Cost:       1.5757213680064326  || other Trajectory, same cost:    2.3730406817074345\n"
     ]
    }
   ],
   "source": [
    "print('Desired Trajectory Cost:  ', cost_set.traj_cost(xs_optimal, us_optimal, w_des[:nr], w_des[nr:], timeStep), ' || other Trajectory, same cost:   ', cost_set.traj_cost(xs_non_optimal, us_non_optimal, w_des[:nr], w_des[nr:], timeStep))\n",
    "print('Bad Trajectory Cost:      ', cost_set.traj_cost(xs_non_optimal, us_non_optimal, w_bad[:nr], w_bad[nr:], timeStep), ' || other Trajectory, same cost:   ', cost_set.traj_cost(xs_optimal, us_optimal, w_bad[:nr], w_bad[nr:], timeStep))"
   ]
  },
  {
   "cell_type": "code",
   "execution_count": 10,
   "id": "3aa27aa7-611a-41fb-9912-255ea825acbc",
   "metadata": {},
   "outputs": [],
   "source": [
    "###### IRL #######"
   ]
  },
  {
   "cell_type": "code",
   "execution_count": 11,
   "id": "605a80bc-c803-48ce-9422-09fc597284c4",
   "metadata": {},
   "outputs": [],
   "source": [
    "# generating bad trajectories\n",
    "num_bad = 10\n",
    "scales = 5.0\n",
    "xs_non_optimal_set = []\n",
    "us_non_optimal_set = []\n",
    "xs_non_optimal_set.append(np.stack(xs_non_optimal.tolist()).copy())\n",
    "us_non_optimal_set.append(np.stack(us_non_optimal.tolist()).copy())\n",
    "for _ in range(num_bad):\n",
    "    # # Get one non-optimal sample from non-optimal demo\n",
    "    Us = us_non_optimal.copy()+np.random.normal(0,scales,np.stack(us_non_optimal.tolist()).shape)\n",
    "    us_non_optimal_set.append(Us)\n",
    "    xs_non_optimal_set.append(np.stack(problem.rollout([Us[i] for i in range(T)])))\n",
    "    # # Get one non-optimal sample from optimal demo\n",
    "    Us = us_optimal.copy()+np.random.normal(0,scales,np.stack(us_non_optimal.tolist()).shape)\n",
    "    us_non_optimal_set.append(Us)\n",
    "    xs_non_optimal_set.append(np.stack(problem.rollout([Us[i] for i in range(T)])))"
   ]
  },
  {
   "cell_type": "code",
   "execution_count": 12,
   "id": "f9b5271a-57f8-4697-b4df-b786ddc5832f",
   "metadata": {},
   "outputs": [
    {
     "name": "stdout",
     "output_type": "stream",
     "text": [
      "0.22581505321409506\n",
      "Modified:  0.9160517643034812 Original:  0.20685827790305628\n",
      "Modified:  0.003454940266531608 Original:  0.0007801775201383549\n",
      "Modified:  3.1306256905791037e-06 Original:  7.069424069115334e-07\n",
      "Modified:  0.06898455969521959 Original:  0.015577752018526929\n",
      "Modified:  0.006261629876278309 Original:  0.0014139702837187539\n",
      "Modified:  0.00048389298726812276 Original:  0.00010927032066987857\n",
      "Modified:  0.03042998553752142 Original:  0.006871548803459543\n",
      "Modified:  4.410541001748438e-11 Original:  9.959665510127716e-12\n",
      "Modified:  9.442362099012943e-08 Original:  2.132227499855362e-08\n",
      "Modified:  4.961880664979069e-05 Original:  1.1204673464042378e-05\n",
      "Modified:  0.01785351068082858 Original:  0.00403159146444972\n",
      "Modified:  1.3491476432831539e-06 Original:  3.0465784686165633e-07\n",
      "Modified:  0.03628533578936201 Original:  0.00819377503216609\n",
      "Modified:  0.017287797638686802 Original:  0.003903844943734567\n",
      "Modified:  0.007140379916262183 Original:  0.0016124052707596004\n",
      "Modified:  0.004492101208802861 Original:  0.001014384073508919\n",
      "Modified:  0.004862106662699781 Original:  0.0010979368747701572\n",
      "Modified:  0.0010911693095402987 Original:  0.0002464024556994299\n",
      "Modified:  6.638234915289626e-08 Original:  1.499013370643791e-08\n",
      "Modified:  0.02854455299990848 Original:  0.0064457897546468905\n",
      "Modified:  1.3707653703742503e-07 Original:  3.0953945505510004e-08\n"
     ]
    }
   ],
   "source": [
    "opt_cost = np.exp(-cost_set.traj_cost(xs_optimal,us_optimal,w_des[:nr], w_des[nr:], timeStep))\n",
    "print(opt_cost)\n",
    "for X, U in zip(xs_non_optimal_set, us_non_optimal_set):\n",
    "    print('Modified: ', np.exp(-cost_set.traj_cost(X,U,w_bad[:nr], w_bad[nr:], timeStep))/opt_cost, \n",
    "         'Original: ', np.exp(-cost_set.traj_cost(X,U,w_bad[:nr], w_bad[nr:], timeStep)))"
   ]
  },
  {
   "cell_type": "code",
   "execution_count": 13,
   "id": "9904e761-7547-427c-ab51-4cc1dfb70afc",
   "metadata": {},
   "outputs": [],
   "source": [
    "# IRL Algorithm\n",
    "from scipy.optimize import minimize\n",
    "from scipy.optimize import Bounds\n",
    "\n",
    "def fcn_w(x, cost_set, xs_optimal, us_optimal, xs_non_optimal_set, us_non_optimal_set, dt, Lambda = 0.001):\n",
    "    # x /= np.linalg.norm(x)\n",
    "    nr = cost_set.nr\n",
    "    output = 0\n",
    "    num = np.nextafter(0,1)\n",
    "    den = np.nextafter(0,1)\n",
    "    num += np.exp(-cost_set.traj_cost(xs_optimal, us_optimal, x[:nr], x[nr:], dt))\n",
    "    den += num\n",
    "    for Xs, Us in zip(xs_non_optimal_set, us_non_optimal_set):\n",
    "        den += np.exp(-cost_set.traj_cost(Xs, Us, x[:nr], x[nr:], dt))\n",
    "    output -= np.log(num/den)\n",
    "    output += Lambda*np.linalg.norm(x)\n",
    "    return output\n",
    "\n",
    "def fcn_w_nSamples(x, cost_set, xs_optimal, us_optimal, xs_non_optimal_set, us_non_optimal_set, dt, samples, Lambda = 0.001):\n",
    "    nr = cost_set.nr\n",
    "    num_samples = samples # Have these number of samples per trajectory equidistantly starting from the beginning\n",
    "    output = 0\n",
    "    for i in np.int32(np.linspace(0, len(xs_optimal), num=num_samples+1))[:-1]:\n",
    "        num = np.nextafter(0,1)\n",
    "        den = np.nextafter(0,1)\n",
    "        X_opt = xs_optimal[i:].copy(); U_opt = us_optimal[i:].copy()\n",
    "        num += np.exp(-cost_set.traj_cost(X_opt, U_opt, x[:nr], x[nr:], dt))\n",
    "        den += num\n",
    "        for Xs, Us in zip(xs_non_optimal_set, us_non_optimal_set):\n",
    "            X_nopt = Xs[i:].copy(); U_nopt = Us[i:].copy()\n",
    "            den += np.max([np.nextafter(0,1), np.exp(-cost_set.traj_cost(X_nopt, U_nopt, x[:nr], x[nr:], dt))])\n",
    "        output -= np.log(num/den)\n",
    "    output += Lambda*np.linalg.norm(x)\n",
    "    return output\n",
    "\n",
    "def fcn_w_cum(x, cost_set, xs_optimal, us_optimal, xs_non_optimal_set, us_non_optimal_set, dt, Lambda = 0.001):\n",
    "    return True\n",
    "\n",
    "# def fcn_w_nD(x, cost_set, xs_optimal_set, us_optimal_set, xs_non_optimal_set, us_non_optimal_set, dt, Lambda = 0.001):\n",
    "#     # x /= np.linalg.norm(x)\n",
    "#     nr = cost_set.nr\n",
    "#     output = 0\n",
    "#     for Xs_opt, Us_opt in zip(xs_optimal_set, us_optimal_set):\n",
    "#         num = np.nextafter(0,1)\n",
    "#         den = np.nextafter(0,1)\n",
    "#         num += np.exp(-cost_set.traj_cost(Xs_opt, Us_opt, x[:nr], x[nr:], dt))\n",
    "#         den += num\n",
    "#         for Xs, Us in zip(xs_non_optimal_set, us_non_optimal_set):\n",
    "#             den += np.exp(-cost_set.traj_cost(Xs, Us, x[:nr], x[nr:], dt))\n",
    "#         output -= np.log(num/den)\n",
    "    \n",
    "#     output += Lambda*np.linalg.norm(x)\n",
    "#     return output\n",
    "\n"
   ]
  },
  {
   "cell_type": "code",
   "execution_count": 37,
   "id": "f6085ced-6509-44e5-a8e9-7a3b56604fd5",
   "metadata": {},
   "outputs": [
    {
     "name": "stdout",
     "output_type": "stream",
     "text": [
      "RUNNING THE L-BFGS-B CODE\n",
      "\n",
      "           * * *\n",
      "\n",
      "Machine precision = 2.220D-16\n",
      " N =           12     M =           10\n",
      "\n",
      "At X0        12 variables are exactly at the bounds\n",
      "\n",
      "At iterate    0    f=  3.09104D+00    |proj g|=  9.37833D+00\n",
      "\n",
      "At iterate    1    f=  2.97455D+00    |proj g|=  6.66600D+00\n",
      "\n",
      "At iterate    2    f=  2.69399D+00    |proj g|=  5.49854D+00\n",
      "\n",
      "At iterate    3    f=  1.87954D+00    |proj g|=  2.68892D+00\n",
      "\n",
      "At iterate    4    f=  1.42344D+00    |proj g|=  1.50817D+00\n",
      "\n",
      "At iterate    5    f=  1.06499D+00    |proj g|=  8.99668D-01\n",
      "\n",
      "At iterate    6    f=  8.54075D-01    |proj g|=  9.02848D-01\n",
      "\n",
      "At iterate    7    f=  6.90187D-01    |proj g|=  8.48270D-01\n",
      "\n",
      "At iterate    8    f=  5.18928D-01    |proj g|=  7.19646D-01\n",
      "\n",
      "At iterate    9    f=  4.97619D-01    |proj g|=  7.01667D-01\n",
      "\n",
      "At iterate   10    f=  3.80384D-01    |proj g|=  5.75223D-01\n",
      "\n",
      "At iterate   11    f=  2.21351D-01    |proj g|=  3.60713D-01\n",
      "\n",
      "At iterate   12    f=  8.63678D-02    |proj g|=  1.48981D-01\n",
      "\n",
      "At iterate   13    f=  4.40104D-02    |proj g|=  7.61315D-02\n",
      "\n",
      "At iterate   14    f=  2.22230D-02    |proj g|=  3.71641D-02\n",
      "\n",
      "At iterate   15    f=  1.22629D-02    |proj g|=  1.88041D-02\n",
      "\n",
      "At iterate   16    f=  7.42282D-03    |proj g|=  9.56162D-03\n",
      "\n",
      "At iterate   17    f=  5.16660D-03    |proj g|=  4.99196D-03\n",
      "\n",
      "At iterate   18    f=  4.15866D-03    |proj g|=  2.71335D-03\n",
      "\n",
      "At iterate   19    f=  3.75551D-03    |proj g|=  1.58895D-03\n",
      "\n",
      "At iterate   20    f=  3.62491D-03    |proj g|=  1.04943D-03\n",
      "\n",
      "At iterate   21    f=  3.59670D-03    |proj g|=  8.14495D-04\n",
      "\n",
      "At iterate   22    f=  3.59375D-03    |proj g|=  7.36355D-04\n",
      "\n",
      "At iterate   23    f=  3.59363D-03    |proj g|=  7.21466D-04\n",
      "\n",
      "At iterate   24    f=  3.59359D-03    |proj g|=  7.17777D-04\n",
      "\n",
      "At iterate   25    f=  3.59331D-03    |proj g|=  7.03764D-04\n",
      "\n",
      "At iterate   26    f=  3.59272D-03    |proj g|=  6.84739D-04\n",
      "\n",
      "At iterate   27    f=  3.59117D-03    |proj g|=  6.55154D-04\n",
      "\n",
      "At iterate   28    f=  3.58708D-03    |proj g|=  6.07835D-04\n",
      "\n",
      "At iterate   29    f=  3.57672D-03    |proj g|=  5.36409D-04\n",
      "\n",
      "At iterate   30    f=  3.55069D-03    |proj g|=  4.34395D-04\n",
      "\n",
      "At iterate   31    f=  3.48485D-03    |proj g|=  2.96198D-04\n",
      "\n",
      "At iterate   32    f=  3.32214D-03    |proj g|=  1.39024D-04\n",
      "\n",
      "At iterate   33    f=  2.89677D-03    |proj g|=  9.97346D-05\n",
      "\n",
      "At iterate   34    f=  1.46926D-03    |proj g|=  8.18368D-05\n",
      "\n",
      "At iterate   35    f=  1.26599D-03    |proj g|=  6.48472D-05\n",
      "\n",
      "At iterate   36    f=  7.50075D-04    |proj g|=  4.36867D-05\n",
      "\n",
      "At iterate   37    f=  7.24996D-04    |proj g|=  1.08645D-04\n",
      "\n",
      "At iterate   38    f=  7.24794D-04    |proj g|=  4.91223D-05\n",
      "\n",
      "At iterate   39    f=  7.24363D-04    |proj g|=  7.07157D-05\n",
      "\n",
      "At iterate   40    f=  7.24330D-04    |proj g|=  7.70509D-05\n",
      "\n",
      "At iterate   41    f=  7.24186D-04    |proj g|=  8.78224D-05\n",
      "\n",
      "At iterate   42    f=  7.24012D-04    |proj g|=  7.91333D-05\n",
      "\n",
      "At iterate   43    f=  7.23685D-04    |proj g|=  3.68684D-05\n",
      "\n",
      "At iterate   44    f=  7.23482D-04    |proj g|=  7.15118D-06\n",
      "\n",
      "At iterate   45    f=  7.23350D-04    |proj g|=  1.99186D-05\n",
      "\n",
      "At iterate   46    f=  7.23161D-04    |proj g|=  3.45592D-05\n",
      "\n",
      "At iterate   47    f=  7.22987D-04    |proj g|=  3.25096D-05\n",
      "\n",
      "At iterate   48    f=  7.22866D-04    |proj g|=  1.36617D-05\n",
      "\n",
      "At iterate   49    f=  7.22817D-04    |proj g|=  7.17500D-06\n",
      "\n",
      "At iterate   50    f=  7.22801D-04    |proj g|=  1.17363D-05\n",
      "\n",
      "At iterate   51    f=  7.22714D-04    |proj g|=  2.86218D-05\n",
      "\n",
      "At iterate   52    f=  7.22569D-04    |proj g|=  4.26699D-05\n",
      "\n",
      "At iterate   53    f=  7.22187D-04    |proj g|=  5.78898D-05\n",
      "\n",
      "At iterate   54    f=  7.21628D-04    |proj g|=  5.12226D-05\n",
      "\n",
      "At iterate   55    f=  7.21058D-04    |proj g|=  1.07995D-05\n",
      "\n",
      "At iterate   56    f=  7.20850D-04    |proj g|=  2.30776D-05\n",
      "\n",
      "At iterate   57    f=  7.20788D-04    |proj g|=  3.83262D-05\n",
      "\n",
      "At iterate   58    f=  7.20760D-04    |proj g|=  4.02976D-05\n",
      "\n",
      "At iterate   59    f=  7.20636D-04    |proj g|=  2.84872D-05\n",
      "\n",
      "At iterate   60    f=  7.20562D-04    |proj g|=  7.27239D-06\n",
      "\n",
      "At iterate   61    f=  7.20558D-04    |proj g|=  2.48086D-06\n",
      "\n",
      "At iterate   62    f=  7.20556D-04    |proj g|=  2.56366D-06\n",
      "\n",
      "At iterate   63    f=  7.20554D-04    |proj g|=  3.75608D-06\n",
      "\n",
      "At iterate   64    f=  7.20551D-04    |proj g|=  6.28494D-06\n",
      "\n",
      "At iterate   65    f=  7.20545D-04    |proj g|=  8.40603D-06\n",
      "\n",
      "At iterate   66    f=  7.20532D-04    |proj g|=  1.08983D-05\n",
      "\n",
      "At iterate   67    f=  7.20522D-04    |proj g|=  8.64720D-06\n",
      "\n",
      "At iterate   68    f=  7.20518D-04    |proj g|=  4.82257D-06\n",
      "\n",
      "At iterate   69    f=  7.20515D-04    |proj g|=  7.32942D-07\n",
      "\n",
      "At iterate   70    f=  7.20513D-04    |proj g|=  3.34032D-07\n",
      "\n",
      "At iterate   71    f=  7.20510D-04    |proj g|=  9.41196D-07\n",
      "\n",
      "At iterate   72    f=  7.20509D-04    |proj g|=  2.60349D-07\n",
      "\n",
      "At iterate   73    f=  7.20509D-04    |proj g|=  2.61867D-07\n",
      "\n",
      "At iterate   74    f=  7.20509D-04    |proj g|=  3.18333D-07\n",
      "\n",
      "At iterate   75    f=  7.20509D-04    |proj g|=  2.59905D-07\n",
      "\n",
      "At iterate   76    f=  7.20509D-04    |proj g|=  2.81795D-07\n",
      "\n",
      "At iterate   77    f=  7.20509D-04    |proj g|=  5.70605D-07\n",
      "\n",
      "At iterate   78    f=  7.20508D-04    |proj g|=  1.35957D-06\n",
      "\n",
      "At iterate   79    f=  7.20507D-04    |proj g|=  4.74922D-06\n",
      "\n",
      "At iterate   80    f=  7.20506D-04    |proj g|=  3.29259D-06\n",
      "\n",
      "At iterate   81    f=  7.20506D-04    |proj g|=  1.09089D-06\n",
      "\n",
      "At iterate   82    f=  7.20506D-04    |proj g|=  1.76963D-07\n",
      "\n",
      "At iterate   83    f=  7.20506D-04    |proj g|=  2.09153D-07\n",
      "\n",
      "At iterate   84    f=  7.20506D-04    |proj g|=  1.89800D-07\n",
      "\n",
      "At iterate   85    f=  7.20506D-04    |proj g|=  1.90299D-07\n",
      "\n",
      "At iterate   86    f=  7.20505D-04    |proj g|=  1.91264D-07\n",
      "\n",
      "At iterate   87    f=  7.20505D-04    |proj g|=  2.58647D-07\n",
      "\n",
      "At iterate   88    f=  7.20505D-04    |proj g|=  1.86570D-07\n",
      "\n",
      "At iterate   89    f=  7.20505D-04    |proj g|=  4.86286D-07\n",
      "\n",
      "At iterate   90    f=  7.20505D-04    |proj g|=  7.97257D-07\n",
      "\n",
      "At iterate   91    f=  7.20505D-04    |proj g|=  6.41587D-07\n",
      "\n",
      "At iterate   92    f=  7.20505D-04    |proj g|=  7.02671D-08\n",
      "\n",
      "At iterate   93    f=  7.20505D-04    |proj g|=  3.00324D-08\n",
      "\n",
      "At iterate   94    f=  7.20505D-04    |proj g|=  5.89264D-08\n",
      "\n",
      "At iterate   95    f=  7.20505D-04    |proj g|=  8.11959D-08\n",
      "\n",
      "At iterate   96    f=  7.20505D-04    |proj g|=  4.77591D-08\n",
      "\n",
      "At iterate   97    f=  7.20505D-04    |proj g|=  2.86771D-08\n",
      "\n",
      "At iterate   98    f=  7.20505D-04    |proj g|=  3.97902D-08\n",
      "\n",
      "At iterate   99    f=  7.20505D-04    |proj g|=  3.53992D-08\n",
      "  message: STOP: TOTAL NO. of ITERATIONS REACHED LIMIT\n",
      "  success: False\n",
      "   status: 1\n",
      "      fun: 0.0007205052143068357\n",
      "        x: [ 0.000e+00  0.000e+00  0.000e+00  1.792e+00  2.097e+00\n",
      "             4.261e+00  3.986e+00  4.145e-02  0.000e+00  7.036e-01\n",
      "             1.098e+00  7.425e-02]\n",
      "      nit: 100\n",
      "      jac: [ 1.102e-03  2.673e-03  5.881e-03 -2.906e-09 -9.140e-09\n",
      "            -1.025e-08  4.651e-08 -1.448e-08  0.000e+00 -8.153e-09\n",
      "             1.735e-08 -4.911e-09]\n",
      "     nfev: 1651\n",
      "     njev: 127\n",
      " hess_inv: <12x12 LbfgsInvHessProduct with dtype=float64>\n",
      "\n",
      "At iterate  100    f=  7.20505D-04    |proj g|=  4.65123D-08\n",
      "\n",
      "           * * *\n",
      "\n",
      "Tit   = total number of iterations\n",
      "Tnf   = total number of function evaluations\n",
      "Tnint = total number of segments explored during Cauchy searches\n",
      "Skip  = number of BFGS updates skipped\n",
      "Nact  = number of active bounds at final generalized Cauchy point\n",
      "Projg = norm of the final projected gradient\n",
      "F     = final function value\n",
      "\n",
      "           * * *\n",
      "\n",
      "   N    Tit     Tnf  Tnint  Skip  Nact     Projg        F\n",
      "   12    100    127    106     0     4   4.651D-08   7.205D-04\n",
      "  F =   7.2050521430683571E-004\n",
      "\n",
      "STOP: TOTAL NO. of ITERATIONS REACHED LIMIT                 \n"
     ]
    }
   ],
   "source": [
    "dt = timeStep\n",
    "Lambda = 0.0001\n",
    "lb = 0.0; ub = np.inf\n",
    "bnds = Bounds(lb, ub)\n",
    "options = {'maxiter': 100, 'iprint': 1,'ftol': 1e-15 ,'gtol' : 1e-15}\n",
    "tol = 1e-15\n",
    "samples = 1\n",
    "# w0 = w_bad\n",
    "w0 = np.zeros_like(w_bad)\n",
    "# w0 = w_des\n",
    "# w0 = 10*np.ones_like(w_bad)\n",
    "\n",
    "# 1 Optimal Demo\n",
    "args=(cost_set, xs_optimal, us_optimal, xs_non_optimal_set, us_non_optimal_set, dt, Lambda)\n",
    "res = minimize(fcn_w, \n",
    "               w0, \n",
    "               args, \n",
    "               bounds=bnds, \n",
    "               method='L-BFGS-B', \n",
    "               tol = tol,\n",
    "               options=options)\n",
    "print(res)\n",
    "\n",
    "# 1 Optimal Demo, Multiple Samples\n",
    "# args=(cost_set, xs_optimal, us_optimal, xs_non_optimal_set, us_non_optimal_set, dt, samples, Lambda)\n",
    "# res = minimize(fcn_w_nSamples, \n",
    "#                w0, \n",
    "#                args, \n",
    "#                bounds=bnds, \n",
    "#                method='L-BFGS-B', \n",
    "#                tol = tol,\n",
    "#                options=options)\n",
    "# print(res)\n",
    "\n",
    "\n",
    "# WIRL = []\n",
    "# for i in range(1,len(xs_non_optimal_set)):\n",
    "#     xs_no_subset = xs_non_optimal_set[:i]\n",
    "#     us_no_subset = us_non_optimal_set[:i]\n",
    "#     res = minimize(fcn_w, \n",
    "#                    w0, \n",
    "#                    args=(cost_set, xs_optimal, us_optimal, xs_no_subset, us_no_subset, dt, Lambda), \n",
    "#                    bounds=bnds, \n",
    "#                    method='L-BFGS-B', \n",
    "#                    tol = tol,\n",
    "#                    options=options)\n",
    "#     WIRL.append(res.x)\n",
    "#     print(res)\n",
    "\n",
    "w_irl = res.x"
   ]
  },
  {
   "cell_type": "code",
   "execution_count": 38,
   "id": "f548d71e-7065-47b6-bd11-524f4ce30442",
   "metadata": {},
   "outputs": [
    {
     "name": "stdout",
     "output_type": "stream",
     "text": [
      "trans_high :\n",
      "Running ||  Desired:  0.005 IRL:  0.0\n",
      "Terminal ||  Desired:  1.0 IRL:  3.9863421898680986\n",
      "\n",
      "XReg :\n",
      "Running ||  Desired:  0.0005 IRL:  0.0\n",
      "Terminal ||  Desired:  0.0005 IRL:  0.04145191519225497\n",
      "\n",
      "UReg :\n",
      "Running ||  Desired:  0.0005 IRL:  0.0\n",
      "Terminal ||  Desired:  0.0005 IRL:  0.0\n",
      "\n",
      "Obs1 :\n",
      "Running ||  Desired:  0.5 IRL:  1.7918459079303395\n",
      "Terminal ||  Desired:  0.5 IRL:  0.7035556396536423\n",
      "\n",
      "Obs2 :\n",
      "Running ||  Desired:  0.5 IRL:  2.097053490926384\n",
      "Terminal ||  Desired:  0.5 IRL:  1.0978593181614333\n",
      "\n",
      "Obs3 :\n",
      "Running ||  Desired:  0.5 IRL:  4.261170769240397\n",
      "Terminal ||  Desired:  0.5 IRL:  0.07425326044133627\n",
      "\n"
     ]
    }
   ],
   "source": [
    "# w_irl /= np.max(w_irl)\n",
    "for i, cost in enumerate(cost_set.costs):\n",
    "    print(cost.name, ':')\n",
    "    print('Running || ', 'Desired: ', w_des[:nr][i], 'IRL: ', w_irl[:nr][i])\n",
    "    print('Terminal || ', 'Desired: ', w_des[nr:][i], 'IRL: ', w_irl[nr:][i])\n",
    "    print('')"
   ]
  },
  {
   "cell_type": "code",
   "execution_count": 39,
   "id": "1864cbf4-0d5e-4694-a974-3c1a107cbcfd",
   "metadata": {},
   "outputs": [],
   "source": [
    "# w_irl = w_irl/np.max(w_irl)"
   ]
  },
  {
   "cell_type": "code",
   "execution_count": 40,
   "id": "de33ae35-2a22-48d2-bab3-fddf6f3f0e99",
   "metadata": {},
   "outputs": [
    {
     "name": "stdout",
     "output_type": "stream",
     "text": [
      "Desired Trajectory Cost:  1.4880389633500672  || with IRL Weight:   5.701539795513118\n",
      "Bad Trajectory Cost:      1.5757213680064326  || with IRL Weight:   15.94687836662912\n"
     ]
    }
   ],
   "source": [
    "print('Desired Trajectory Cost: ', cost_set.traj_cost(xs_optimal, us_optimal, w_des[:nr], w_des[nr:], timeStep), ' || with IRL Weight:  ', cost_set.traj_cost(xs_optimal, us_optimal, w_irl[:nr], w_irl[nr:], timeStep))\n",
    "print('Bad Trajectory Cost:     ', cost_set.traj_cost(xs_non_optimal, us_non_optimal, w_bad[:nr], w_bad[nr:], timeStep), ' || with IRL Weight:  ', cost_set.traj_cost(xs_non_optimal, us_non_optimal, w_irl[:nr], w_irl[nr:], timeStep))"
   ]
  },
  {
   "cell_type": "code",
   "execution_count": 41,
   "id": "4e78c1e7-c248-494d-a041-ec3dc69a59e2",
   "metadata": {},
   "outputs": [
    {
     "name": "stdout",
     "output_type": "stream",
     "text": [
      "Desired Fcn:     0.3706918127144126\n",
      "IRL Fcn:         0.0007205052143068357\n",
      "Bad Fcn:         1.327214742787381\n"
     ]
    }
   ],
   "source": [
    "# Test IRL 1D Output\n",
    "print('Desired Fcn:    ', fcn_w(w_des, cost_set, xs_optimal, us_optimal, xs_non_optimal_set, us_non_optimal_set, dt, Lambda))\n",
    "print('IRL Fcn:        ', fcn_w(w_irl, cost_set, xs_optimal, us_optimal, xs_non_optimal_set, us_non_optimal_set, dt, Lambda))\n",
    "print('Bad Fcn:        ', fcn_w(w_bad, cost_set, xs_optimal, us_optimal, xs_non_optimal_set, us_non_optimal_set, dt, Lambda))"
   ]
  },
  {
   "cell_type": "code",
   "execution_count": 42,
   "id": "1a854832-9e24-41bf-adff-f6afa1a113af",
   "metadata": {},
   "outputs": [
    {
     "name": "stdout",
     "output_type": "stream",
     "text": [
      "iter     merit         cost         grad      step    ||gaps||        KKT\n",
      "   1  3.98634e+02  3.98634e+02  2.66794e+01  1.0000  0.00000e+00  3.98634e+01\n",
      "   2  1.32865e+01  1.32865e+01  1.40591e-01  1.0000  1.71807e-14  4.66518e-01\n",
      "   3  1.30004e+01  1.30004e+01  2.75487e+00  0.5000  1.32727e-10  4.89017e+00\n",
      "   4  1.24038e+01  1.24038e+01  4.25144e-01  1.0000  2.06427e-09  9.54700e-01\n",
      "   5  1.20016e+01  1.20016e+01  2.50366e+00  1.0000  6.73986e-10  5.24838e-01\n",
      "   6  1.08531e+01  1.08531e+01  1.93986e+00  1.0000  4.41653e-09  2.29910e-01\n",
      "   7  1.00622e+01  1.00622e+01  1.93800e+01  1.0000  3.78976e-09  1.64762e+00\n",
      "   8  5.97277e+00  5.97277e+00  3.15400e+00  1.0000  5.21002e-08  8.38920e-01\n",
      "   9  5.46151e+00  5.46151e+00  1.45638e+01  1.0000  9.04534e-09  5.36567e-01\n",
      "  10  5.20734e+00  5.20734e+00  2.00452e+00  1.0000  2.44929e-08  1.70962e-01\n",
      "iter     merit         cost         grad      step    ||gaps||        KKT\n",
      "  11  5.16474e+00  5.16474e+00  1.95963e+01  1.0000  4.01287e-09  8.29536e-02\n",
      "  12  5.12342e+00  5.12342e+00  8.80050e+00  1.0000  4.00071e-08  5.14226e-02\n",
      "  13  5.08530e+00  5.08530e+00  1.71050e+01  1.0000  4.88290e-08  4.02894e-02\n",
      "  14  5.06467e+00  5.06467e+00  6.28939e+00  1.0000  6.64744e-08  1.50031e-02\n",
      "  15  5.06354e+00  5.06354e+00  2.29189e-01  1.0000  9.96072e-09  3.27910e-03\n",
      "  16  5.06321e+00  5.06321e+00  2.54160e-01  1.0000  5.34304e-10  3.98693e-03\n",
      "  17  5.06307e+00  5.06307e+00  1.09154e-02  1.0000  5.12110e-10  1.39235e-04\n",
      " END  5.06307e+00  5.06307e+00  1.81900e-06   ----   1.54103e-11  3.02461e-06\n"
     ]
    }
   ],
   "source": [
    "# Run again with bad weights (zero for obstacles)\n",
    "w_run = w_irl[:nr]\n",
    "w_term = w_irl[nr:]\n",
    "PM_DAM_running = DifferentialActionModelPointMass(cost_set, w_run)\n",
    "PM_DAM_terminal = DifferentialActionModelPointMass(cost_set, w_term)\n",
    "pmDataRunning = PM_DAM_running.createData()\n",
    "pmDataTerminal = PM_DAM_terminal.createData()\n",
    "PM_ND_R = crocoddyl.DifferentialActionModelNumDiff(PM_DAM_running, False)\n",
    "PM_ND_T = crocoddyl.DifferentialActionModelNumDiff(PM_DAM_terminal, False)\n",
    "timeStep = 5e-2\n",
    "PM_IAM = crocoddyl.IntegratedActionModelEuler(PM_ND_R, timeStep)\n",
    "PM_IAM_T = crocoddyl.IntegratedActionModelEuler(PM_ND_T, 0.0)\n",
    "x0 = start_point\n",
    "# x0 = np.array([5.0, 10.0, 0.0, 0.0])\n",
    "u0 = np.array([0.0, 0.0])\n",
    "problem = crocoddyl.ShootingProblem(x0, [PM_IAM] * T, PM_IAM_T)\n",
    "# Creating the SQP solver\n",
    "sqp = mim_solvers.SolverSQP(problem)\n",
    "sqp.setCallbacks([crocoddyl.CallbackVerbose()])\n",
    "sqp.with_callbacks=True\n",
    "sqp.termination_tolerance = 1e-5\n",
    "xs_init = [x0 for i in range(T+1)]\n",
    "us_init = [u0 for i in range(T)]\n",
    "# xs_init = [xs_optimal[i] for i in range(T+1)]\n",
    "# us_init = [us_optimal[i] for i in range(T)]\n",
    "\n",
    "# Solving this problem\n",
    "done = sqp.solve(xs_init, us_init, 500)\n",
    "xs_output = np.stack(sqp.xs.tolist().copy())\n",
    "us_output = np.stack(sqp.us.tolist().copy())"
   ]
  },
  {
   "cell_type": "code",
   "execution_count": 43,
   "id": "753d8e61-5624-4352-8d54-2bb3243dcef8",
   "metadata": {},
   "outputs": [
    {
     "name": "stdout",
     "output_type": "stream",
     "text": [
      "IRL Trajectory Cost:   5.063065548714506\n",
      "with Desired Weight:   5.480056471421784\n",
      "with Bad Weight:       10.141940551490833\n"
     ]
    }
   ],
   "source": [
    "print('IRL Trajectory Cost:  ', cost_set.traj_cost(xs_output, us_output, w_irl[:nr], w_irl[nr:], timeStep))\n",
    "print('with Desired Weight:  ', cost_set.traj_cost(xs_output, us_output, w_des[:nr], w_des[nr:], timeStep)) \n",
    "print('with Bad Weight:      ', cost_set.traj_cost(xs_output, us_output, w_bad[:nr], w_bad[nr:], timeStep))"
   ]
  },
  {
   "cell_type": "code",
   "execution_count": 44,
   "id": "c5a8aedc-66a7-4c74-a7a8-d284a48265f8",
   "metadata": {},
   "outputs": [
    {
     "name": "stdout",
     "output_type": "stream",
     "text": [
      "IRL Trajectory Cost:       5.063065548714506\n",
      "Desired Trajectory Cost:   1.4880389633500672\n"
     ]
    }
   ],
   "source": [
    "print('IRL Trajectory Cost:      ', cost_set.traj_cost(xs_output, us_output, w_irl[:nr], w_irl[nr:], timeStep))\n",
    "print('Desired Trajectory Cost:  ', cost_set.traj_cost(xs_optimal, us_optimal, w_des[:nr], w_des[nr:], timeStep))"
   ]
  },
  {
   "cell_type": "code",
   "execution_count": 45,
   "id": "c0856eac-418c-4e7b-bd82-c3f42c17beac",
   "metadata": {},
   "outputs": [
    {
     "name": "stdout",
     "output_type": "stream",
     "text": [
      "IRL Trajectory with Desired Cost:  5.480056471421784\n",
      "Initial Optimal Trajectory Cost:   1.4880389633500672\n"
     ]
    }
   ],
   "source": [
    "print('IRL Trajectory with Desired Cost: ', cost_set.traj_cost(xs_output, us_output, w_des[:nr], w_des[nr:], timeStep))\n",
    "print('Initial Optimal Trajectory Cost:  ', cost_set.traj_cost(xs_optimal, us_optimal, w_des[:nr], w_des[nr:], timeStep))"
   ]
  },
  {
   "cell_type": "code",
   "execution_count": 46,
   "id": "70a71c58-f906-4408-ad61-e696fce81acd",
   "metadata": {},
   "outputs": [
    {
     "data": {
      "image/png": "[encoded data removed]",
      "text/plain": [
       "<Figure size 640x480 with 1 Axes>"
      ]
     },
     "metadata": {},
     "output_type": "display_data"
    }
   ],
   "source": [
    "plot_results(xs_optimal, xs_non_optimal_set, xs_output, obs_set, target_high)"
   ]
  },
  {
   "cell_type": "code",
   "execution_count": 47,
   "id": "56d490a2-ae96-4728-bb45-b314bbf49bab",
   "metadata": {},
   "outputs": [],
   "source": [
    "P_irl = distributions(cost_set, xs_optimal, us_optimal, xs_non_optimal_set, us_non_optimal_set, w_irl[:nr], w_irl[nr:], dt)\n",
    "P_des = distributions(cost_set, xs_optimal, us_optimal, xs_non_optimal_set, us_non_optimal_set, w_des[:nr], w_des[nr:], dt)   "
   ]
  },
  {
   "cell_type": "code",
   "execution_count": 48,
   "id": "412ec628-d7a1-4202-8fed-39f243113846",
   "metadata": {},
   "outputs": [
    {
     "data": {
      "text/plain": [
       "array([1.00000000e+00, 3.55227021e-05, 7.69873049e-14, 3.59432813e-21,\n",
       "       1.65698197e-10, 3.04079600e-09, 3.35264549e-16, 2.18206171e-05,\n",
       "       2.40684808e-41, 3.39543878e-27, 2.59250678e-18, 1.17006483e-06,\n",
       "       1.08462234e-24, 3.33264340e-06, 2.17403720e-10, 1.26253849e-07,\n",
       "       1.08433745e-09, 1.21203661e-08, 3.39139109e-15, 7.54926840e-28,\n",
       "       1.99271540e-09, 9.51462618e-26])"
      ]
     },
     "execution_count": 48,
     "metadata": {},
     "output_type": "execute_result"
    }
   ],
   "source": [
    "P_irl/np.max(P_irl)"
   ]
  },
  {
   "cell_type": "code",
   "execution_count": 49,
   "id": "3e25325c-4eac-4c4a-a61a-bb0d98a782c3",
   "metadata": {},
   "outputs": [
    {
     "data": {
      "text/plain": [
       "array([1.00000000e+00, 2.08320693e-01, 1.60356231e-03, 1.24091902e-05,\n",
       "       5.22424676e-03, 3.28764104e-03, 4.51003436e-04, 8.19493534e-02,\n",
       "       9.96739001e-11, 3.27313859e-07, 3.67201283e-05, 4.33033259e-02,\n",
       "       9.15934535e-07, 2.48468816e-02, 1.37047924e-02, 2.40770295e-02,\n",
       "       6.36223439e-03, 1.35950658e-02, 5.47450465e-04, 2.57898192e-07,\n",
       "       2.11830796e-02, 4.83700642e-07])"
      ]
     },
     "execution_count": 49,
     "metadata": {},
     "output_type": "execute_result"
    }
   ],
   "source": [
    "P_des/np.max(P_des)"
   ]
  },
  {
   "cell_type": "code",
   "execution_count": 50,
   "id": "743601be-ca63-499f-8222-a2050c840d72",
   "metadata": {},
   "outputs": [
    {
     "data": {
      "image/png": "[encoded data removed]",
      "text/plain": [
       "<Figure size 640x480 with 1 Axes>"
      ]
     },
     "metadata": {},
     "output_type": "display_data"
    }
   ],
   "source": [
    "plt.plot(-1/np.log(P_irl[1:]),label='IRL')\n",
    "plt.plot(-1/np.log(P_des[1:]),label='Desired')\n",
    "plt.legend()\n",
    "plt.title('Inverse Negative Log(P), Desired should be higher')\n",
    "plt.show()"
   ]
  },
  {
   "cell_type": "code",
   "execution_count": null,
   "id": "1c9ab6ad-9d84-486c-80ee-7f76e13d0103",
   "metadata": {},
   "outputs": [],
   "source": []
  }
 ],
 "metadata": {
  "kernelspec": {
   "display_name": "Python 3 (ipykernel)",
   "language": "python",
   "name": "python3"
  },
  "language_info": {
   "codemirror_mode": {
    "name": "ipython",
    "version": 3
   },
   "file_extension": ".py",
   "mimetype": "text/x-python",
   "name": "python",
   "nbconvert_exporter": "python",
   "pygments_lexer": "ipython3",
   "version": "3.10.12"
  }
 },
 "nbformat": 4,
 "nbformat_minor": 5
}
