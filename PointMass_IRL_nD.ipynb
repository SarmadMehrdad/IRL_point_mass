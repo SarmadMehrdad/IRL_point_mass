{
 "cells": [
  {
   "cell_type": "code",
   "execution_count": 1,
   "id": "fd925b9e-8f9f-436d-a98b-d4d7b0d05656",
   "metadata": {},
   "outputs": [],
   "source": [
    "import crocoddyl\n",
    "import pinocchio\n",
    "from IPython.display import HTML\n",
    "import mim_solvers\n",
    "import numpy as np\n",
    "import random\n",
    "from matplotlib import animation\n",
    "from matplotlib import pyplot as plt\n",
    "from PointMass_utils import *\n",
    "from PointMass_model import DifferentialActionModelPointMass"
   ]
  },
  {
   "cell_type": "code",
   "execution_count": 2,
   "id": "d163f486-6ea8-4f00-8323-8ef7149d5e53",
   "metadata": {},
   "outputs": [],
   "source": [
    "nx = 4\n",
    "nu = 2\n",
    "T = 50\n",
    "start_point = np.array([5, 5, 0, 0])\n",
    "target_low = np.array([10, 0, 0, 0])\n",
    "target_high = np.array([10, 10, 0, 0])\n",
    "obs0 = Obstacle(10, 8, 2, 1, 'Obs0')\n",
    "obs1 = Obstacle(10, 8, 1, 2, 'Obs1')\n",
    "obs2 = Obstacle(8, 10, 1, 2, 'Obs2')\n",
    "obs3 = Obstacle(8, 8, 1, 2, 'Obs3')\n",
    "obs_set = [obs1, obs2, obs3]\n",
    "# obs_set = [obs0]\n",
    "translation_cost = XReg(nx, target_high, 'trans_high')\n",
    "xreg = XReg(nx, start_point, 'XReg')\n",
    "ureg = UReg(nu, None, 'UReg')\n",
    "\n",
    "cost_set = Costs()\n",
    "cost_set.add_cost(translation_cost)\n",
    "cost_set.add_cost(xreg)\n",
    "cost_set.add_cost(ureg)\n",
    "# cost_set.add_cost(obs0)\n",
    "cost_set.add_cost(obs1)\n",
    "cost_set.add_cost(obs2)\n",
    "cost_set.add_cost(obs3)\n",
    "\n",
    "nr = cost_set.nr"
   ]
  },
  {
   "cell_type": "code",
   "execution_count": 3,
   "id": "0a0f3629-6faa-4b41-b854-6b965a96d272",
   "metadata": {},
   "outputs": [],
   "source": [
    "# Multiple Demo parameters\n",
    "K_opt = 0\n",
    "K_nonopt = 10 # Number of Non-Optimal noisy trajectory per optimal and non-optimal trajectories initiated before\n",
    "scales_opt = 5.0\n",
    "scales_nopt = 5.0\n",
    "\n",
    "xs_optimal_set = []\n",
    "us_optimal_set = []\n",
    "x0s = []\n",
    "u0s = []\n",
    "\n",
    "xs_non_optimal_set = []\n",
    "us_non_optimal_set = []\n",
    "\n",
    "XS_set = []\n",
    "US_set = []\n",
    "\n",
    "for _ in range(K_opt+1):\n",
    "    XS_set.append([])\n",
    "    US_set.append([])"
   ]
  },
  {
   "cell_type": "code",
   "execution_count": 4,
   "id": "2fb22993-f303-46be-8646-33e13e789b74",
   "metadata": {},
   "outputs": [],
   "source": [
    "# Desired weights\n",
    "w_run = np.array([10, 1., 1., 1000, 1000, 1000])\n",
    "w_term = np.array([2000, 1., 1., 1000, 1000, 1000])\n",
    "# w_des = np.hstack([w_run, w_term])\n",
    "w_des = (np.hstack([w_run, w_term])/(np.max(np.hstack([w_run, w_term])))).copy()\n",
    "# w_des = (np.hstack([w_run, w_term])/(np.linalg.norm(np.hstack([w_run, w_term])))).copy()\n",
    "w_run = w_des[:nr]; w_term = w_des[nr:]"
   ]
  },
  {
   "cell_type": "code",
   "execution_count": 5,
   "id": "b05db901-0d34-45c1-a31f-4fc0783eb1ca",
   "metadata": {},
   "outputs": [
    {
     "name": "stdout",
     "output_type": "stream",
     "text": [
      "True: Collected 1th Optimal Demo with Cost = 0.8368197222980587\n"
     ]
    }
   ],
   "source": [
    "# Desired Set of Running and Terminal Model\n",
    "nq = 2; nx = 4\n",
    "w_run = w_des[:nr]; w_term = w_des[nr:]\n",
    "PM_DAM_running = DifferentialActionModelPointMass(cost_set, w_run)\n",
    "PM_DAM_terminal = DifferentialActionModelPointMass(cost_set, w_term)\n",
    "pmDataRunning = PM_DAM_running.createData()\n",
    "pmDataTerminal = PM_DAM_terminal.createData()\n",
    "PM_ND_R = crocoddyl.DifferentialActionModelNumDiff(PM_DAM_running, False)\n",
    "PM_ND_T = crocoddyl.DifferentialActionModelNumDiff(PM_DAM_terminal, False)\n",
    "timeStep = 5e-2\n",
    "PM_IAM = crocoddyl.IntegratedActionModelEuler(PM_ND_R, timeStep)\n",
    "PM_IAM_T = crocoddyl.IntegratedActionModelEuler(PM_ND_T, 0.0)\n",
    "\n",
    "\n",
    "x0s.append(start_point)\n",
    "u0s.append(np.zeros(nu))\n",
    "for k_opt in range(K_opt):\n",
    "    x0s.append(np.zeros(nx))\n",
    "    u0s.append(np.zeros(nu))\n",
    "    x0s[-1][:nq] = np.random.choice(range(10), nq) # Randomizing the initial point\n",
    "\n",
    "for i, (x0, u0) in enumerate(zip(x0s, u0s)):\n",
    "    problem = crocoddyl.ShootingProblem(x0, [PM_IAM] * T, PM_IAM_T)\n",
    "    # Creating the SQP solver\n",
    "    sqp_opt = mim_solvers.SolverSQP(problem)\n",
    "    sqp_opt.setCallbacks([crocoddyl.CallbackVerbose()])\n",
    "    sqp_opt.with_callbacks=False\n",
    "    sqp_opt.termination_tolerance = 1e-5\n",
    "    xs_init = [x0 for i in range(T+1)]\n",
    "    us_init = [u0 for i in range(T)]\n",
    "    \n",
    "    # Solving this problem\n",
    "    done = sqp_opt.solve(xs_init, us_init, 500)\n",
    "    if done:\n",
    "        xs_optimal_set.append(np.stack(sqp_opt.xs.tolist().copy()))\n",
    "        us_optimal_set.append(np.stack(sqp_opt.us.tolist().copy()))\n",
    "        print('{}: Collected {}th Optimal Demo with Cost = {}'.format(done, i+1, sqp_opt.cost))\n"
   ]
  },
  {
   "cell_type": "code",
   "execution_count": 6,
   "id": "ed104729-c885-4384-9617-9edaa291d5a7",
   "metadata": {},
   "outputs": [
    {
     "name": "stdout",
     "output_type": "stream",
     "text": [
      "iter     merit         cost         grad      step    ||gaps||        KKT\n",
      "   1  2.56250e+01  2.56250e+01  1.45677e+01  1.0000  0.00000e+00  4.97991e+00\n",
      " END  3.93930e-01  3.93930e-01  5.39967e-05   ----   4.52971e-14  2.19792e-07\n",
      "True: Collected 1th Non-Optimal Demo with Cost = 0.3939303420001925\n"
     ]
    }
   ],
   "source": [
    "# Bad Running and Terminal Model\n",
    "w_run = np.array([10, 1., 1., 0., 0., 0.])\n",
    "w_term = np.array([1000, 1., 1., 0., 0., 0.])\n",
    "# w_bad = np.hstack([w_run, w_term])\n",
    "w_bad = (np.hstack([w_run, w_term])/(np.max(np.hstack([w_run, w_term])))).copy()\n",
    "# w_bad = (np.hstack([w_run, w_term])/(np.linalg.norm(np.hstack([w_run, w_term])))).copy()\n",
    "w_run = w_bad[:nr]; w_term = w_bad[nr:]\n",
    "PM_DAM_running = DifferentialActionModelPointMass(cost_set, w_run)\n",
    "PM_DAM_terminal = DifferentialActionModelPointMass(cost_set, w_term)\n",
    "pmDataRunning = PM_DAM_running.createData()\n",
    "pmDataTerminal = PM_DAM_terminal.createData()\n",
    "PM_ND_R = crocoddyl.DifferentialActionModelNumDiff(PM_DAM_running, False)\n",
    "PM_ND_T = crocoddyl.DifferentialActionModelNumDiff(PM_DAM_terminal, False)\n",
    "timeStep = 5e-2\n",
    "PM_IAM = crocoddyl.IntegratedActionModelEuler(PM_ND_R, timeStep)\n",
    "PM_IAM_T = crocoddyl.IntegratedActionModelEuler(PM_ND_T, 0.0)\n",
    "\n",
    "\n",
    "for i, (x0, u0) in enumerate(zip(x0s, u0s)):\n",
    "    problem = crocoddyl.ShootingProblem(x0, [PM_IAM] * T, PM_IAM_T)\n",
    "    # Creating the SQP solver\n",
    "    sqp_non_opt = mim_solvers.SolverSQP(problem)\n",
    "    sqp_non_opt.setCallbacks([crocoddyl.CallbackVerbose()])\n",
    "    sqp_non_opt.with_callbacks=True\n",
    "    sqp_non_opt.termination_tolerance = 1e-5\n",
    "    xs_init = [x0 for i in range(T+1)]\n",
    "    us_init = [u0 for i in range(T)]\n",
    "    # Solving this problem\n",
    "    done = sqp_non_opt.solve(xs_init, us_init, 500)\n",
    "    if done:\n",
    "        XS_set[i].append(np.stack(sqp_non_opt.xs.tolist().copy()))\n",
    "        US_set[i].append(np.stack(sqp_non_opt.us.tolist().copy()))\n",
    "        print('{}: Collected {}th Non-Optimal Demo with Cost = {}'.format(done, i+1, sqp_non_opt.cost))\n"
   ]
  },
  {
   "cell_type": "code",
   "execution_count": 7,
   "id": "a2874af3-9f41-4b1f-9b21-926706cc53cb",
   "metadata": {},
   "outputs": [],
   "source": [
    "xs_optimal = xs_optimal_set[0]\n",
    "us_optimal = us_optimal_set[0]"
   ]
  },
  {
   "cell_type": "code",
   "execution_count": 8,
   "id": "1ce4faf7-7509-40d8-bdd0-8ada178d908c",
   "metadata": {},
   "outputs": [
    {
     "data": {
      "image/png": "[encoded data removed]",
      "text/plain": [
       "<Figure size 640x480 with 1 Axes>"
      ]
     },
     "metadata": {},
     "output_type": "display_data"
    }
   ],
   "source": [
    "# HTML(animatePointMass(xs_optimal, obs_set, target_high).to_jshtml())\n",
    "# plot_1_traj(xs_optimal, obs_set, target_high, label='Optimal', linemap = 'b')\n",
    "plot_1_set(xs_optimal_set, obs_set, target_high, label='Optimal', linemap_traj = 'b', linemap_set = 'b')"
   ]
  },
  {
   "cell_type": "code",
   "execution_count": 9,
   "id": "30e02d76-86cb-4ab9-bb27-2cd4b6aeace4",
   "metadata": {},
   "outputs": [
    {
     "name": "stdout",
     "output_type": "stream",
     "text": [
      "10 non-optimal demos collected from 1'th optimal: True\n",
      "10 non-optimal demos collected from 1'th optimal: True\n",
      "10 non-optimal demos collected from 1'th optimal: True\n",
      "10 non-optimal demos collected from 1'th optimal: True\n",
      "10 non-optimal demos collected from 1'th optimal: True\n",
      "10 non-optimal demos collected from 1'th optimal: True\n",
      "10 non-optimal demos collected from 1'th optimal: True\n",
      "10 non-optimal demos collected from 1'th optimal: True\n",
      "10 non-optimal demos collected from 1'th optimal: True\n",
      "10 non-optimal demos collected from 1'th optimal: True\n"
     ]
    }
   ],
   "source": [
    "# # # Non-Optimal Demo Collection from Optimal\n",
    "\n",
    "# XS_set = []\n",
    "# US_set = []\n",
    "for k_nopt in range(K_nonopt):\n",
    "    for x_i, x0 in enumerate(x0s):\n",
    "        problem.x0 = x0\n",
    "        Us = us_optimal_set[x_i].copy()+np.random.normal(loc = 0.0, scale=scales_opt, size=np.stack(us_optimal_set[x_i].tolist()).shape)\n",
    "        US_set[x_i].append(Us)\n",
    "        XS_set[x_i].append(np.stack(problem.rollout([Us[i] for i in range(T)])))\n",
    "\n",
    "        Us = US_set[x_i][0].copy()+np.random.normal(loc = 0.0, scale=scales_nopt, size=np.stack(US_set[x_i][0].tolist()).shape)\n",
    "        US_set[x_i].append(Us)\n",
    "        XS_set[x_i].append(np.stack(problem.rollout([Us[i] for i in range(T)])))\n",
    "        \n",
    "    # XS_set.append(xs_non_optimal_set)\n",
    "    # US_set.append(us_non_optimal_set)\n",
    "    # print('{} non-optimal demos collected from {}\\'th optimal: {}'.format(K_nonopt, x_i+1, done))\n"
   ]
  },
  {
   "cell_type": "code",
   "execution_count": 10,
   "id": "7c88008c-ae91-4b56-beed-d7d568072ea2",
   "metadata": {},
   "outputs": [],
   "source": [
    "o = []\n",
    "# for i, X in enumerate(xs_non_optimal_set):\n",
    "#     o.append(np.exp(-np.linalg.norm(xs_optimal-X)))\n",
    "# o = np.vstack(o)\n",
    "# print(o/np.max(o))"
   ]
  },
  {
   "cell_type": "code",
   "execution_count": 11,
   "id": "ef846909-0fcc-4984-be4a-d854dda51cd5",
   "metadata": {},
   "outputs": [],
   "source": [
    "# IRL Algorithm\n",
    "from scipy.optimize import minimize\n",
    "from scipy.optimize import Bounds\n",
    "\n",
    "def fcn_w(x, \n",
    "          cost_set, \n",
    "          xs_optimal, \n",
    "          us_optimal, \n",
    "          xs_non_optimal_set, \n",
    "          us_non_optimal_set, \n",
    "          dt, \n",
    "          o, \n",
    "          Lambda = 0.001, \n",
    "          optimality_factor=True):\n",
    "    \n",
    "    nr = cost_set.nr\n",
    "    output = 0\n",
    "    num = np.nextafter(0,1)\n",
    "    den = np.nextafter(0,1)\n",
    "    num += np.exp(-cost_set.traj_cost(xs_optimal, us_optimal, x[:nr], x[nr:], dt))\n",
    "    den += num\n",
    "    for i, (Xs, Us) in enumerate(zip(xs_non_optimal_set, us_non_optimal_set)):\n",
    "        if optimality_factor:\n",
    "            # o_i = np.exp(-np.linalg.norm(xs_optimal-Xs)) # Optimality factor\n",
    "            o_i = o[i]\n",
    "        else:\n",
    "            o_i = 1\n",
    "        den += o_i*np.exp(-cost_set.traj_cost(Xs, Us, x[:nr], x[nr:], dt))\n",
    "    output -= np.log(num/den)\n",
    "    # output -= num/den\n",
    "    output += Lambda*np.linalg.norm(x)\n",
    "    return output\n",
    "\n",
    "def fcn_w_ND(x, \n",
    "          cost_set, \n",
    "          xs_optimal_set, \n",
    "          us_optimal_set, \n",
    "          XS_set, \n",
    "          US_set, \n",
    "          dt, \n",
    "          o, \n",
    "          Lambda = 0.001, \n",
    "          optimality_factor=True):\n",
    "    \n",
    "    nr = cost_set.nr\n",
    "    output = 0\n",
    "    for i_opt, (x_opt, us_opt) in enumerate(zip(xs_optimal_set, us_optimal_set)):\n",
    "        num = np.nextafter(0,1)\n",
    "        den = np.nextafter(0,1)\n",
    "        num += np.exp(-cost_set.traj_cost(x_opt, us_opt, x[:nr], x[nr:], dt))\n",
    "        den += num\n",
    "        for i, (Xs, Us) in enumerate(zip(XS_set[i_opt], US_set[i_opt])):\n",
    "            den += np.max([np.nextafter(0,1), np.exp(-cost_set.traj_cost(Xs, Us, x[:nr], x[nr:], dt))])\n",
    "        output -= np.log(num/den)\n",
    "    # output -= num/den\n",
    "    output += Lambda*np.linalg.norm(x)\n",
    "    return output"
   ]
  },
  {
   "cell_type": "code",
   "execution_count": 12,
   "id": "cbcd9c98-a488-42e3-88a1-d9c3aa7457a0",
   "metadata": {
    "scrolled": true
   },
   "outputs": [
    {
     "name": "stdout",
     "output_type": "stream",
     "text": [
      "RUNNING THE L-BFGS-B CODE\n",
      "\n",
      "           * * *\n",
      "\n",
      "Machine precision = 2.220D-16\n",
      " N =           12     M =           10\n",
      "\n",
      "At X0        12 variables are exactly at the bounds\n",
      "\n",
      "At iterate    0    f=  3.09104D+00    |proj g|=  1.03659D+01\n",
      "\n",
      "At iterate    1    f=  2.67936D+00    |proj g|=  4.66560D+00\n",
      "\n",
      "At iterate    2    f=  2.48420D+00    |proj g|=  4.01453D+00\n",
      "\n",
      "At iterate    3    f=  2.02810D+00    |proj g|=  2.83031D+00\n",
      "\n",
      "At iterate    4    f=  1.64978D+00    |proj g|=  1.79603D+00\n",
      "\n",
      "At iterate    5    f=  1.06801D+00    |proj g|=  9.89173D-01\n",
      "\n",
      "At iterate    6    f=  5.28954D-01    |proj g|=  6.62715D-01\n",
      "\n",
      "At iterate    7    f=  2.53399D-01    |proj g|=  3.88402D-01\n",
      "\n",
      "At iterate    8    f=  1.28037D-01    |proj g|=  2.23244D-01\n",
      "\n",
      "At iterate    9    f=  6.50056D-02    |proj g|=  1.24544D-01\n",
      "\n",
      "At iterate   10    f=  3.33898D-02    |proj g|=  6.85381D-02\n",
      "\n",
      "At iterate   11    f=  1.72756D-02    |proj g|=  3.71725D-02\n",
      "\n",
      "At iterate   12    f=  9.07183D-03    |proj g|=  1.99409D-02\n",
      "\n",
      "At iterate   13    f=  4.90170D-03    |proj g|=  1.05964D-02\n",
      "\n",
      "At iterate   14    f=  2.79869D-03    |proj g|=  5.59597D-03\n",
      "\n",
      "At iterate   15    f=  1.75306D-03    |proj g|=  2.95096D-03\n",
      "\n",
      "At iterate   16    f=  1.24684D-03    |proj g|=  1.56720D-03\n",
      "\n",
      "At iterate   17    f=  1.01366D-03    |proj g|=  8.50887D-04\n",
      "\n",
      "At iterate   18    f=  9.16174D-04    |proj g|=  4.85690D-04\n",
      "\n",
      "At iterate   19    f=  8.82274D-04    |proj g|=  3.04819D-04\n",
      "\n",
      "At iterate   20    f=  8.73982D-04    |proj g|=  2.22255D-04\n",
      "\n",
      "At iterate   21    f=  8.72897D-04    |proj g|=  1.92064D-04\n",
      "\n",
      "At iterate   22    f=  8.72822D-04    |proj g|=  1.84998D-04\n",
      "\n",
      "At iterate   23    f=  8.72781D-04    |proj g|=  1.82430D-04\n",
      "\n",
      "At iterate   24    f=  8.72591D-04    |proj g|=  1.74666D-04\n",
      "\n",
      "At iterate   25    f=  8.72198D-04    |proj g|=  1.65187D-04\n",
      "\n",
      "At iterate   26    f=  8.71046D-04    |proj g|=  1.48354D-04\n",
      "\n",
      "At iterate   27    f=  8.68226D-04    |proj g|=  1.23906D-04\n",
      "\n",
      "At iterate   28    f=  8.61123D-04    |proj g|=  9.32809D-05\n",
      "\n",
      "At iterate   29    f=  8.44024D-04    |proj g|=  8.94351D-05\n",
      "\n",
      "At iterate   30    f=  8.05095D-04    |proj g|=  8.05558D-05\n",
      "\n",
      "At iterate   31    f=  7.50182D-04    |proj g|=  1.42278D-03\n",
      "\n",
      "At iterate   32    f=  7.36936D-04    |proj g|=  2.91007D-05\n",
      "\n",
      "At iterate   33    f=  7.33841D-04    |proj g|=  3.62979D-04\n",
      "\n",
      "At iterate   34    f=  7.33699D-04    |proj g|=  2.56299D-04\n",
      "\n",
      "At iterate   35    f=  7.32246D-04    |proj g|=  7.18214D-05\n",
      "\n",
      "At iterate   36    f=  7.31949D-04    |proj g|=  6.72692D-05\n",
      "\n",
      "At iterate   37    f=  7.30813D-04    |proj g|=  8.80967D-05\n",
      "\n",
      "At iterate   38    f=  7.30743D-04    |proj g|=  3.67579D-04\n",
      "\n",
      "At iterate   39    f=  7.30743D-04    |proj g|=  3.68978D-04\n",
      "\n",
      "At iterate   40    f=  7.30740D-04    |proj g|=  4.26080D-04\n",
      "  Positive dir derivative in projection \n",
      "  Using the backtracking step \n",
      "\n",
      "At iterate   41    f=  7.30160D-04    |proj g|=  5.73280D-05\n",
      "\n",
      "At iterate   42    f=  7.29401D-04    |proj g|=  6.92967D-05\n",
      "\n",
      "At iterate   43    f=  7.29320D-04    |proj g|=  1.62627D-05\n",
      "\n",
      "At iterate   44    f=  7.28686D-04    |proj g|=  1.37896D-05\n",
      "\n",
      "At iterate   45    f=  7.28627D-04    |proj g|=  1.25867D-05\n",
      "\n",
      "At iterate   46    f=  7.28498D-04    |proj g|=  1.17870D-05\n",
      "\n",
      "At iterate   47    f=  7.28108D-04    |proj g|=  9.37591D-06\n",
      "\n",
      "At iterate   48    f=  7.27569D-04    |proj g|=  1.13459D-05\n",
      "\n",
      "At iterate   49    f=  7.26800D-04    |proj g|=  1.07038D-05\n",
      "\n",
      "At iterate   50    f=  7.26308D-04    |proj g|=  5.15678D-06\n",
      "\n",
      "At iterate   51    f=  7.26196D-04    |proj g|=  2.52387D-06\n",
      "\n",
      "At iterate   52    f=  7.26135D-04    |proj g|=  2.34161D-06\n",
      "\n",
      "At iterate   53    f=  7.26002D-04    |proj g|=  2.76109D-06\n",
      "\n",
      "At iterate   54    f=  7.25894D-04    |proj g|=  2.18933D-06\n",
      "\n",
      "At iterate   55    f=  7.25862D-04    |proj g|=  3.79631D-05\n",
      "\n",
      "At iterate   56    f=  7.25759D-04    |proj g|=  1.77985D-05\n",
      "\n",
      "At iterate   57    f=  7.25708D-04    |proj g|=  4.51137D-07\n",
      "\n",
      "At iterate   58    f=  7.25705D-04    |proj g|=  9.64918D-07\n",
      "\n",
      "At iterate   59    f=  7.25705D-04    |proj g|=  5.14215D-07\n",
      "\n",
      "At iterate   60    f=  7.25705D-04    |proj g|=  2.64188D-07\n",
      "\n",
      "At iterate   61    f=  7.25705D-04    |proj g|=  3.71871D-07\n",
      "\n",
      "At iterate   62    f=  7.25704D-04    |proj g|=  2.16277D-07\n",
      "\n",
      "At iterate   63    f=  7.25704D-04    |proj g|=  1.05309D-07\n",
      "  message: CONVERGENCE: REL_REDUCTION_OF_F_<=_FACTR*EPSMCH\n",
      "  success: True\n",
      "   status: 0\n",
      "      fun: 0.0007257043073666521\n",
      "        x: [ 6.732e-02  0.000e+00  0.000e+00  1.463e+00  1.624e+00\n",
      "             3.411e+00  4.975e+00  0.000e+00  0.000e+00  1.100e-01\n",
      "             1.633e+00  2.152e-01]\n",
      "      nit: 64\n",
      "      jac: [-8.308e-08  1.240e-04  4.035e-04  1.811e-08  1.527e-08\n",
      "             1.084e-08  2.307e-08  2.212e-05  0.000e+00  6.614e-09\n",
      "             6.896e-09  5.985e-09]\n",
      "     nfev: 1105\n",
      "     njev: 85\n",
      " hess_inv: <12x12 LbfgsInvHessProduct with dtype=float64>\n",
      "\n",
      "At iterate   64    f=  7.25704D-04    |proj g|=  8.30824D-08\n",
      "\n",
      "           * * *\n",
      "\n",
      "Tit   = total number of iterations\n",
      "Tnf   = total number of function evaluations\n",
      "Tnint = total number of segments explored during Cauchy searches\n",
      "Skip  = number of BFGS updates skipped\n",
      "Nact  = number of active bounds at final generalized Cauchy point\n",
      "Projg = norm of the final projected gradient\n",
      "F     = final function value\n",
      "\n",
      "           * * *\n",
      "\n",
      "   N    Tit     Tnf  Tnint  Skip  Nact     Projg        F\n",
      "   12     64     85     66     0     4   8.308D-08   7.257D-04\n",
      "  F =   7.2570430736665207E-004\n",
      "\n",
      "CONVERGENCE: REL_REDUCTION_OF_F_<=_FACTR*EPSMCH             \n"
     ]
    }
   ],
   "source": [
    "dt = timeStep\n",
    "Lambda = 0.0001\n",
    "lb = 0.0; ub = np.inf\n",
    "bnds = Bounds(lb, ub)\n",
    "# opt = o/np.linalg.norm(o)\n",
    "# opt = o/np.max(o)\n",
    "opt = o\n",
    "OF = False # Use Optimality Factor\n",
    "options = {'maxiter': 100, 'iprint': 1,'ftol': 1e-15 ,'gtol' : 1e-15}\n",
    "tol = 1e-15\n",
    "w_rand = np.random.uniform(0.0, 1.0, len(w_des))\n",
    "\n",
    "\n",
    "# w0 = random.choice(w_bads)\n",
    "# w0 = w_des\n",
    "# w0 = w_rand\n",
    "w0 = np.zeros_like(w_des)\n",
    "\n",
    "# # For 1 Demo\n",
    "# res = minimize(fcn_w, \n",
    "#                w0, \n",
    "#                args=(cost_set, xs_optimal, us_optimal, xs_non_optimal_set, us_non_optimal_set, dt, opt, Lambda, OF), \n",
    "#                bounds=bnds, \n",
    "#                method='L-BFGS-B', \n",
    "#                tol = tol,\n",
    "#                options=options)\n",
    "\n",
    "# For N Demos\n",
    "res_nd = minimize(fcn_w_ND, \n",
    "               w0, \n",
    "               args=(cost_set, xs_optimal_set, us_optimal_set, XS_set, US_set, dt, opt, Lambda, OF), \n",
    "               bounds=bnds, \n",
    "               method='L-BFGS-B', \n",
    "               tol = tol,\n",
    "               options=options)\n",
    "\n",
    "print(res_nd)\n",
    "w_irl = res_nd.x\n",
    "    "
   ]
  },
  {
   "cell_type": "code",
   "execution_count": 13,
   "id": "fbbf67f0-d006-4299-8d05-5c3bb0450da9",
   "metadata": {},
   "outputs": [
    {
     "name": "stdout",
     "output_type": "stream",
     "text": [
      "trans_high :\n",
      "Running ||  Desired:  0.005 IRL:  0.06731561343306351\n",
      "Terminal ||  Desired:  1.0 IRL:  4.974660667868538\n",
      "\n",
      "XReg :\n",
      "Running ||  Desired:  0.0005 IRL:  0.0\n",
      "Terminal ||  Desired:  0.0005 IRL:  0.0\n",
      "\n",
      "UReg :\n",
      "Running ||  Desired:  0.0005 IRL:  0.0\n",
      "Terminal ||  Desired:  0.0005 IRL:  0.0\n",
      "\n",
      "Obs1 :\n",
      "Running ||  Desired:  0.5 IRL:  1.4634953679605682\n",
      "Terminal ||  Desired:  0.5 IRL:  0.11003692468470223\n",
      "\n",
      "Obs2 :\n",
      "Running ||  Desired:  0.5 IRL:  1.6236603975408135\n",
      "Terminal ||  Desired:  0.5 IRL:  1.633403949970975\n",
      "\n",
      "Obs3 :\n",
      "Running ||  Desired:  0.5 IRL:  3.410781914540666\n",
      "Terminal ||  Desired:  0.5 IRL:  0.21518088911114897\n",
      "\n"
     ]
    }
   ],
   "source": [
    "# w_irl /= np.max(w_irl)\n",
    "for i, cost in enumerate(cost_set.costs):\n",
    "    print(cost.name, ':')\n",
    "    print('Running || ', 'Desired: ', w_des[:nr][i], 'IRL: ', w_irl[:nr][i])\n",
    "    print('Terminal || ', 'Desired: ', w_des[nr:][i], 'IRL: ', w_irl[nr:][i])\n",
    "    print('')"
   ]
  },
  {
   "cell_type": "code",
   "execution_count": 14,
   "id": "8ac04f38-a9a2-4b5b-8b6f-6717198c6aec",
   "metadata": {},
   "outputs": [
    {
     "name": "stdout",
     "output_type": "stream",
     "text": [
      "Desired Trajectory Cost:  0.8368197222980587\n",
      "with IRL Weight:          5.434056093037382\n",
      "with Random Weight:       219.0200810268847\n"
     ]
    }
   ],
   "source": [
    "print('Desired Trajectory Cost: ', cost_set.traj_cost(xs_optimal, us_optimal, w_des[:nr], w_des[nr:], timeStep))\n",
    "print('with IRL Weight:         ', cost_set.traj_cost(xs_optimal, us_optimal, w_irl[:nr], w_irl[nr:], timeStep))\n",
    "print('with Random Weight:      ', cost_set.traj_cost(xs_optimal, us_optimal, w_rand[:nr], w_rand[nr:], timeStep))"
   ]
  },
  {
   "cell_type": "code",
   "execution_count": 15,
   "id": "4e6184b1-4e66-46f1-83da-718c1bd6e490",
   "metadata": {},
   "outputs": [
    {
     "name": "stdout",
     "output_type": "stream",
     "text": [
      "Desired Fcn:     0.29385237643073914\n",
      "IRL Fcn:         0.0007257043073666521\n",
      "Random Fcn:      149.74460088916194\n"
     ]
    }
   ],
   "source": [
    "# Test IRL Output\n",
    "print('Desired Fcn:    ', fcn_w(w_des, cost_set, xs_optimal, us_optimal, XS_set[0], US_set[0], dt, o, Lambda, OF))\n",
    "print('IRL Fcn:        ', fcn_w(w_irl, cost_set, xs_optimal, us_optimal, XS_set[0], US_set[0], dt, o, Lambda, OF))\n",
    "print('Random Fcn:     ', fcn_w(w_rand, cost_set, xs_optimal, us_optimal, XS_set[0], US_set[0], dt, o, Lambda, OF))\n",
    "\n",
    "# print('Bad Fcn:        ', fcn_w(x0, cost_set, xs_optimal, us_optimal, xs_non_optimal_set, us_non_optimal_set, dt, Lambda))"
   ]
  },
  {
   "cell_type": "code",
   "execution_count": 16,
   "id": "a6c3d49b-487d-4112-9f18-232fdd54c795",
   "metadata": {},
   "outputs": [
    {
     "name": "stdout",
     "output_type": "stream",
     "text": [
      "Desired Fcn:     0.29385237643073914\n",
      "IRL Fcn:         0.0007257043073666521\n",
      "Random Fcn:      149.74460088916194\n"
     ]
    }
   ],
   "source": [
    "# Test IRL ND Output\n",
    "print('Desired Fcn:    ', fcn_w_ND(w_des, cost_set, xs_optimal_set, us_optimal_set, XS_set, US_set, dt, o, Lambda, OF))\n",
    "print('IRL Fcn:        ', fcn_w_ND(w_irl, cost_set, xs_optimal_set, us_optimal_set, XS_set, US_set, dt, o, Lambda, OF))\n",
    "print('Random Fcn:     ', fcn_w_ND(w_rand, cost_set, xs_optimal_set, us_optimal_set, XS_set, US_set, dt, o, Lambda, OF))"
   ]
  },
  {
   "cell_type": "code",
   "execution_count": 17,
   "id": "483901a9-41a4-445e-b824-d50534d89b99",
   "metadata": {},
   "outputs": [
    {
     "name": "stdout",
     "output_type": "stream",
     "text": [
      "iter     merit         cost         grad      step    ||gaps||        KKT\n",
      "   1  1.28574e+02  1.28574e+02  1.84246e+01  1.0000  0.00000e+00  2.48156e+01\n",
      "   2  1.82814e+01  1.82814e+01  1.15594e+00  1.0000  4.70735e-14  3.01716e+00\n",
      "   3  1.57587e+01  1.57587e+01  7.25248e-01  1.0000  1.66518e-09  6.95758e-01\n",
      "   4  1.49571e+01  1.49571e+01  5.91305e-01  1.0000  1.25660e-09  2.65911e-01\n",
      "   5  1.44283e+01  1.44283e+01  5.30319e-01  1.0000  1.10392e-09  1.28949e-01\n",
      "   6  1.39795e+01  1.39795e+01  4.82097e+00  1.0000  1.23766e-09  7.21198e-01\n",
      "   7  1.06841e+01  1.06841e+01  3.06340e+00  1.0000  1.20912e-08  3.87888e-01\n",
      "   8  8.73264e+00  8.73264e+00  3.90039e+00  1.0000  6.87626e-09  5.22543e-01\n",
      "   9  6.69771e+00  6.69771e+00  1.85078e+00  1.0000  6.81775e-09  2.92903e-01\n",
      "  10  5.97079e+00  5.97079e+00  5.46822e+00  1.0000  4.53994e-09  3.44414e-01\n",
      "iter     merit         cost         grad      step    ||gaps||        KKT\n",
      "  11  5.06465e+00  5.06465e+00  4.94617e+00  1.0000  1.11682e-08  3.22056e-01\n",
      "  12  4.84013e+00  4.84013e+00  6.97223e+00  1.0000  9.86041e-09  1.06326e-01\n",
      "  13  4.75387e+00  4.75387e+00  4.54547e+00  1.0000  1.62483e-08  3.00131e-02\n",
      "  14  4.73747e+00  4.73747e+00  8.71259e-01  1.0000  1.25873e-08  3.88264e-03\n",
      "  15  4.73710e+00  4.73710e+00  2.86864e-02  1.0000  3.09306e-09  6.09902e-05\n",
      " END  4.73710e+00  4.73710e+00  1.09084e-04   ----   8.04583e-11  1.39079e-07\n"
     ]
    }
   ],
   "source": [
    "# Run again with IRL weights\n",
    "w_run = w_irl[:nr]\n",
    "w_term = w_irl[nr:]\n",
    "PM_DAM_running = DifferentialActionModelPointMass(cost_set, w_run)\n",
    "PM_DAM_terminal = DifferentialActionModelPointMass(cost_set, w_term)\n",
    "pmDataRunning = PM_DAM_running.createData()\n",
    "pmDataTerminal = PM_DAM_terminal.createData()\n",
    "PM_ND_R = crocoddyl.DifferentialActionModelNumDiff(PM_DAM_running, False)\n",
    "PM_ND_T = crocoddyl.DifferentialActionModelNumDiff(PM_DAM_terminal, False)\n",
    "timeStep = 5e-2\n",
    "PM_IAM = crocoddyl.IntegratedActionModelEuler(PM_ND_R, timeStep)\n",
    "PM_IAM_T = crocoddyl.IntegratedActionModelEuler(PM_ND_T, 0.0)\n",
    "x0 = start_point\n",
    "u0 = np.array([0.0, 0.0])\n",
    "problem = crocoddyl.ShootingProblem(x0, [PM_IAM] * T, PM_IAM_T)\n",
    "# Creating the SQP solver\n",
    "sqp = mim_solvers.SolverSQP(problem)\n",
    "sqp.setCallbacks([crocoddyl.CallbackVerbose()])\n",
    "sqp.with_callbacks=True\n",
    "sqp.termination_tolerance = 1e-5\n",
    "xs_init = [x0 for i in range(T+1)]\n",
    "us_init = [u0 for i in range(T)]\n",
    "# xs_init = [xs_optimal[i] for i in range(T+1)]\n",
    "# us_init = [us_optimal[i] for i in range(T)]\n",
    "\n",
    "# Solving this problem\n",
    "done = sqp.solve(xs_init, us_init, 500)\n",
    "xs_output = np.stack(sqp.xs.tolist().copy())\n",
    "us_output = np.stack(sqp.us.tolist().copy())\n"
   ]
  },
  {
   "cell_type": "code",
   "execution_count": 18,
   "id": "a99fbb17-ea7e-4f6d-b2fa-028b393e1266",
   "metadata": {},
   "outputs": [
    {
     "name": "stdout",
     "output_type": "stream",
     "text": [
      "IRL Trajectory Cost:  4.737096492588003  || with Desired Weight:   1.3022718554010255  || with Random Wight 732.0209248730819\n"
     ]
    }
   ],
   "source": [
    "print('IRL Trajectory Cost: ', cost_set.traj_cost(xs_output, us_output, w_irl[:nr], w_irl[nr:], timeStep), \n",
    "      ' || with Desired Weight:  ', cost_set.traj_cost(xs_output, us_output, w_des[:nr], w_des[nr:], timeStep), \n",
    "      ' || with Random Wight', cost_set.traj_cost(xs_output, us_output, w_rand[:nr], w_rand[nr:], timeStep))"
   ]
  },
  {
   "cell_type": "code",
   "execution_count": 19,
   "id": "b605cdd7-a1f0-45c5-b6ae-d8564703896d",
   "metadata": {},
   "outputs": [
    {
     "name": "stdout",
     "output_type": "stream",
     "text": [
      "IRL Trajectory Cost:       4.737096492588003\n",
      "Desired Trajectory Cost:   0.8368197222980587\n"
     ]
    }
   ],
   "source": [
    "print('IRL Trajectory Cost:      ', cost_set.traj_cost(xs_output, us_output, w_irl[:nr], w_irl[nr:], timeStep))\n",
    "print('Desired Trajectory Cost:  ', cost_set.traj_cost(xs_optimal, us_optimal, w_des[:nr], w_des[nr:], timeStep))"
   ]
  },
  {
   "cell_type": "code",
   "execution_count": 20,
   "id": "3c251b9c-97ae-4941-8cd2-e8703f2c9a00",
   "metadata": {},
   "outputs": [
    {
     "name": "stdout",
     "output_type": "stream",
     "text": [
      "IRL Trajectory with Desired Cost:  1.3022718554010255\n",
      "Initial Optimal Trajectory Cost:   0.8368197222980587\n"
     ]
    }
   ],
   "source": [
    "print('IRL Trajectory with Desired Cost: ', cost_set.traj_cost(xs_output, us_output, w_des[:nr], w_des[nr:], timeStep))\n",
    "print('Initial Optimal Trajectory Cost:  ', cost_set.traj_cost(xs_optimal, us_optimal, w_des[:nr], w_des[nr:], timeStep))"
   ]
  },
  {
   "cell_type": "code",
   "execution_count": 21,
   "id": "90cf6a51-b9dc-4ec0-b9d2-123578be9b12",
   "metadata": {},
   "outputs": [],
   "source": [
    "# plot_results(xs_optimal, xs_non_optimal_set, xs_output, obs_set, target_high)"
   ]
  },
  {
   "cell_type": "code",
   "execution_count": 22,
   "id": "46b85cbf-d48c-411a-834f-77fe84955cd7",
   "metadata": {},
   "outputs": [
    {
     "data": {
      "image/png": "[encoded data removed]",
      "text/plain": [
       "<Figure size 640x480 with 1 Axes>"
      ]
     },
     "metadata": {},
     "output_type": "display_data"
    }
   ],
   "source": [
    "plot_1_multiset(xs_optimal_set, XS_set, obs_set, target_high, label='IRL' , linemap_traj = 'g', linemap_set = 'r:')"
   ]
  },
  {
   "cell_type": "code",
   "execution_count": 23,
   "id": "64b480ae-b882-483f-a615-d9978804d025",
   "metadata": {},
   "outputs": [
    {
     "data": {
      "image/png": "[encoded data removed]",
      "text/plain": [
       "<Figure size 640x480 with 1 Axes>"
      ]
     },
     "metadata": {},
     "output_type": "display_data"
    }
   ],
   "source": [
    "plot_1_set([xs_output, xs_optimal_set[0]], obs_set, target_high, label='IRL', linemap_traj='b', linemap_set='g:')"
   ]
  },
  {
   "cell_type": "code",
   "execution_count": null,
   "id": "6ca2a0d8-d8fc-4dc7-a332-f2ee7f7f34fd",
   "metadata": {},
   "outputs": [],
   "source": []
  }
 ],
 "metadata": {
  "kernelspec": {
   "display_name": "Python 3 (ipykernel)",
   "language": "python",
   "name": "python3"
  },
  "language_info": {
   "codemirror_mode": {
    "name": "ipython",
    "version": 3
   },
   "file_extension": ".py",
   "mimetype": "text/x-python",
   "name": "python",
   "nbconvert_exporter": "python",
   "pygments_lexer": "ipython3",
   "version": "3.10.12"
  }
 },
 "nbformat": 4,
 "nbformat_minor": 5
}
