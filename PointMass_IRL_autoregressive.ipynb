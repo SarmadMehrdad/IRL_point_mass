{
 "cells": [
  {
   "cell_type": "code",
   "execution_count": 1,
   "id": "8d76daa0-25e8-4bf7-ad8e-feb8a301453b",
   "metadata": {},
   "outputs": [],
   "source": [
    "import crocoddyl\n",
    "import pinocchio\n",
    "from IPython.display import HTML\n",
    "import mim_solvers\n",
    "import numpy as np\n",
    "import random\n",
    "from matplotlib import animation\n",
    "from matplotlib import pyplot as plt\n",
    "from PointMass_utils import *\n",
    "from PointMass_model import *"
   ]
  },
  {
   "cell_type": "code",
   "execution_count": 2,
   "id": "f36c6b01-f572-4cfc-85d6-232f3edd67c4",
   "metadata": {},
   "outputs": [],
   "source": [
    "nx = 4\n",
    "nu = 2\n",
    "T = 40\n",
    "start_point = np.array([0, 0, 0, 0])\n",
    "target_low = np.array([10, 0, 0, 0])\n",
    "target_high = np.array([10, 10, 0, 0])\n",
    "obs_act = 1.5\n",
    "obs0 = Obstacle(10, 8, 2, obs_act, 'Obs0')\n",
    "obs1 = Obstacle(3, 2.5, 1, obs_act, 'Obs1')\n",
    "obs2 = Obstacle(8, 7, 1, obs_act, 'Obs2')\n",
    "obs3 = Obstacle(4.5, 6, 1, obs_act, 'Obs3')\n",
    "obs4 = Obstacle(4, 4, 1, obs_act, 'Obs4')\n",
    "obs5 = Obstacle(6, 7.5, 1, obs_act, 'Obs5')\n",
    "obs6 = Obstacle(7.5, 3, 1, obs_act, 'Obs6')\n",
    "obs7 = Obstacle(5, 1, 1, obs_act, 'Obs7')\n",
    "obs8 = Obstacle(2.5, 2, 1, obs_act, 'Obs8')\n",
    "obs_set = [obs1, obs2, obs3]#, obs4, obs5, obs6, obs7, obs8]\n",
    "# obs_set = [obs0]\n",
    "translation_cost = XReg(nx, target_high, 'trans_high')\n",
    "xreg = XReg(nx, start_point, 'XReg')\n",
    "ureg = UReg(nu, None, 'UReg')\n",
    "\n",
    "cost_set = Costs()\n",
    "cost_set.add_cost(translation_cost)\n",
    "cost_set.add_cost(xreg)\n",
    "cost_set.add_cost(ureg)\n",
    "# cost_set.add_cost(obs0)\n",
    "cost_set.add_cost(obs1)\n",
    "cost_set.add_cost(obs2)\n",
    "cost_set.add_cost(obs3)\n",
    "# cost_set.add_cost(obs4)\n",
    "# cost_set.add_cost(obs5)\n",
    "# cost_set.add_cost(obs6)\n",
    "# cost_set.add_cost(obs7)\n",
    "# cost_set.add_cost(obs8)\n",
    "\n",
    "nr = cost_set.nr"
   ]
  },
  {
   "cell_type": "code",
   "execution_count": 3,
   "id": "adc82999-02e7-4ff5-befc-5883c8d58f47",
   "metadata": {},
   "outputs": [],
   "source": [
    "# Desired Weights\n",
    "w_run_possibles = np.array([10, 1., 1., 2000, 2000, 2000, 2000, 1000, 2000, 2000, 2000])\n",
    "w_term_possibles = np.array([2000, 1., 1., 1000, 1000, 1000, 500, 0, 1000, 1000, 1000])\n",
    "w_run = w_run_possibles[:nr]\n",
    "w_term = w_term_possibles[:nr]\n",
    "obs_set = obs_set[:nr]\n",
    "# w_des = np.hstack([w_run, w_term])\n",
    "w_des = (np.hstack([w_run, w_term])/(np.max(np.hstack([w_run, w_term])))).copy()\n",
    "# w_des = (np.hstack([w_run, w_term])/(np.linalg.norm(np.hstack([w_run, w_term])))).copy()"
   ]
  },
  {
   "cell_type": "code",
   "execution_count": 4,
   "id": "98ccf0e2-bc95-4ed0-b48b-f55a8faf1543",
   "metadata": {},
   "outputs": [
    {
     "name": "stdout",
     "output_type": "stream",
     "text": [
      "iter     merit         cost         grad      step    ||gaps||        KKT\n",
      "   1  1.01000e+02  1.01000e+02  3.46624e+01  1.0000  0.00000e+00  9.96889e+00\n",
      "   2  1.97297e+00  1.97297e+00  2.93912e+00  1.0000  2.68674e-14  2.07698e-01\n",
      "   3  1.82422e+00  1.82422e+00  1.97332e+00  1.0000  6.31341e-09  3.76220e-02\n",
      "   4  1.74785e+00  1.74785e+00  1.84444e+00  1.0000  3.83053e-09  3.30103e-02\n",
      "   5  1.68242e+00  1.68242e+00  2.15743e+00  1.0000  3.94579e-09  5.76472e-02\n",
      "   6  1.59897e+00  1.59897e+00  6.58760e-01  1.0000  3.78974e-09  1.45284e-01\n",
      "   7  1.55646e+00  1.55646e+00  2.08065e+01  1.0000  1.17442e-09  1.92219e+00\n",
      "   8  1.35594e+00  1.35594e+00  1.03916e+01  1.0000  3.97822e-08  4.85074e-01\n",
      "   9  1.03856e+00  1.03856e+00  7.97573e+00  1.0000  2.19630e-08  4.04185e-02\n",
      "  10  9.90194e-01  9.90194e-01  1.51426e+00  1.0000  1.13478e-08  5.35122e-03\n",
      "iter     merit         cost         grad      step    ||gaps||        KKT\n",
      "  11  9.87136e-01  9.87136e-01  1.05667e-01  1.0000  3.25634e-09  2.62959e-04\n",
      " END  9.87133e-01  9.87133e-01  9.36766e-04   ----   2.09510e-10  3.10654e-06\n"
     ]
    }
   ],
   "source": [
    "samples = 10\n",
    "xlims = [0, 10]\n",
    "ylims = [0, 10]\n",
    "x0 = start_point\n",
    "u0 = np.array([0.0, 0.0])\n",
    "timeStep = 5e-2\n",
    "max_iter = 500\n",
    "# XS_Set_optimal, US_Set_optimal = test_model_full(cost_set, obs_set, samples, xlims, ylims, T, w_des, timeStep, max_iter, with_callback = False)\n",
    "# xs_optimal = XS_Set_optimal[0]\n",
    "# us_optimal = US_Set_optimal[0]\n",
    "xs_optimal, us_optimal, _ = get_results_from_model(cost_set, x0, u0, T, w_des, timeStep, max_iter, with_callback = True)"
   ]
  },
  {
   "cell_type": "code",
   "execution_count": 5,
   "id": "e6fd84c5-f2c4-4259-9f29-6d879476ce17",
   "metadata": {},
   "outputs": [
    {
     "data": {
      "image/png": "[encoded data removed]",
      "text/plain": [
       "<Figure size 640x480 with 1 Axes>"
      ]
     },
     "metadata": {},
     "output_type": "display_data"
    }
   ],
   "source": [
    "# HTML(animatePointMass(xs_optimal, obs_set, target_high).to_jshtml())\n",
    "plot_1_traj(np.vstack(xs_optimal), obs_set, target_high, label='Optimal', linemap = 'b')"
   ]
  },
  {
   "cell_type": "code",
   "execution_count": 6,
   "id": "da7fc03b-7ba3-4f0e-b11c-eda1ba3c98ff",
   "metadata": {},
   "outputs": [],
   "source": [
    "# Bad Running and Terminal Model\n",
    "w_bad = np.zeros_like(w_des)\n",
    "w_run = w_bad[:nr]\n",
    "w_term = w_bad[nr:]\n",
    "\n",
    "xs_non_optimal, us_non_optimal, sqp_non_opt = get_results_from_model(cost_set, x0, u0, T, w_bad, timeStep, max_iter, with_callback = False)"
   ]
  },
  {
   "cell_type": "code",
   "execution_count": 7,
   "id": "055ca337-3fbc-4caf-b8d9-dbc58249283d",
   "metadata": {},
   "outputs": [],
   "source": [
    "# HTML(animatePointMass(xs_non_optimal, obs_set, target_high).to_jshtml())\n",
    "# plot_1_traj(np.vstack(xs_non_optimal), obs_set, target_high, label='Non-Optimal', linemap = 'r')"
   ]
  },
  {
   "cell_type": "code",
   "execution_count": 8,
   "id": "655c52f5-a38b-4ba0-9c24-7fe1b730da10",
   "metadata": {},
   "outputs": [],
   "source": [
    "# IRL Algorithm\n",
    "from scipy.optimize import minimize\n",
    "from scipy.optimize import Bounds\n",
    "\n",
    "def fcn_w(x, cost_set, xs_optimal, us_optimal, xs_non_optimal_set, us_non_optimal_set, dt, use_factor = False, Lambda = 0.001):\n",
    "    opt_traj_feat = cost_set.cum_feat(xs_optimal, us_optimal, dt)\n",
    "    bad_traj_feat = cost_set.cum_feat(np.zeros_like(xs_optimal), np.zeros_like(us_optimal), dt)\n",
    "    factor = 1/(np.linalg.norm(opt_traj_feat - bad_traj_feat))\n",
    "    nr = cost_set.nr\n",
    "    output = 0\n",
    "    num = np.nextafter(0,1)\n",
    "    den = np.nextafter(0,1)\n",
    "    opt_traj_cost = cost_set.traj_cost(xs_optimal, us_optimal, x[:nr], x[nr:], dt)\n",
    "    \n",
    "    num += np.exp(-opt_traj_cost)\n",
    "    den += num\n",
    "    for Xs, Us in zip(xs_non_optimal_set, us_non_optimal_set):\n",
    "        non_opt_traj_cost = cost_set.traj_cost(Xs, Us, x[:nr], x[nr:], dt)\n",
    "        if use_factor:\n",
    "            non_opt_traj_feat = cost_set.cum_feat(Xs, Us, dt)\n",
    "            o = np.exp(factor*np.linalg.norm(opt_traj_feat - non_opt_traj_feat))\n",
    "            den += np.max([np.nextafter(0,1),o*np.exp(-non_opt_traj_cost)])\n",
    "        else:\n",
    "            den += np.max([np.nextafter(0,1),np.exp(-non_opt_traj_cost)])\n",
    "    output -= np.log(num/den)\n",
    "    output += Lambda*np.linalg.norm(x)\n",
    "    # output += Lambda*np.linalg.norm(x - w_old)\n",
    "    return output\n",
    "\n",
    "def fcn_w_2D(x, cost_set, xs_optimal, us_optimal, xs_non_optimal, us_non_optimal, dt, Lambda = 0.001):\n",
    "    nr = cost_set.nr\n",
    "    output = 0\n",
    "    num = np.nextafter(0,1)\n",
    "    den = np.nextafter(0,1)\n",
    "    num += np.exp(-cost_set.traj_cost(xs_optimal, us_optimal, x[:nr], x[nr:], dt))\n",
    "    den += num\n",
    "    den += np.exp(-cost_set.traj_cost(xs_non_optimal, us_non_optimal, x[:nr], x[nr:], dt))\n",
    "    output -= np.log(num/den)\n",
    "    output += Lambda*np.linalg.norm(x)\n",
    "    return output"
   ]
  },
  {
   "cell_type": "code",
   "execution_count": 9,
   "id": "3ce68bd0-11d6-46d3-8e12-6b480b59cf39",
   "metadata": {},
   "outputs": [
    {
     "name": "stdout",
     "output_type": "stream",
     "text": [
      "Fcn Value: 0.0012 || Weight Diff: 0.0000 || Traj Diff: 458.7122, || Optimality: 142.7217\n",
      "Fcn Value: 0.0012 || Weight Diff: 0.2646 || Traj Diff: 9823.8113, || Optimality: 142.7217\n",
      "Fcn Value: 0.0012 || Weight Diff: 0.0000 || Traj Diff: 4363.4771, || Optimality: 2.0725\n",
      "Fcn Value: 0.1731 || Weight Diff: 0.6167 || Traj Diff: 6858.7391, || Optimality: 2.0725\n",
      "Fcn Value: 0.0394 || Weight Diff: 0.0447 || Traj Diff: 35.9899, || Optimality: 1.6309\n",
      "Fcn Value: 1.3017 || Weight Diff: 0.2586 || Traj Diff: 2.4383, || Optimality: 1.5262\n",
      "Fcn Value: 1.6855 || Weight Diff: 0.0003 || Traj Diff: 0.1287, || Optimality: 1.4919\n",
      "Fcn Value: 3.4249 || Weight Diff: 1.1978 || Traj Diff: 2.7660, || Optimality: 1.5068\n",
      "Fcn Value: 4.0143 || Weight Diff: 0.5422 || Traj Diff: 0.0002, || Optimality: 1.0370\n",
      "Fcn Value: 4.1349 || Weight Diff: 0.0881 || Traj Diff: 0.0003, || Optimality: 1.0411\n",
      "Fcn Value: 4.3141 || Weight Diff: 0.0049 || Traj Diff: 0.4580, || Optimality: 1.0411\n",
      "Fcn Value: 5.7166 || Weight Diff: 0.0381 || Traj Diff: 32.1764, || Optimality: 351.0836\n",
      "Fcn Value: 6.4357 || Weight Diff: 0.0276 || Traj Diff: 85.5718, || Optimality: 244.3511\n",
      "Fcn Value: 149.5934 || Weight Diff: 1.0371 || Traj Diff: 97592.5646, || Optimality: 1.8869\n",
      "Fcn Value: 3.5018 || Weight Diff: 1.6872 || Traj Diff: 18171.9875, || Optimality: 2.4526\n",
      "Fcn Value: 3.6040 || Weight Diff: 0.0560 || Traj Diff: 44.8930, || Optimality: 1.6023\n",
      "Fcn Value: 3.0585 || Weight Diff: 0.2126 || Traj Diff: 16.9401, || Optimality: 1.3905\n",
      "Fcn Value: 3.1982 || Weight Diff: 0.0003 || Traj Diff: 0.9845, || Optimality: 1.3604\n",
      "Fcn Value: 6.2944 || Weight Diff: 0.7306 || Traj Diff: 57.1529, || Optimality: 1.3788\n",
      "Fcn Value: 6.3719 || Weight Diff: 0.5077 || Traj Diff: 0.0275, || Optimality: 1.0762\n",
      "Fcn Value: 6.3992 || Weight Diff: 0.1262 || Traj Diff: 0.0001, || Optimality: 1.1060\n",
      "Fcn Value: 6.4129 || Weight Diff: 0.0686 || Traj Diff: 0.0001, || Optimality: 1.1060\n",
      "Fcn Value: 3.0352 || Weight Diff: 0.1094 || Traj Diff: 0.6342, || Optimality: 1.1060\n",
      "Fcn Value: 3.0802 || Weight Diff: 0.0040 || Traj Diff: 2.1352, || Optimality: 1.3066\n",
      "Fcn Value: 22.6364 || Weight Diff: 0.9998 || Traj Diff: 19734.8738, || Optimality: 1.5003\n",
      "Fcn Value: 41.1529 || Weight Diff: 0.6936 || Traj Diff: 825.2261, || Optimality: 1.3256\n",
      "Fcn Value: 56.0756 || Weight Diff: 0.1690 || Traj Diff: 7812.2910, || Optimality: 85.1599\n",
      "Fcn Value: 6.4108 || Weight Diff: 1.3461 || Traj Diff: 17423.2299, || Optimality: 1.9907\n",
      "Fcn Value: 4.8589 || Weight Diff: 0.0009 || Traj Diff: 0.0720, || Optimality: 87.5280\n",
      "Fcn Value: 3.7697 || Weight Diff: 0.0077 || Traj Diff: 4.4602, || Optimality: 1.5686\n",
      "Fcn Value: 3.6855 || Weight Diff: 0.1591 || Traj Diff: 86.4651, || Optimality: 1.6026\n",
      "Fcn Value: 3.5311 || Weight Diff: 0.1745 || Traj Diff: 6.8626, || Optimality: 1.6864\n",
      "Fcn Value: 3.6025 || Weight Diff: 0.0015 || Traj Diff: 0.4451, || Optimality: 1.4571\n",
      "Fcn Value: 7.7397 || Weight Diff: 0.0416 || Traj Diff: 28.2436, || Optimality: 1.4596\n",
      "Fcn Value: 6.4951 || Weight Diff: 0.3550 || Traj Diff: 108.2092, || Optimality: 184.9802\n",
      "Fcn Value: 3.4157 || Weight Diff: 0.0043 || Traj Diff: 1.7308, || Optimality: 259047.6823\n",
      "Fcn Value: 3.3847 || Weight Diff: 0.0293 || Traj Diff: 0.0115, || Optimality: 1.4761\n",
      "Fcn Value: 3.4343 || Weight Diff: 0.0003 || Traj Diff: 0.0931, || Optimality: 1.3181\n",
      "Fcn Value: 3.8371 || Weight Diff: 0.0552 || Traj Diff: 65.0104, || Optimality: 1.3311\n",
      "Fcn Value: 6.4344 || Weight Diff: 0.1696 || Traj Diff: 623.1115, || Optimality: 1.3175\n",
      "Fcn Value: 4.4661 || Weight Diff: 0.3539 || Traj Diff: 212.5641, || Optimality: 1.1083\n",
      "Fcn Value: 12.4857 || Weight Diff: 0.5249 || Traj Diff: 132.3869, || Optimality: 1.0944\n",
      "Fcn Value: 12.4852 || Weight Diff: 0.5423 || Traj Diff: 0.4354, || Optimality: 1.3034\n",
      "Fcn Value: 12.4850 || Weight Diff: 0.1554 || Traj Diff: 0.2960, || Optimality: 1.5150\n",
      "Fcn Value: 3.7886 || Weight Diff: 0.0061 || Traj Diff: 1.9258, || Optimality: 1.6928\n",
      "Fcn Value: 23.8811 || Weight Diff: 0.1000 || Traj Diff: 956.0374, || Optimality: 1.5854\n",
      "Fcn Value: 3.7528 || Weight Diff: 0.1087 || Traj Diff: 63.1588, || Optimality: 2.2689\n",
      "Fcn Value: 3.6187 || Weight Diff: 0.0010 || Traj Diff: 0.0039, || Optimality: 1.4390\n",
      "Fcn Value: 12.3967 || Weight Diff: 0.3043 || Traj Diff: 0.7416, || Optimality: 1.3090\n",
      "  message: STOP: TOTAL NO. of ITERATIONS REACHED LIMIT\n",
      "  success: False\n",
      "   status: 1\n",
      "      fun: 1.1055807457960494\n",
      "        x: [ 0.000e+00  6.555e-04  0.000e+00  1.335e+00  9.399e-01\n",
      "             2.122e+00  9.896e-01  0.000e+00  0.000e+00  0.000e+00\n",
      "             4.037e-02  0.000e+00]\n",
      "      nit: 2\n",
      "      jac: [ 4.249e+00 -5.069e+00 -2.177e+01 -1.059e-01 -4.623e-02\n",
      "            -2.416e-01 -4.451e-02  1.451e-01  0.000e+00  0.000e+00\n",
      "             1.394e-05  0.000e+00]\n",
      "     nfev: 52\n",
      "     njev: 4\n",
      " hess_inv: <12x12 LbfgsInvHessProduct with dtype=float64>\n"
     ]
    }
   ],
   "source": [
    "dt = timeStep\n",
    "Lambda = 0.001\n",
    "lb = 0; ub = np.inf\n",
    "bnds = Bounds(lb, ub)\n",
    "options = {'maxiter': 2, 'iprint': -1,'ftol': 1e-10 ,'gtol' : 1e-10}\n",
    "tol = 1e-10\n",
    "use_factor = True\n",
    "\n",
    "w0 = w_bad\n",
    "w_prev = w0\n",
    "it = 0\n",
    "max_set_size = 5\n",
    "# it_max_IRL = max_set_size + 1\n",
    "it_max_IRL = 50\n",
    "it_max_sqp = 5\n",
    "\n",
    "xs = []\n",
    "us = []\n",
    "ws = []\n",
    "Fcns= []\n",
    "Cost_Diffs = []\n",
    "W_Diffs = []\n",
    "Traj_Diffs = []\n",
    "Opt_Vals = []\n",
    "\n",
    "xs_non_optimal_set = []\n",
    "us_non_optimal_set = []\n",
    "xs_non_optimal_set.append(np.vstack(xs_non_optimal).copy())\n",
    "us_non_optimal_set.append(np.vstack(us_non_optimal).copy())\n",
    "xs.append(np.vstack(xs_non_optimal).copy())\n",
    "us.append(np.vstack(us_non_optimal).copy())\n",
    "ws.append(w_bad)\n",
    "\n",
    "init_choices = ['bad','optimal','previous']\n",
    "stochastic = False\n",
    "w_tol = 0.00001\n",
    "traj_tol = 1e-10\n",
    "w_diff = 1\n",
    "traj_diff = 1\n",
    "e = 1\n",
    "opt_feat = cost_set.cum_feat(xs_optimal,us_optimal,dt)\n",
    "non_opt_feat = cost_set.cum_feat(xs_non_optimal, us_non_optimal, dt)\n",
    "while traj_diff > traj_tol and it < it_max_IRL:\n",
    "    \n",
    "    sqp_non_opt = reset_weights(sqp_non_opt, w0[:nr], w0[nr:])\n",
    "    \n",
    "    # With simple regulation: ||w||\n",
    "    res = minimize(fcn_w, \n",
    "                   w0, \n",
    "                   args=(cost_set, xs_optimal, us_optimal, xs_non_optimal_set, us_non_optimal_set, dt, use_factor, Lambda), \n",
    "                   bounds=bnds, \n",
    "                   method='L-BFGS-B', \n",
    "                   tol = tol,\n",
    "                   options=options)\n",
    "    \n",
    "    # # With simple new regulation: ||w - w_old||\n",
    "    # res = minimize(fcn_w_new, \n",
    "    #                w0, \n",
    "    #                args=(cost_set, xs_optimal, us_optimal, xs_non_optimal_set, us_non_optimal_set, dt, w_prev, Lambda), \n",
    "    #                bounds=bnds, \n",
    "    #                method='L-BFGS-B', \n",
    "    #                tol = tol,\n",
    "    #                options=options)\n",
    "    \n",
    "    w_loop = res.x.copy()\n",
    "    w_loop /= np.max(w_loop)\n",
    "    fcn_value = fcn_w(w_loop, cost_set, xs_optimal, us_optimal, xs, us, dt, Lambda)\n",
    "    # fcn_value = 0.0\n",
    "    Fcns.append(fcn_value)\n",
    "    w_run = w_loop[:nr]\n",
    "    w_term = w_loop[nr:]\n",
    "\n",
    "    # initial = random.choice(init_choices)\n",
    "    initial = 'previous'\n",
    "    if initial == 'previous':\n",
    "        # Warm-Start with previous trajectory\n",
    "        xs_init = [sqp_non_opt.xs.copy()[i] for i in range(T+1)]\n",
    "        us_init = [sqp_non_opt.us.copy()[i] for i in range(T)]\n",
    "    elif initial == 'optimal':\n",
    "        # Warm-Start with optimal trajectory\n",
    "        xs_init = [xs_optimal[i] for i in range(T+1)]\n",
    "        us_init = [us_optimal[i] for i in range(T)]\n",
    "    elif initial == 'bad':\n",
    "        # Warm-Start with zero trajectory\n",
    "        xs_init = [x0 for i in range(T+1)]\n",
    "        us_init = [u0 for i in range(T)]\n",
    "    \n",
    "    done = sqp_non_opt.solve(xs_init, us_init, it_max_sqp)\n",
    "    \n",
    "    # Add the trajectory to the set\n",
    "    xs.append(np.vstack(sqp_non_opt.xs.tolist().copy()))\n",
    "    us.append(np.vstack(sqp_non_opt.us.tolist().copy()))\n",
    "    ws.append(w_loop.copy())\n",
    "    traj_feat = cost_set.cum_feat(sqp_non_opt.xs.tolist().copy(), sqp_non_opt.us.tolist().copy(), dt)\n",
    "    # traj_optimality = np.exp(-(np.linalg.norm(opt_feat-traj_feat)))\n",
    "    # traj_nonoptimality = (np.linalg.norm(traj_feat - opt_feat))/(np.linalg.norm(opt_feat - non_opt_feat))\n",
    "    optimality = np.exp((np.linalg.norm(traj_feat - opt_feat))/(np.linalg.norm(opt_feat - non_opt_feat)))\n",
    "    Opt_Vals.append(optimality)\n",
    "    \n",
    "    if len(xs) <= max_set_size:\n",
    "        xs_non_optimal_set = xs\n",
    "        us_non_optimal_set = us\n",
    "    else:\n",
    "        if not stochastic:\n",
    "            xs_non_optimal_set = xs[-max_set_size:]\n",
    "            us_non_optimal_set = us[-max_set_size:]\n",
    "        else:\n",
    "            xs_non_optimal_set = random.choices(xs, k=max_set_size)\n",
    "            us_non_optimal_set = random.choices(us, k=max_set_size)\n",
    "        \n",
    "    \n",
    "    opt_diff = (cost_set.traj_cost(sqp_non_opt.xs.copy(), sqp_non_opt.us.copy(), w_des[:nr], w_des[nr:], dt)- cost_set.traj_cost(xs_optimal, us_optimal, w_des[:nr], w_des[nr:], dt))**2 \n",
    "                \n",
    "    w_diff = np.linalg.norm(w_loop - w_prev)\n",
    "    traj_diff = (sqp_non_opt.cost - cost_set.traj_cost(xs_optimal, us_optimal, w_loop[:nr], w_loop[nr:], dt))**2\n",
    "    Cost_Diffs.append(opt_diff)\n",
    "    W_Diffs.append(w_diff)\n",
    "    Traj_Diffs.append(traj_diff)\n",
    "    if it > 0:\n",
    "        print('Fcn Value: {:.4f} || Weight Diff: {:.4f} || Traj Diff: {:.4f}, || Optimality: {:.4f}'.format(\n",
    "            fcn_value, w_diff, traj_diff, optimality\n",
    "        ))\n",
    "    \n",
    "    # Initial W for IRL as previous weights\n",
    "    w0 = w_loop.copy()\n",
    "    \n",
    "    w_prev = w0\n",
    "    it += 1\n",
    "    # if it == it_max_IRL-1:\n",
    "    #     # options['maxiter'] = 200\n",
    "    #     xs_non_optimal_set = xs\n",
    "    #     us_non_optimal_set = us\n",
    "\n",
    "print(res)\n",
    "w_irl = res.x/np.max(res.x)\n",
    "# w_irl = ws[ws.index(min(ws))+1]"
   ]
  },
  {
   "cell_type": "code",
   "execution_count": 10,
   "id": "b43f88ad-faa0-478f-a17d-a0d511502ea3",
   "metadata": {},
   "outputs": [
    {
     "data": {
      "image/png": "[encoded data removed]",
      "text/plain": [
       "<Figure size 640x480 with 1 Axes>"
      ]
     },
     "metadata": {},
     "output_type": "display_data"
    }
   ],
   "source": [
    "plot_1_set(xs, obs_set, target_high, label='Non-Optimals', linemap_traj='r:', linemap_set='r:')"
   ]
  },
  {
   "cell_type": "code",
   "execution_count": 11,
   "id": "d99768d8-edc4-42de-ba18-93ea6934b3c9",
   "metadata": {},
   "outputs": [
    {
     "name": "stdout",
     "output_type": "stream",
     "text": [
      "9\n"
     ]
    }
   ],
   "source": [
    "n = Opt_Vals.index(min(Opt_Vals))\n",
    "print(n)"
   ]
  },
  {
   "cell_type": "code",
   "execution_count": 12,
   "id": "c98dd422-7f7b-4eff-8563-4c85af2d3afc",
   "metadata": {},
   "outputs": [
    {
     "name": "stdout",
     "output_type": "stream",
     "text": [
      "trans_high :\n",
      "Running ||  Desired:  0.005 IRL:  0.0\n",
      "Terminal ||  Desired:  1.0 IRL:  0.4663997506484662\n",
      "\n",
      "XReg :\n",
      "Running ||  Desired:  0.0005 IRL:  0.00030895220502545807\n",
      "Terminal ||  Desired:  0.0005 IRL:  0.0\n",
      "\n",
      "UReg :\n",
      "Running ||  Desired:  0.0005 IRL:  0.0\n",
      "Terminal ||  Desired:  0.0005 IRL:  0.0\n",
      "\n",
      "Obs1 :\n",
      "Running ||  Desired:  1.0 IRL:  0.6293937456337523\n",
      "Terminal ||  Desired:  0.5 IRL:  0.0\n",
      "\n",
      "Obs2 :\n",
      "Running ||  Desired:  1.0 IRL:  0.44297255499509275\n",
      "Terminal ||  Desired:  0.5 IRL:  0.01902618177328126\n",
      "\n",
      "Obs3 :\n",
      "Running ||  Desired:  1.0 IRL:  1.0\n",
      "Terminal ||  Desired:  0.5 IRL:  0.0\n",
      "\n"
     ]
    }
   ],
   "source": [
    "# w_irl = ws[n+1]\n",
    "w_irl = res.x/np.max(res.x)\n",
    "w_irl /= np.max(w_irl)\n",
    "for i, cost in enumerate(cost_set.costs):\n",
    "    print(cost.name, ':')\n",
    "    print('Running || ', 'Desired: ', w_des[:nr][i], 'IRL: ', w_irl[:nr][i])\n",
    "    print('Terminal || ', 'Desired: ', w_des[nr:][i], 'IRL: ', w_irl[nr:][i])\n",
    "    print('')"
   ]
  },
  {
   "cell_type": "code",
   "execution_count": 13,
   "id": "583df7f3-62c4-465f-b50b-2fba0e57eda8",
   "metadata": {},
   "outputs": [
    {
     "name": "stdout",
     "output_type": "stream",
     "text": [
      "Desired:                  8.312887898484085\n",
      "IRL:                      12.396662973235246\n",
      "\n",
      "Desired Trajectory Cost:  0.9871325704160181\n",
      "with IRL Weight:          0.06270471013341078\n",
      "\n",
      "IRL Trajectory Cost:      0.183178400141463\n",
      "with Desired Weight:      1.161424441546044\n"
     ]
    }
   ],
   "source": [
    "print('Desired:                 ', fcn_w(w_des, cost_set, xs_optimal, us_optimal, xs, us, dt, Lambda)) \n",
    "print('IRL:                     ', fcn_w(w_irl, cost_set, xs_optimal, us_optimal, xs, us, dt, Lambda))\n",
    "print('')\n",
    "print('Desired Trajectory Cost: ', cost_set.traj_cost(xs_optimal, us_optimal, w_des[:nr], w_des[nr:], timeStep))\n",
    "print('with IRL Weight:         ', cost_set.traj_cost(xs_optimal, us_optimal, w_irl[:nr], w_irl[nr:], timeStep))\n",
    "print('')\n",
    "print('IRL Trajectory Cost:     ', cost_set.traj_cost(xs[-1], us[-1], w_irl[:nr], w_irl[nr:], timeStep))\n",
    "print('with Desired Weight:     ', cost_set.traj_cost(xs[-1], us[-1], w_des[:nr], w_des[nr:], timeStep))"
   ]
  },
  {
   "cell_type": "code",
   "execution_count": null,
   "id": "abfad678-06e8-49b2-855d-b0d3514c98e6",
   "metadata": {},
   "outputs": [
    {
     "name": "stdout",
     "output_type": "stream",
     "text": [
      "Collecting 100 trajectories\n",
      "10 Trajectories Collected\n",
      "20 Trajectories Collected\n",
      "Trajectory 23 Rejected\n",
      "30 Trajectories Collected\n",
      "Trajectory 33 Rejected\n",
      "Trajectory 34 Rejected\n",
      "40 Trajectories Collected\n",
      "Trajectory 46 Rejected\n",
      "Trajectory 47 Rejected\n",
      "50 Trajectories Collected\n",
      "60 Trajectories Collected\n",
      "70 Trajectories Collected\n",
      "Trajectory 77 Rejected\n",
      "Trajectory 78 Rejected\n",
      "80 Trajectories Collected\n",
      "Trajectory 87 Rejected\n",
      "90 Trajectories Collected\n"
     ]
    }
   ],
   "source": [
    "XS_Set, US_Set = test_model_full(cost_set, obs_set, samples, xlims, ylims, T, w_irl, timeStep, max_iter, with_callback = False)"
   ]
  },
  {
   "cell_type": "code",
   "execution_count": null,
   "id": "7c685874-13d3-4f9e-951d-50acb61bfb61",
   "metadata": {},
   "outputs": [],
   "source": [
    "print(plot_tested_model(XS_Set, obs_set, target_high))\n",
    "# print(plot_tested_model(XS_Set_optimal, obs_set, target_high))"
   ]
  },
  {
   "cell_type": "code",
   "execution_count": null,
   "id": "6b4b8c8b-f790-4b7b-94ca-7ae5249fc5ac",
   "metadata": {},
   "outputs": [],
   "source": [
    "HTML(animateTraj(xs_optimal, xs, obs_set, target_high, sleep=500, animType=2).to_jshtml())"
   ]
  },
  {
   "cell_type": "code",
   "execution_count": null,
   "id": "fd213117-763b-47c8-9877-c529b037859c",
   "metadata": {},
   "outputs": [],
   "source": [
    "# Testing\n",
    "w_run = w_irl[:nr]\n",
    "w_term = w_irl[nr:]\n",
    "# w_run = w_des[:nr]\n",
    "# w_term = w_des[nr:]\n",
    "# w_run = ws[n][:nr]\n",
    "# w_term = ws[n][nr:]\n",
    "\n",
    "x0 = start_point\n",
    "# x0 = np.array([5.0, 3.5, 0.0, 0.0])\n",
    "u0 = np.array([0.0, 0.0])\n",
    "\n",
    "xs_output, us_output, sqp = get_results_from_model(cost_set, x0, u0, T, w_irl, timeStep, max_iter, with_callback = True)"
   ]
  },
  {
   "cell_type": "code",
   "execution_count": null,
   "id": "834e5918-dae5-483d-84fa-3bd37d3dc7b8",
   "metadata": {},
   "outputs": [],
   "source": [
    "plot_results(xs_optimal, xs, xs_output, obs_set, target_high)"
   ]
  },
  {
   "cell_type": "code",
   "execution_count": null,
   "id": "bf92d975-b2f6-4f6a-a21a-77b9206aebcd",
   "metadata": {},
   "outputs": [],
   "source": [
    "# creating sets\n",
    "all_set_x = []\n",
    "all_set_u = []\n",
    "training_set_x = []\n",
    "training_set_u = []\n",
    "\n",
    "all_set_x.append(xs[-1]); all_set_x.append(xs_optimal); training_set_x.append(xs_optimal)\n",
    "all_set_u.append(us[-1]); all_set_u.append(us_optimal); training_set_u.append(us_optimal)\n",
    "\n",
    "for X, U in zip(xs, us):\n",
    "    all_set_x.append(X); training_set_x.append(X)\n",
    "    all_set_u.append(U); training_set_u.append(U)"
   ]
  },
  {
   "cell_type": "code",
   "execution_count": null,
   "id": "84468f65-fbbf-46cb-93b5-1e2f6eaea9a4",
   "metadata": {},
   "outputs": [],
   "source": [
    "P_irl = distributions(cost_set, training_set_x, training_set_u, w_irl[:nr], w_irl[nr:], dt)\n",
    "P_des = distributions(cost_set, training_set_x, training_set_u, w_des[:nr], w_des[nr:], dt)"
   ]
  },
  {
   "cell_type": "code",
   "execution_count": null,
   "id": "85926e1e-40f5-419d-b8c2-be5a9f5a63b1",
   "metadata": {},
   "outputs": [],
   "source": [
    "plt.plot(-1/np.log(P_irl[1:]),label='IRL')\n",
    "plt.plot(-1/np.log(P_des[1:]),label='Desired')\n",
    "plt.legend()\n",
    "plt.gca().set_title(r'$\\frac{-1}{P(\\tau)}$')\n",
    "plt.show()"
   ]
  },
  {
   "cell_type": "code",
   "execution_count": null,
   "id": "6423ac3d-4bf9-40e4-b14e-276d2428e4ad",
   "metadata": {},
   "outputs": [],
   "source": [
    "# # Add a noisy trajectory to the set\n",
    "# # scale = 1/traj_diff + 1.0\n",
    "# scale = 5.0\n",
    "# noisy_u = np.vstack(sqp_non_opt.us.tolist().copy())+np.random.normal(0.0,scale,np.stack(sqp_non_opt.us.tolist()).shape)\n",
    "# us.append(noisy_u)\n",
    "# xs.append(np.stack(problem.rollout([noisy_u[i] for i in range(T)])))"
   ]
  },
  {
   "cell_type": "code",
   "execution_count": null,
   "id": "2c0e83fa-17cb-4b27-97b8-d50befefa496",
   "metadata": {},
   "outputs": [],
   "source": []
  }
 ],
 "metadata": {
  "kernelspec": {
   "display_name": "Python 3 (ipykernel)",
   "language": "python",
   "name": "python3"
  },
  "language_info": {
   "codemirror_mode": {
    "name": "ipython",
    "version": 3
   },
   "file_extension": ".py",
   "mimetype": "text/x-python",
   "name": "python",
   "nbconvert_exporter": "python",
   "pygments_lexer": "ipython3",
   "version": "3.10.12"
  }
 },
 "nbformat": 4,
 "nbformat_minor": 5
}
