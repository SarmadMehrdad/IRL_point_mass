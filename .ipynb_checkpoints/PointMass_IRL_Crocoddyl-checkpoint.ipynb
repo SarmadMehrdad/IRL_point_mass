{
 "cells": [
  {
   "cell_type": "code",
   "execution_count": 1,
   "id": "fd925b9e-8f9f-436d-a98b-d4d7b0d05656",
   "metadata": {},
   "outputs": [],
   "source": [
    "import crocoddyl\n",
    "import pinocchio\n",
    "from IPython.display import HTML\n",
    "import mim_solvers\n",
    "import numpy as np\n",
    "import random\n",
    "import pinocchio as pin\n",
    "from matplotlib import animation\n",
    "from matplotlib import pyplot as plt\n",
    "from PointMass_utils import *\n",
    "from PointMass_model import DifferentialActionModelPointMass"
   ]
  },
  {
   "cell_type": "code",
   "execution_count": 2,
   "id": "0f2871df-83f7-41a8-9a3f-c5d674b11be4",
   "metadata": {},
   "outputs": [],
   "source": [
    "nx = 4\n",
    "nu = 2\n",
    "T = 30\n",
    "timeStep = 5e-2\n",
    "start_point = np.array([0, 0, 0, 0])\n",
    "target_low = np.array([10, 0, 0, 0])\n",
    "target_high = np.array([10, 10, 0, 0])\n",
    "obs0 = Obstacle(5, 5, 2, 'Obs0')\n",
    "obs1 = Obstacle(3.5, 3.5, 1, 'Obs1')\n",
    "obs2 = Obstacle(6.5, 6.5, 1, 'Obs2')\n",
    "obs3 = Obstacle(6.5, 3.5, 1, 'Obs3')\n",
    "obs_set = [obs1, obs2, obs3]\n",
    "# obs_set = []"
   ]
  },
  {
   "cell_type": "code",
   "execution_count": 3,
   "id": "6641af20-114f-4073-a047-4565ffaedf08",
   "metadata": {},
   "outputs": [],
   "source": [
    "# Custom 2-Norm Activation Model for the 2D obstacle avoidance case\n",
    "class ActivationModel2NormCustom(crocoddyl.ActivationModelAbstract):\n",
    "    def __init__(self, state, R, nr):\n",
    "        crocoddyl.ActivationModelAbstract.__init__(self, nr)\n",
    "        self.d = 0.0\n",
    "        self.state = state\n",
    "        self.alpha = R\n",
    "        \n",
    "    def calc(self, data, r):\n",
    "        self.d = np.linalg.norm(r[0:self.state.nq])\n",
    "        if self.d > self.alpha:\n",
    "            data.a_value = 0.0\n",
    "        else:\n",
    "            data.a_value = 0.5 * np.sum((self.d - self.alpha)**2)\n",
    "        \n",
    "    def calcDiff(self, data, r):\n",
    "        if self.d < self.alpha:\n",
    "            data.Ar = (self.d - self.alpha)/self.d * r\n",
    "            if self.true_hessian:\n",
    "                diag_values = np.einsum('ii->i',data.Arr)\n",
    "                diag_values = self.alpha * r**2 / self.d**3\n",
    "                diag_values += (self.d - self.alpha) / self.d\n",
    "            else:\n",
    "                diag_values = np.einsum('ii->i',data.Arr)\n",
    "                diag_values = r**2 / self.d**2\n",
    "        else:\n",
    "            data.Ar = np.zeros_like(data.Ar)\n",
    "            data.Arr = np.zeros_like(data.Arr)\n",
    "            \n",
    "        "
   ]
  },
  {
   "cell_type": "code",
   "execution_count": 4,
   "id": "9ea40f9b-7373-4b59-bf1b-43951c29232e",
   "metadata": {},
   "outputs": [],
   "source": [
    "pm_model = pin.buildModelFromUrdf('PM_model.urdf')\n",
    "pm_model.gravity = pin.Motion.Zero()\n",
    "pm_data = pm_model.createData()"
   ]
  },
  {
   "cell_type": "code",
   "execution_count": 19,
   "id": "c8eb396a-78d7-4eca-9b6d-aa2cb46c63dc",
   "metadata": {},
   "outputs": [],
   "source": [
    "nq = pm_model.nq; nv = nq\n",
    "nu = 2; nx = nq + nv\n",
    "# state = crocoddyl.StateVector(nx)\n",
    "state = crocoddyl.StateMultibody(pm_model)\n",
    "stateDataCollector = crocoddyl.DataCollectorAbstract()\n",
    "actuation = crocoddyl.ActuationModelAbstract(state, nu)\n",
    "actuationData = crocoddyl.ActuationDataAbstract(actuation)\n",
    "actuationDataCollector = crocoddyl.DataCollectorActuation(actuationData)\n",
    "\n",
    "# U-Reg\n",
    "uResidual = crocoddyl.ResidualModelControl(state)\n",
    "uRegCost = crocoddyl.CostModelResidual(state, uResidual)\n",
    "uRegCostData = uRegCost.createData(actuationDataCollector)\n",
    "\n",
    "# X-Reg\n",
    "xResidual = crocoddyl.ResidualModelState(state, start_point)\n",
    "xRegCost = crocoddyl.CostModelResidual(state, xResidual)\n",
    "xRegCostData = xRegCost.createData(stateDataCollector)\n",
    "\n",
    "# Goal Translation\n",
    "transResidual = crocoddyl.ResidualModelState(state, target_high)\n",
    "transResCost = crocoddyl.CostModelResidual(state, transResidual)\n",
    "transResCostData = transResCost.createData(stateDataCollector)\n",
    "\n",
    "# Obstacles\n",
    "collisionCost = []\n",
    "collisionData = []\n",
    "for i, obs in enumerate(obs_set):\n",
    "    collisionActivation = ActivationModel2NormCustom(state, obs.R, nr = 4)\n",
    "    collisionResidual = crocoddyl.ResidualModelState(state, np.array([obs.x, obs.y, 0.0, 0.0]))\n",
    "    collisionCost.append(crocoddyl.CostModelResidual(state, collisionActivation, collisionResidual))\n",
    "    collisionData.append(collisionCost[i].createData(stateDataCollector))"
   ]
  },
  {
   "cell_type": "code",
   "execution_count": 6,
   "id": "d0d7adc1-6bb4-40d0-aa27-c96bbd1de625",
   "metadata": {},
   "outputs": [],
   "source": [
    "# Setting Weights\n",
    "w_running = {}\n",
    "w_terminal = {}\n",
    "\n",
    "w_running['XReg'] = 1e-1;          w_terminal['XReg'] = 1e2\n",
    "w_running['UReg'] = 1e-4;          w_terminal['UReg'] = 1e2\n",
    "w_running['translation'] = 1e1;    w_terminal['translation'] = 1e2\n",
    "w_running['Obs'] = 1e-1;           w_terminal['Obs'] = 1e3"
   ]
  },
  {
   "cell_type": "code",
   "execution_count": 7,
   "id": "50c68b8c-e43a-4e89-9db1-68bfcb95ee83",
   "metadata": {},
   "outputs": [],
   "source": [
    "# Adding Costs\n",
    "runningCostModel = crocoddyl.CostModelSum(state)\n",
    "terminalCostModel = crocoddyl.CostModelSum(state)\n",
    "for w, model in zip([w_running, w_terminal],[runningCostModel, terminalCostModel]):\n",
    "    model.addCost(\"XReg\", xRegCost, w['XReg'])\n",
    "    model.addCost(\"UReg\", uRegCost, w['UReg'])\n",
    "    model.addCost(\"translation\", transResCost, w['translation'])\n",
    "    for c, colCost in enumerate(collisionCost):\n",
    "        model.addCost(\"obs\"+str(c), colCost, w['Obs'])"
   ]
  },
  {
   "cell_type": "code",
   "execution_count": 17,
   "id": "24263af3-c065-4f87-80dd-90e02b896910",
   "metadata": {},
   "outputs": [
    {
     "ename": "ArgumentError",
     "evalue": "Python argument types in\n    DifferentialActionModelNumDiff.__init__(DifferentialActionModelNumDiff, CostModelSum, bool)\ndid not match C++ signature:\n    __init__(_object* self, boost::shared_ptr<crocoddyl::DifferentialActionModelAbstractTpl<double> > model)\n    __init__(_object* self, boost::shared_ptr<crocoddyl::DifferentialActionModelAbstractTpl<double> > model, bool gaussApprox)",
     "output_type": "error",
     "traceback": [
      "\u001b[0;31m---------------------------------------------------------------------------\u001b[0m",
      "\u001b[0;31mArgumentError\u001b[0m                             Traceback (most recent call last)",
      "Cell \u001b[0;32mIn[17], line 2\u001b[0m\n\u001b[1;32m      1\u001b[0m \u001b[38;5;66;03m# NumDiff Differential Analytical Model\u001b[39;00m\n\u001b[0;32m----> 2\u001b[0m running_DAM \u001b[38;5;241m=\u001b[39m \u001b[43mcrocoddyl\u001b[49m\u001b[38;5;241;43m.\u001b[39;49m\u001b[43mDifferentialActionModelNumDiff\u001b[49m\u001b[43m(\u001b[49m\u001b[43mrunningCostModel\u001b[49m\u001b[43m,\u001b[49m\u001b[43m \u001b[49m\u001b[38;5;28;43;01mFalse\u001b[39;49;00m\u001b[43m)\u001b[49m\n\u001b[1;32m      3\u001b[0m terminal_DAM \u001b[38;5;241m=\u001b[39m crocoddyl\u001b[38;5;241m.\u001b[39mDifferentialActionModelNumDiff(terminalCostModel, \u001b[38;5;28;01mFalse\u001b[39;00m)\n",
      "\u001b[0;31mArgumentError\u001b[0m: Python argument types in\n    DifferentialActionModelNumDiff.__init__(DifferentialActionModelNumDiff, CostModelSum, bool)\ndid not match C++ signature:\n    __init__(_object* self, boost::shared_ptr<crocoddyl::DifferentialActionModelAbstractTpl<double> > model)\n    __init__(_object* self, boost::shared_ptr<crocoddyl::DifferentialActionModelAbstractTpl<double> > model, bool gaussApprox)"
     ]
    }
   ],
   "source": [
    "# NumDiff Differential Analytical Model\n",
    "# running_DAM = crocoddyl.DifferentialActionModelNumDiff(runningCostModel, False)\n",
    "# terminal_DAM = crocoddyl.DifferentialActionModelNumDiff(terminalCostModel, False)"
   ]
  },
  {
   "cell_type": "code",
   "execution_count": 9,
   "id": "12a19c91-f4a9-4e0d-88de-c69845bb755d",
   "metadata": {},
   "outputs": [],
   "source": [
    "# Differential Analytical Model\n",
    "running_DAM = crocoddyl.DifferentialActionModelFreeFwdDynamics(state, actuation, runningCostModel)\n",
    "terminal_DAM = crocoddyl.DifferentialActionModelFreeFwdDynamics(state, actuation, terminalCostModel)"
   ]
  },
  {
   "cell_type": "code",
   "execution_count": 10,
   "id": "2de6f06f-e33f-4ad5-a6ac-cda73a66e4e3",
   "metadata": {},
   "outputs": [],
   "source": [
    "# running_DAM.costs.costs['obs1'].cost.activation.alpha"
   ]
  },
  {
   "cell_type": "code",
   "execution_count": 11,
   "id": "5bb5cd06-7c53-4f01-b0ba-eb54766e3a87",
   "metadata": {},
   "outputs": [
    {
     "data": {
      "text/plain": [
       "{'UReg': {w=0.0001, CostModelResidual {ResidualModelControl, ActivationModelQuad {nr=2}}},\n",
       " 'XReg': {w=0.1, CostModelResidual {ResidualModelState, ActivationModelQuad {nr=4}}},\n",
       " 'obs0': {w=0.1, CostModelResidual {ResidualModelState, crocoddyl::python::ActivationModelAbstract_wrap}},\n",
       " 'obs1': {w=0.1, CostModelResidual {ResidualModelState, crocoddyl::python::ActivationModelAbstract_wrap}},\n",
       " 'obs2': {w=0.1, CostModelResidual {ResidualModelState, crocoddyl::python::ActivationModelAbstract_wrap}},\n",
       " 'translation': {w=10, CostModelResidual {ResidualModelState, ActivationModelQuad {nr=4}}}}"
      ]
     },
     "execution_count": 11,
     "metadata": {},
     "output_type": "execute_result"
    }
   ],
   "source": [
    "running_DAM.costs.costs.todict()"
   ]
  },
  {
   "cell_type": "code",
   "execution_count": 12,
   "id": "1c1f940e-f53a-4188-b96a-b5dfcf1276ce",
   "metadata": {},
   "outputs": [],
   "source": [
    "# Create Integrated Action Model (IAM), i.e. Euler integration of continuous dynamics and cost\n",
    "runningModel = crocoddyl.IntegratedActionModelEuler(running_DAM, timeStep)\n",
    "terminalModel = crocoddyl.IntegratedActionModelEuler(terminal_DAM, 0.)"
   ]
  },
  {
   "cell_type": "code",
   "execution_count": 13,
   "id": "8b46235f-e924-4f4c-b2a6-20a8fafb9c99",
   "metadata": {},
   "outputs": [],
   "source": [
    "x0 = np.zeros(state.nx)\n",
    "u0 = np.zeros(actuation.nu)\n",
    "problem = crocoddyl.ShootingProblem(x0, [runningModel] * T, terminalModel)\n",
    "solver = mim_solvers.SolverCSQP(problem)\n",
    "# solver.setCallbacks([crocoddyl.CallbackLogger(), crocoddyl.CallbackVerbose()])\n",
    "# Warm start : initial state + gravity compensation\n",
    "xs_init = [x0 for i in range(T+1)]\n",
    "us_init = [u0 for i in range(T)]"
   ]
  },
  {
   "cell_type": "code",
   "execution_count": 16,
   "id": "41cf64a2-e724-461c-9050-c962de57ef89",
   "metadata": {},
   "outputs": [
    {
     "ename": "TypeError",
     "evalue": "'NoneType' object is not callable",
     "output_type": "error",
     "traceback": [
      "\u001b[0;31m---------------------------------------------------------------------------\u001b[0m",
      "\u001b[0;31mTypeError\u001b[0m                                 Traceback (most recent call last)",
      "Cell \u001b[0;32mIn[16], line 3\u001b[0m\n\u001b[1;32m      1\u001b[0m solver\u001b[38;5;241m.\u001b[39mtermination_tolerance \u001b[38;5;241m=\u001b[39m \u001b[38;5;241m1e-5\u001b[39m\n\u001b[1;32m      2\u001b[0m \u001b[38;5;66;03m# solver.with_callbacks = True\u001b[39;00m\n\u001b[0;32m----> 3\u001b[0m \u001b[43msolver\u001b[49m\u001b[38;5;241;43m.\u001b[39;49m\u001b[43msolve\u001b[49m\u001b[43m(\u001b[49m\u001b[43mxs_init\u001b[49m\u001b[43m,\u001b[49m\u001b[43m \u001b[49m\u001b[43mus_init\u001b[49m\u001b[43m,\u001b[49m\u001b[43m \u001b[49m\u001b[38;5;241;43m100\u001b[39;49m\u001b[43m)\u001b[49m\n\u001b[1;32m      4\u001b[0m \u001b[38;5;66;03m# solver.with_callbacks = False\u001b[39;00m\n",
      "\u001b[0;31mTypeError\u001b[0m: 'NoneType' object is not callable"
     ]
    }
   ],
   "source": [
    "solver.termination_tolerance = 1e-5\n",
    "# solver.with_callbacks = True\n",
    "solver.solve(xs_init, us_init, 100)\n",
    "# solver.with_callbacks = False"
   ]
  }
 ],
 "metadata": {
  "kernelspec": {
   "display_name": "Python 3 (ipykernel)",
   "language": "python",
   "name": "python3"
  },
  "language_info": {
   "codemirror_mode": {
    "name": "ipython",
    "version": 3
   },
   "file_extension": ".py",
   "mimetype": "text/x-python",
   "name": "python",
   "nbconvert_exporter": "python",
   "pygments_lexer": "ipython3",
   "version": "3.10.12"
  }
 },
 "nbformat": 4,
 "nbformat_minor": 5
}
