{
 "cells": [
  {
   "cell_type": "code",
   "execution_count": 1,
   "id": "55948364-6796-441b-abed-50372a61af40",
   "metadata": {},
   "outputs": [],
   "source": [
    "# IRL AutoRegressive 3\n",
    "# In this algorithm, the set of non-optimal trajectories to be fed into the IRL block are pruned\n",
    "# in such a way that only the ones with closer distance (in feacture space) to the optimal trajectory are remained to learn from."
   ]
  },
  {
   "cell_type": "code",
   "execution_count": 2,
   "id": "8d76daa0-25e8-4bf7-ad8e-feb8a301453b",
   "metadata": {},
   "outputs": [],
   "source": [
    "import crocoddyl\n",
    "import pinocchio\n",
    "from IPython.display import HTML\n",
    "import mim_solvers\n",
    "import numpy as np\n",
    "import random\n",
    "from matplotlib import animation\n",
    "from matplotlib import pyplot as plt\n",
    "from PointMass_utils import *\n",
    "from PointMass_model import *"
   ]
  },
  {
   "cell_type": "code",
   "execution_count": 3,
   "id": "f36c6b01-f572-4cfc-85d6-232f3edd67c4",
   "metadata": {},
   "outputs": [],
   "source": [
    "nx = 4\n",
    "nu = 2\n",
    "T = 40\n",
    "start_point = np.array([0, 0, 0, 0])\n",
    "target_low = np.array([10, 0, 0, 0])\n",
    "target_high = np.array([10, 10, 0, 0])\n",
    "obs_act = 1.5\n",
    "obs0 = Obstacle(10, 8, 2, obs_act, 'Obs0')\n",
    "obs1 = Obstacle(3.5, 2.5, 1, obs_act, 'Obs1')\n",
    "obs2 = Obstacle(8, 7, 1, obs_act, 'Obs2')\n",
    "obs3 = Obstacle(4.5, 6, 1, obs_act, 'Obs3')\n",
    "obs4 = Obstacle(7, 4, 1, obs_act, 'Obs4')\n",
    "obs5 = Obstacle(6, 7.5, 1, obs_act, 'Obs5')\n",
    "obs6 = Obstacle(7.5, 3, 1, obs_act, 'Obs6')\n",
    "obs7 = Obstacle(5, 1, 1, obs_act, 'Obs7')\n",
    "obs8 = Obstacle(2.5, 2, 1, obs_act, 'Obs8')\n",
    "obs_set = [obs1, obs2, obs3]#, obs4, obs5, obs6, obs7, obs8]\n",
    "# obs_set = [obs0]\n",
    "translation_cost = XReg(nx, target_high, 'trans_high')\n",
    "xreg = XReg(nx, start_point, 'XReg')\n",
    "ureg = UReg(nu, None, 'UReg')\n",
    "\n",
    "cost_set = Costs()\n",
    "cost_set.add_cost(translation_cost)\n",
    "cost_set.add_cost(xreg)\n",
    "cost_set.add_cost(ureg)\n",
    "# cost_set.add_cost(obs0)\n",
    "cost_set.add_cost(obs1)\n",
    "cost_set.add_cost(obs2)\n",
    "cost_set.add_cost(obs3)\n",
    "# cost_set.add_cost(obs4)\n",
    "# cost_set.add_cost(obs5)\n",
    "# cost_set.add_cost(obs6)\n",
    "# cost_set.add_cost(obs7)\n",
    "# cost_set.add_cost(obs8)\n",
    "\n",
    "nr = cost_set.nr"
   ]
  },
  {
   "cell_type": "code",
   "execution_count": 4,
   "id": "adc82999-02e7-4ff5-befc-5883c8d58f47",
   "metadata": {},
   "outputs": [],
   "source": [
    "# Desired Weights\n",
    "w_run_possibles = np.array([10, 1., 1., 2000, 2000, 2000, 2000, 1000, 2000, 2000, 2000])\n",
    "w_term_possibles = np.array([2000, 1., 1., 1000, 1000, 1000, 500, 0, 1000, 1000, 1000])\n",
    "w_run = w_run_possibles[:nr]\n",
    "w_term = w_term_possibles[:nr]\n",
    "obs_set = obs_set[:nr]\n",
    "# w_des = np.hstack([w_run, w_term])\n",
    "w_des = (np.hstack([w_run, w_term])/(np.max(np.hstack([w_run, w_term])))).copy()\n",
    "# w_des = (np.hstack([w_run, w_term])/(np.linalg.norm(np.hstack([w_run, w_term])))).copy()"
   ]
  },
  {
   "cell_type": "code",
   "execution_count": 5,
   "id": "98ccf0e2-bc95-4ed0-b48b-f55a8faf1543",
   "metadata": {},
   "outputs": [
    {
     "name": "stdout",
     "output_type": "stream",
     "text": [
      "iter     merit         cost         grad      step    ||gaps||        KKT\n",
      "   1  1.01000e+02  1.01000e+02  3.46624e+01  1.0000  0.00000e+00  9.96889e+00\n",
      "   2  1.85244e+00  1.85244e+00  2.76984e+00  1.0000  2.68674e-14  2.01482e-01\n",
      "   3  1.70352e+00  1.70352e+00  1.82624e+00  1.0000  5.86409e-09  3.33882e-02\n",
      "   4  1.63507e+00  1.63507e+00  1.58940e+00  1.0000  3.68357e-09  2.35607e-02\n",
      "   5  1.58312e+00  1.58312e+00  1.50460e+00  1.0000  3.36686e-09  3.50557e-02\n",
      "   6  1.53922e+00  1.53922e+00  2.97859e+00  1.0000  3.28738e-09  1.61415e-01\n",
      "   7  1.40185e+00  1.40185e+00  5.94045e+00  1.0000  5.64921e-09  1.87029e-01\n",
      "   8  1.09783e+00  1.09783e+00  5.29445e+00  1.0000  9.41907e-09  9.88267e-02\n",
      "   9  9.89627e-01  9.89627e-01  2.93658e+00  1.0000  7.36359e-09  2.18473e-02\n",
      "  10  9.83263e-01  9.83263e-01  8.84347e-01  1.0000  5.72498e-09  5.91624e-04\n",
      "iter     merit         cost         grad      step    ||gaps||        KKT\n",
      "  11  9.82964e-01  9.82964e-01  2.84645e-02  1.0000  1.88482e-09  3.14981e-05\n",
      " END  9.82964e-01  9.82964e-01  8.91736e-05   ----   5.67320e-11  7.74342e-08\n"
     ]
    }
   ],
   "source": [
    "samples = 10\n",
    "xlims = [0, 10]\n",
    "ylims = [0, 10]\n",
    "x0 = start_point\n",
    "u0 = np.array([0.0, 0.0])\n",
    "timeStep = 5e-2\n",
    "max_iter = 500\n",
    "# XS_Set_optimal, US_Set_optimal = test_model_full(cost_set, obs_set, samples, xlims, ylims, T, w_des, timeStep, max_iter, with_callback = False)\n",
    "# xs_optimal = XS_Set_optimal[0]\n",
    "# us_optimal = US_Set_optimal[0]\n",
    "xs_optimal, us_optimal, _ = get_results_from_model(cost_set, x0, u0, T, w_des, timeStep, max_iter, with_callback = True)"
   ]
  },
  {
   "cell_type": "code",
   "execution_count": 6,
   "id": "e6fd84c5-f2c4-4259-9f29-6d879476ce17",
   "metadata": {},
   "outputs": [
    {
     "data": {
      "image/png": "[encoded data removed]",
      "text/plain": [
       "<Figure size 640x480 with 1 Axes>"
      ]
     },
     "metadata": {},
     "output_type": "display_data"
    }
   ],
   "source": [
    "# HTML(animatePointMass(xs_optimal, obs_set, target_high).to_jshtml())\n",
    "plot_1_traj(np.vstack(xs_optimal), obs_set, target_high, label='Optimal', linemap = 'b')"
   ]
  },
  {
   "cell_type": "code",
   "execution_count": 7,
   "id": "da7fc03b-7ba3-4f0e-b11c-eda1ba3c98ff",
   "metadata": {},
   "outputs": [],
   "source": [
    "# Bad Running and Terminal Model\n",
    "w_bad = np.zeros_like(w_des)\n",
    "w_run = w_bad[:nr]\n",
    "w_term = w_bad[nr:]\n",
    "\n",
    "xs_non_optimal, us_non_optimal, sqp_non_opt = get_results_from_model(cost_set, x0, u0, T, w_bad, timeStep, max_iter, with_callback = False)"
   ]
  },
  {
   "cell_type": "code",
   "execution_count": 8,
   "id": "055ca337-3fbc-4caf-b8d9-dbc58249283d",
   "metadata": {},
   "outputs": [],
   "source": [
    "# HTML(animatePointMass(xs_non_optimal, obs_set, target_high).to_jshtml())\n",
    "# plot_1_traj(np.vstack(xs_non_optimal), obs_set, target_high, label='Non-Optimal', linemap = 'r')"
   ]
  },
  {
   "cell_type": "code",
   "execution_count": 9,
   "id": "655c52f5-a38b-4ba0-9c24-7fe1b730da10",
   "metadata": {},
   "outputs": [],
   "source": [
    "# IRL Algorithm\n",
    "from scipy.optimize import minimize\n",
    "from scipy.optimize import Bounds\n",
    "\n",
    "def fcn_w(x, cost_set, xs_optimal, us_optimal, xs_non_optimal_set, us_non_optimal_set, dt, use_factor = False, Lambda = 0.001):\n",
    "    opt_traj_feat = cost_set.cum_feat(xs_optimal, us_optimal, dt)\n",
    "    bad_traj_feat = cost_set.cum_feat(np.zeros_like(xs_optimal), np.zeros_like(us_optimal), dt)\n",
    "    nr = cost_set.nr\n",
    "    output = 0\n",
    "    num = np.nextafter(0,1)\n",
    "    den = np.nextafter(0,1)\n",
    "    opt_traj_cost = cost_set.traj_cost(xs_optimal, us_optimal, x[:nr], x[nr:], dt)\n",
    "    \n",
    "    num += np.exp(-opt_traj_cost)\n",
    "    den += num\n",
    "    for Xs, Us in zip(xs_non_optimal_set, us_non_optimal_set):\n",
    "        non_opt_traj_cost = cost_set.traj_cost(Xs, Us, x[:nr], x[nr:], dt)\n",
    "        if use_factor:\n",
    "            non_opt_traj_feat = cost_set.cum_feat(Xs, Us, dt)\n",
    "            alpha = np.exp((np.linalg.norm(opt_traj_feat - non_opt_traj_feat))/(np.linalg.norm(opt_traj_feat - bad_traj_feat))**2)\n",
    "            den += np.max([np.nextafter(0,1),alpha*np.exp(-non_opt_traj_cost)])\n",
    "        else:\n",
    "            den += np.max([np.nextafter(0,1),np.exp(-non_opt_traj_cost)])\n",
    "    output -= np.log(num/den)\n",
    "    output += Lambda*np.linalg.norm(x)\n",
    "    # output += Lambda*np.linalg.norm(x - w_old)\n",
    "    return output\n",
    "\n",
    "def fcn_w_2(x, cost_set, xs_optimal, us_optimal, xs_non_optimal_set, us_non_optimal_set, dt, use_factor = False, Lambda = 0.001):\n",
    "    \n",
    "    nr = cost_set.nr\n",
    "    opt_traj_feat = cost_set.cum_feat(xs_optimal, us_optimal, dt)\n",
    "    opt_traj_cost = cost_set.traj_cost(xs_optimal, us_optimal, x[:nr], x[nr:], dt)\n",
    "    \n",
    "    output = 0\n",
    "    num = np.nextafter(0,1)\n",
    "    den = np.nextafter(0,1)\n",
    "    \n",
    "    num += np.exp(-opt_traj_cost)\n",
    "    den += num\n",
    "    feats = np.zeros(len(xs_non_optimal_set))\n",
    "    if use_factor:\n",
    "        for i, (Xs, Us) in enumerate(zip(xs_non_optimal_set, us_non_optimal_set)):\n",
    "            feats[i] = np.linalg.norm(cost_set.cum_feat(Xs, Us, dt) - opt_traj_feat)\n",
    "    worst = np.max(feats)\n",
    "    for feat, Xs, Us in zip(feats, xs_non_optimal_set, us_non_optimal_set):\n",
    "        non_opt_traj_cost = cost_set.traj_cost(Xs, Us, x[:nr], x[nr:], dt)\n",
    "        if use_factor:\n",
    "            alpha = np.exp((feat/worst)**2)\n",
    "            den += np.max([np.nextafter(0,1),alpha*np.exp(-non_opt_traj_cost)])\n",
    "        else:\n",
    "            den += np.max([np.nextafter(0,1),np.exp(-non_opt_traj_cost)])\n",
    "    output -= np.log(num/den)\n",
    "    output += Lambda*np.linalg.norm(x)\n",
    "    return output\n",
    "\n",
    "def get_optimality(cost_set,x_des,u_des,x_set,u_set,dt):\n",
    "    opt_vals = np.zeros(len(x_set))\n",
    "    opt_feat = cost_set.cum_feat(x_des, u_des, dt)\n",
    "    for i, (Xs, Us) in enumerate(zip(x_set,u_set)):\n",
    "        traj_feat = cost_set.cum_feat(Xs, Us, dt)\n",
    "        opt_vals[i] = np.linalg.norm(opt_feat - traj_feat)\n",
    "    return opt_vals\n",
    "\n",
    "def pick_best(opt_vals, num):\n",
    "    vals = np.stack(opt_vals)\n",
    "    inds = sorted(range(len(vals)), key=lambda i: vals[i])[-num:][::-1]\n",
    "    return inds\n",
    "\n",
    "def pick_worst(opt_vals, num):\n",
    "    vals = np.stack(opt_vals)\n",
    "    inds = sorted(range(len(vals)), key=lambda i: vals[i])[:num][::-1]\n",
    "    return inds"
   ]
  },
  {
   "cell_type": "code",
   "execution_count": 10,
   "id": "3ce68bd0-11d6-46d3-8e12-6b480b59cf39",
   "metadata": {},
   "outputs": [
    {
     "name": "stdout",
     "output_type": "stream",
     "text": [
      "Fcn Value: 0.0012 || Weight Diff: 0.0000 || Traj Diff: 445.6343, || Optimality Divergence: 24.2497 || Stop 10806.47917\n",
      "Fcn Value: 0.0012 || Weight Diff: 0.2424 || Traj Diff: 8264.7214, || Optimality Divergence: 24.2497 || Stop 200416.65792\n",
      "Fcn Value: 0.0012 || Weight Diff: 0.0000 || Traj Diff: 3631.4573, || Optimality Divergence: 0.5144 || Stop 1867.96334\n",
      "Fcn Value: 0.1305 || Weight Diff: 0.5912 || Traj Diff: 6297.7581, || Optimality Divergence: 0.5144 || Stop 3239.46566\n",
      "Fcn Value: 0.0054 || Weight Diff: 0.0593 || Traj Diff: 63.6990, || Optimality Divergence: 0.2216 || Stop 14.11846\n",
      "Fcn Value: 1.1779 || Weight Diff: 0.0005 || Traj Diff: 1.0158, || Optimality Divergence: 0.1658 || Stop 0.16843\n",
      "Fcn Value: 1.3961 || Weight Diff: 0.0243 || Traj Diff: 6.8306, || Optimality Divergence: 0.1735 || Stop 1.18491\n",
      "Fcn Value: 1.8071 || Weight Diff: 0.0005 || Traj Diff: 0.5903, || Optimality Divergence: 0.2127 || Stop 0.12557\n",
      "Fcn Value: 2.0655 || Weight Diff: 0.0062 || Traj Diff: 0.4076, || Optimality Divergence: 0.2143 || Stop 0.08735\n",
      "Fcn Value: 2.3118 || Weight Diff: 0.0002 || Traj Diff: 0.5190, || Optimality Divergence: 0.2136 || Stop 0.11087\n",
      "Fcn Value: 2.5228 || Weight Diff: 0.0057 || Traj Diff: 0.5803, || Optimality Divergence: 0.2142 || Stop 0.12430\n",
      "Fcn Value: 2.6287 || Weight Diff: 0.0003 || Traj Diff: 0.3918, || Optimality Divergence: 0.2147 || Stop 0.08415\n",
      "Fcn Value: 2.7775 || Weight Diff: 0.0001 || Traj Diff: 0.5009, || Optimality Divergence: 0.2137 || Stop 0.10706\n",
      "Fcn Value: 2.8187 || Weight Diff: 0.0030 || Traj Diff: 0.2879, || Optimality Divergence: 0.2141 || Stop 0.06163\n",
      "Fcn Value: 2.9961 || Weight Diff: 0.0005 || Traj Diff: 0.5768, || Optimality Divergence: 0.2124 || Stop 0.12252\n",
      "Fcn Value: 3.0629 || Weight Diff: 0.0039 || Traj Diff: 0.4014, || Optimality Divergence: 0.2140 || Stop 0.08588\n"
     ]
    },
    {
     "ename": "KeyboardInterrupt",
     "evalue": "",
     "output_type": "error",
     "traceback": [
      "\u001b[0;31m---------------------------------------------------------------------------\u001b[0m",
      "\u001b[0;31mKeyboardInterrupt\u001b[0m                         Traceback (most recent call last)",
      "Cell \u001b[0;32mIn[10], line 98\u001b[0m\n\u001b[1;32m     95\u001b[0m     xs_init \u001b[38;5;241m=\u001b[39m [x0 \u001b[38;5;28;01mfor\u001b[39;00m i \u001b[38;5;129;01min\u001b[39;00m \u001b[38;5;28mrange\u001b[39m(T\u001b[38;5;241m+\u001b[39m\u001b[38;5;241m1\u001b[39m)]\n\u001b[1;32m     96\u001b[0m     us_init \u001b[38;5;241m=\u001b[39m [u0 \u001b[38;5;28;01mfor\u001b[39;00m i \u001b[38;5;129;01min\u001b[39;00m \u001b[38;5;28mrange\u001b[39m(T)]\n\u001b[0;32m---> 98\u001b[0m done \u001b[38;5;241m=\u001b[39m \u001b[43msqp_non_opt\u001b[49m\u001b[38;5;241;43m.\u001b[39;49m\u001b[43msolve\u001b[49m\u001b[43m(\u001b[49m\u001b[43mxs_init\u001b[49m\u001b[43m,\u001b[49m\u001b[43m \u001b[49m\u001b[43mus_init\u001b[49m\u001b[43m,\u001b[49m\u001b[43m \u001b[49m\u001b[43mit_max_sqp\u001b[49m\u001b[43m)\u001b[49m\n\u001b[1;32m    100\u001b[0m \u001b[38;5;66;03m# Add the trajectory to the set\u001b[39;00m\n\u001b[1;32m    101\u001b[0m xs\u001b[38;5;241m.\u001b[39mappend(np\u001b[38;5;241m.\u001b[39mvstack(sqp_non_opt\u001b[38;5;241m.\u001b[39mxs\u001b[38;5;241m.\u001b[39mtolist()\u001b[38;5;241m.\u001b[39mcopy()))\n",
      "File \u001b[0;32m~/machines-in-motion/my_git/IRL_point_mass/PointMass_model.py:33\u001b[0m, in \u001b[0;36mDifferentialActionModelPointMass.calc\u001b[0;34m(self, data, x, u)\u001b[0m\n\u001b[1;32m     31\u001b[0m Yddot \u001b[38;5;241m=\u001b[39m fy \u001b[38;5;241m/\u001b[39m m\n\u001b[1;32m     32\u001b[0m data\u001b[38;5;241m.\u001b[39mxout \u001b[38;5;241m=\u001b[39m np\u001b[38;5;241m.\u001b[39mmatrix([Xddot, Yddot])\u001b[38;5;241m.\u001b[39mT\n\u001b[0;32m---> 33\u001b[0m data\u001b[38;5;241m.\u001b[39mr \u001b[38;5;241m=\u001b[39m \u001b[38;5;28;43mself\u001b[39;49m\u001b[38;5;241;43m.\u001b[39;49m\u001b[43mcost_model\u001b[49m\u001b[38;5;241;43m.\u001b[39;49m\u001b[43mresiduals\u001b[49m\u001b[43m(\u001b[49m\u001b[43mx\u001b[49m\u001b[43m,\u001b[49m\u001b[43m \u001b[49m\u001b[43mu\u001b[49m\u001b[43m)\u001b[49m \n\u001b[1;32m     34\u001b[0m data\u001b[38;5;241m.\u001b[39mcost \u001b[38;5;241m=\u001b[39m \u001b[38;5;241m0.5\u001b[39m \u001b[38;5;241m*\u001b[39m np\u001b[38;5;241m.\u001b[39msum(\u001b[38;5;28mself\u001b[39m\u001b[38;5;241m.\u001b[39mcostWeights \u001b[38;5;241m*\u001b[39m np\u001b[38;5;241m.\u001b[39masarray(data\u001b[38;5;241m.\u001b[39mr) \u001b[38;5;241m*\u001b[39m\u001b[38;5;241m*\u001b[39m \u001b[38;5;241m2\u001b[39m)\n",
      "File \u001b[0;32m~/machines-in-motion/my_git/IRL_point_mass/PointMass_utils.py:90\u001b[0m, in \u001b[0;36mCosts.residuals\u001b[0;34m(self, X, U)\u001b[0m\n\u001b[1;32m     88\u001b[0m \u001b[38;5;28mself\u001b[39m\u001b[38;5;241m.\u001b[39mr \u001b[38;5;241m=\u001b[39m np\u001b[38;5;241m.\u001b[39mzeros(\u001b[38;5;28mself\u001b[39m\u001b[38;5;241m.\u001b[39mnr)\n\u001b[1;32m     89\u001b[0m \u001b[38;5;28;01mfor\u001b[39;00m i, cost_m \u001b[38;5;129;01min\u001b[39;00m \u001b[38;5;28menumerate\u001b[39m(\u001b[38;5;28mself\u001b[39m\u001b[38;5;241m.\u001b[39mcosts):\n\u001b[0;32m---> 90\u001b[0m     \u001b[38;5;28mself\u001b[39m\u001b[38;5;241m.\u001b[39mr[i] \u001b[38;5;241m=\u001b[39m \u001b[43mcost_m\u001b[49m\u001b[38;5;241;43m.\u001b[39;49m\u001b[43mresidual\u001b[49m\u001b[43m(\u001b[49m\u001b[43mX\u001b[49m\u001b[43m,\u001b[49m\u001b[43m \u001b[49m\u001b[43mU\u001b[49m\u001b[43m)\u001b[49m\n\u001b[1;32m     91\u001b[0m \u001b[38;5;28;01mreturn\u001b[39;00m \u001b[38;5;28mself\u001b[39m\u001b[38;5;241m.\u001b[39mr\n",
      "File \u001b[0;32m~/machines-in-motion/my_git/IRL_point_mass/PointMass_utils.py:21\u001b[0m, in \u001b[0;36mObstacle.residual\u001b[0;34m(self, X, U)\u001b[0m\n\u001b[1;32m     20\u001b[0m \u001b[38;5;28;01mdef\u001b[39;00m \u001b[38;5;21mresidual\u001b[39m(\u001b[38;5;28mself\u001b[39m, X, U):\n\u001b[0;32m---> 21\u001b[0m     \u001b[38;5;28mself\u001b[39m\u001b[38;5;241m.\u001b[39md \u001b[38;5;241m=\u001b[39m np\u001b[38;5;241m.\u001b[39mlinalg\u001b[38;5;241m.\u001b[39mnorm(\u001b[38;5;28mself\u001b[39m\u001b[38;5;241m.\u001b[39mc \u001b[38;5;241m-\u001b[39m \u001b[43mnp\u001b[49m\u001b[38;5;241;43m.\u001b[39;49m\u001b[43marray\u001b[49m\u001b[43m(\u001b[49m\u001b[43m[\u001b[49m\u001b[43mX\u001b[49m\u001b[43m[\u001b[49m\u001b[38;5;241;43m0\u001b[39;49m\u001b[43m]\u001b[49m\u001b[43m,\u001b[49m\u001b[43m \u001b[49m\u001b[43mX\u001b[49m\u001b[43m[\u001b[49m\u001b[38;5;241;43m1\u001b[39;49m\u001b[43m]\u001b[49m\u001b[43m]\u001b[49m\u001b[43m)\u001b[49m) \u001b[38;5;241m-\u001b[39m \u001b[38;5;28mself\u001b[39m\u001b[38;5;241m.\u001b[39mR\n\u001b[1;32m     22\u001b[0m     \u001b[38;5;28;01mif\u001b[39;00m \u001b[38;5;28mself\u001b[39m\u001b[38;5;241m.\u001b[39md \u001b[38;5;241m>\u001b[39m \u001b[38;5;28mself\u001b[39m\u001b[38;5;241m.\u001b[39mact:\n\u001b[1;32m     23\u001b[0m         \u001b[38;5;28mself\u001b[39m\u001b[38;5;241m.\u001b[39mr \u001b[38;5;241m=\u001b[39m \u001b[38;5;241m0.0\u001b[39m\n",
      "\u001b[0;31mKeyboardInterrupt\u001b[0m: "
     ]
    }
   ],
   "source": [
    "dt = timeStep\n",
    "Lambda = 0.001\n",
    "lb = 0; ub = np.inf\n",
    "bnds = Bounds(lb, ub)\n",
    "options = {'maxiter': 3, 'iprint': -1,'ftol': 1e-10 ,'gtol' : 1e-10}\n",
    "tol = 1e-10\n",
    "use_factor = True\n",
    "\n",
    "w0 = w_bad\n",
    "w_loop = w0\n",
    "w_prev = w0\n",
    "it = 0\n",
    "max_set_size = 5\n",
    "# it_max_IRL = max_set_size + 1\n",
    "it_max_IRL = 30\n",
    "it_max_sqp = 3\n",
    "fcn = fcn_w\n",
    "\n",
    "xs = []\n",
    "us = []\n",
    "ws = []\n",
    "Fcns= []\n",
    "W_Diffs = []\n",
    "Traj_Diffs = []\n",
    "Opt_Vals = []\n",
    "\n",
    "xs_non_optimal_set = []\n",
    "us_non_optimal_set = []\n",
    "xs_non_optimal_set.append(np.vstack(xs_non_optimal).copy())\n",
    "us_non_optimal_set.append(np.vstack(us_non_optimal).copy())\n",
    "xs.append(np.vstack(xs_non_optimal).copy())\n",
    "us.append(np.vstack(us_non_optimal).copy())\n",
    "ws.append(w_bad)\n",
    "Opt_Vals.append(1.0)\n",
    "Traj_Diffs.append(1.0)\n",
    "\n",
    "xs_init = [x0 for i in range(T+1)]\n",
    "us_init = [u0 for i in range(T)]\n",
    "\n",
    "init_choices = ['bad','optimal','previous']\n",
    "stochastic = False\n",
    "w_tol = 0.00001\n",
    "opt_tol = 5e-4\n",
    "optimality = 1\n",
    "traj_tol = 1e-10\n",
    "w_diff = 1\n",
    "traj_diff = 1\n",
    "e = 1\n",
    "opt_feat = cost_set.cum_feat(xs_optimal,us_optimal,dt)\n",
    "non_opt_feat = cost_set.cum_feat(xs_non_optimal, us_non_optimal, dt)\n",
    "stop = 1\n",
    "# while optimality > opt_tol and it < it_max_IRL:\n",
    "while stop > 1e-7 and it < it_max_IRL:\n",
    "    sqp_non_opt = reset_weights(sqp_non_opt, w0[:nr], w0[nr:])\n",
    "    \n",
    "    # With simple regulation: ||w||\n",
    "    res = minimize(fcn, \n",
    "                   w0, \n",
    "                   args=(cost_set, xs_optimal, us_optimal, xs_non_optimal_set, us_non_optimal_set, dt, use_factor, Lambda), \n",
    "                   bounds=bnds, \n",
    "                   method='L-BFGS-B', \n",
    "                   tol = tol,\n",
    "                   options=options)\n",
    "    \n",
    "    # # With simple new regulation: ||w - w_old||\n",
    "    # res = minimize(fcn_w_new, \n",
    "    #                w0, \n",
    "    #                args=(cost_set, xs_optimal, us_optimal, xs_non_optimal_set, us_non_optimal_set, dt, w_prev, Lambda), \n",
    "    #                bounds=bnds, \n",
    "    #                method='L-BFGS-B', \n",
    "    #                tol = tol,\n",
    "    #                options=options)\n",
    "    \n",
    "    w_loop = res.x.copy()\n",
    "    if np.max(w_loop) != 0:\n",
    "        w_loop /= np.max(w_loop)\n",
    "    fcn_value = fcn(w_loop, cost_set, xs_optimal, us_optimal, xs, us, dt, Lambda)\n",
    "    # fcn_value = 0.0\n",
    "    Fcns.append(fcn_value)\n",
    "    w_run = w_loop[:nr]\n",
    "    w_term = w_loop[nr:]\n",
    "\n",
    "    # initial = random.choice(init_choices)\n",
    "    initial = 'previous'\n",
    "    if initial == 'previous':\n",
    "        # Warm-Start with previous trajectory\n",
    "        xs_init = [sqp_non_opt.xs.copy()[i] for i in range(T+1)]\n",
    "        us_init = [sqp_non_opt.us.copy()[i] for i in range(T)]\n",
    "    elif initial == 'optimal':\n",
    "        # Warm-Start with optimal trajectory\n",
    "        xs_init = [xs_optimal[i] for i in range(T+1)]\n",
    "        us_init = [us_optimal[i] for i in range(T)]\n",
    "    elif initial == 'bad':\n",
    "        # Warm-Start with zero trajectory\n",
    "        xs_init = [x0 for i in range(T+1)]\n",
    "        us_init = [u0 for i in range(T)]\n",
    "    \n",
    "    done = sqp_non_opt.solve(xs_init, us_init, it_max_sqp)\n",
    "    \n",
    "    # Add the trajectory to the set\n",
    "    xs.append(np.vstack(sqp_non_opt.xs.tolist().copy()))\n",
    "    us.append(np.vstack(sqp_non_opt.us.tolist().copy()))\n",
    "    ws.append(w_loop.copy())\n",
    "    traj_feat = cost_set.cum_feat(sqp_non_opt.xs.tolist().copy(), sqp_non_opt.us.tolist().copy(), dt)\n",
    "    # traj_optimality = np.exp(-(np.linalg.norm(opt_feat-traj_feat)))\n",
    "    # traj_nonoptimality = (np.linalg.norm(traj_feat - opt_feat))/(np.linalg.norm(opt_feat - non_opt_feat))\n",
    "    optimality = ((np.linalg.norm(traj_feat - opt_feat))/(np.linalg.norm(opt_feat - non_opt_feat)))**2\n",
    "    Opt_Vals.append(optimality)\n",
    "    \n",
    "    if len(xs) < max_set_size:\n",
    "        xs_non_optimal_set = xs\n",
    "        us_non_optimal_set = us\n",
    "    else:\n",
    "        inds = pick_best(Opt_Vals,max_set_size)\n",
    "        # inds = pick_worst(Opt_Vals,max_set_size)\n",
    "        xs_non_optimal_set = [xs[i] for i in inds]\n",
    "        us_non_optimal_set = [us[i] for i in inds]\n",
    "        # fcn = fcn_w_2\n",
    "        \n",
    "    \n",
    "    w_diff = np.linalg.norm(w_loop - w_prev)\n",
    "    traj_diff = (sqp_non_opt.cost - cost_set.traj_cost(xs_optimal, us_optimal, w_loop[:nr], w_loop[nr:], dt))**2\n",
    "    W_Diffs.append(w_diff)\n",
    "    Traj_Diffs.append(traj_diff)\n",
    "\n",
    "    stop = traj_diff*optimality\n",
    "    if it > 0:\n",
    "        print('Fcn Value: {:.4f} || Weight Diff: {:.4f} || Traj Diff: {:.4f}, || Optimality Divergence: {:.4f} || Stop {:.5f}'.format(\n",
    "            fcn_value, w_diff, traj_diff, optimality, stop\n",
    "        ))\n",
    "    \n",
    "    # Initial W for IRL as previous weights\n",
    "    w0 = w_loop.copy()\n",
    "    \n",
    "    w_prev = w0\n",
    "    it += 1\n",
    "    # if it == it_max_IRL-1:\n",
    "    #     # options['maxiter'] = 200\n",
    "    #     xs_non_optimal_set = xs\n",
    "    #     us_non_optimal_set = us\n",
    "\n",
    "print(res)\n",
    "w_irl = res.x/np.max(res.x)\n",
    "# w_irl = ws[ws.index(min(ws))+1]"
   ]
  },
  {
   "cell_type": "code",
   "execution_count": 11,
   "id": "b43f88ad-faa0-478f-a17d-a0d511502ea3",
   "metadata": {},
   "outputs": [
    {
     "data": {
      "image/png": "[encoded data removed]",
      "text/plain": [
       "<Figure size 640x480 with 1 Axes>"
      ]
     },
     "metadata": {},
     "output_type": "display_data"
    }
   ],
   "source": [
    "plot_1_set(xs, obs_set, target_high, label='Non-Optimals', linemap_traj='r:', linemap_set='r:')"
   ]
  },
  {
   "cell_type": "code",
   "execution_count": null,
   "id": "d99768d8-edc4-42de-ba18-93ea6934b3c9",
   "metadata": {},
   "outputs": [],
   "source": [
    "n = Opt_Vals.index(min(Opt_Vals))\n",
    "m = Traj_Diffs.index(min(Traj_Diffs))\n",
    "A = np.stack(Opt_Vals)*np.stack(Traj_Diffs)\n",
    "plt.plot(Opt_Vals); plt.show()\n",
    "# plt.plot(Traj_Diffs); plt.show()\n",
    "# plt.plot(A)\n",
    "print(n, min(Opt_Vals))\n",
    "print(m, min(Traj_Diffs))\n",
    "print(np.min(A))"
   ]
  },
  {
   "cell_type": "code",
   "execution_count": null,
   "id": "c98dd422-7f7b-4eff-8563-4c85af2d3afc",
   "metadata": {},
   "outputs": [],
   "source": [
    "# w_irl = ws[n]\n",
    "w_irl = res.x/np.max(res.x)\n",
    "w_irl /= np.max(w_irl)\n",
    "for i, cost in enumerate(cost_set.costs):\n",
    "    print(cost.name, ':')\n",
    "    print('Running || ', 'Desired: ', w_des[:nr][i], 'IRL: ', w_irl[:nr][i])\n",
    "    print('Terminal || ', 'Desired: ', w_des[nr:][i], 'IRL: ', w_irl[nr:][i])\n",
    "    print('')"
   ]
  },
  {
   "cell_type": "code",
   "execution_count": null,
   "id": "583df7f3-62c4-465f-b50b-2fba0e57eda8",
   "metadata": {},
   "outputs": [],
   "source": [
    "print('Desired:                 ', fcn_w(w_des, cost_set, xs_optimal, us_optimal, xs, us, dt, Lambda)) \n",
    "print('IRL:                     ', fcn_w(w_irl, cost_set, xs_optimal, us_optimal, xs, us, dt, Lambda))\n",
    "print('')\n",
    "print('Desired Trajectory Cost: ', cost_set.traj_cost(xs_optimal, us_optimal, w_des[:nr], w_des[nr:], timeStep))\n",
    "print('with IRL Weight:         ', cost_set.traj_cost(xs_optimal, us_optimal, w_irl[:nr], w_irl[nr:], timeStep))\n",
    "print('')\n",
    "print('IRL Trajectory Cost:     ', cost_set.traj_cost(xs[-1], us[-1], w_irl[:nr], w_irl[nr:], timeStep))\n",
    "print('with Desired Weight:     ', cost_set.traj_cost(xs[-1], us[-1], w_des[:nr], w_des[nr:], timeStep))"
   ]
  },
  {
   "cell_type": "code",
   "execution_count": null,
   "id": "6b4b8c8b-f790-4b7b-94ca-7ae5249fc5ac",
   "metadata": {},
   "outputs": [],
   "source": [
    "HTML(animateTraj(xs_optimal, xs, obs_set, target_high, sleep=500, animType=2).to_jshtml())"
   ]
  },
  {
   "cell_type": "code",
   "execution_count": null,
   "id": "abfad678-06e8-49b2-855d-b0d3514c98e6",
   "metadata": {},
   "outputs": [],
   "source": [
    "XS_Set, US_Set = test_model_full(cost_set, obs_set, samples, xlims, ylims, T, w_irl, timeStep, max_iter, with_callback = False)"
   ]
  },
  {
   "cell_type": "code",
   "execution_count": null,
   "id": "7c685874-13d3-4f9e-951d-50acb61bfb61",
   "metadata": {},
   "outputs": [],
   "source": [
    "print(plot_tested_model(XS_Set, obs_set, target_high))\n",
    "# print(plot_tested_model(XS_Set_optimal, obs_set, target_high))"
   ]
  },
  {
   "cell_type": "code",
   "execution_count": null,
   "id": "fd213117-763b-47c8-9877-c529b037859c",
   "metadata": {},
   "outputs": [],
   "source": [
    "# Testing\n",
    "w_run = w_irl[:nr]\n",
    "w_term = w_irl[nr:]\n",
    "# w_run = w_des[:nr]\n",
    "# w_term = w_des[nr:]\n",
    "# w_run = ws[n][:nr]\n",
    "# w_term = ws[n][nr:]\n",
    "\n",
    "x0 = start_point\n",
    "# x0 = np.array([5.0, 3.5, 0.0, 0.0])\n",
    "u0 = np.array([0.0, 0.0])\n",
    "\n",
    "xs_output, us_output, sqp = get_results_from_model(cost_set, x0, u0, T, w_irl, timeStep, max_iter, with_callback = True)"
   ]
  },
  {
   "cell_type": "code",
   "execution_count": null,
   "id": "834e5918-dae5-483d-84fa-3bd37d3dc7b8",
   "metadata": {},
   "outputs": [],
   "source": [
    "plot_results(xs_optimal, xs, xs_output, obs_set, target_high)"
   ]
  },
  {
   "cell_type": "code",
   "execution_count": null,
   "id": "bf92d975-b2f6-4f6a-a21a-77b9206aebcd",
   "metadata": {},
   "outputs": [],
   "source": [
    "# creating sets\n",
    "all_set_x = []\n",
    "all_set_u = []\n",
    "training_set_x = []\n",
    "training_set_u = []\n",
    "\n",
    "all_set_x.append(xs[-1]); all_set_x.append(xs_optimal); training_set_x.append(xs_optimal)\n",
    "all_set_u.append(us[-1]); all_set_u.append(us_optimal); training_set_u.append(us_optimal)\n",
    "\n",
    "for X, U in zip(xs, us):\n",
    "    all_set_x.append(X); training_set_x.append(X)\n",
    "    all_set_u.append(U); training_set_u.append(U)"
   ]
  },
  {
   "cell_type": "code",
   "execution_count": null,
   "id": "84468f65-fbbf-46cb-93b5-1e2f6eaea9a4",
   "metadata": {},
   "outputs": [],
   "source": [
    "P_irl = distributions(cost_set, training_set_x, training_set_u, w_irl[:nr], w_irl[nr:], dt)\n",
    "P_des = distributions(cost_set, training_set_x, training_set_u, w_des[:nr], w_des[nr:], dt)"
   ]
  },
  {
   "cell_type": "code",
   "execution_count": null,
   "id": "85926e1e-40f5-419d-b8c2-be5a9f5a63b1",
   "metadata": {},
   "outputs": [],
   "source": [
    "plt.plot(-1/np.log(P_irl[1:]),label='IRL')\n",
    "plt.plot(-1/np.log(P_des[1:]),label='Desired')\n",
    "plt.legend()\n",
    "plt.gca().set_title(r'$\\frac{-1}{P(\\tau)}$')\n",
    "plt.show()"
   ]
  },
  {
   "cell_type": "code",
   "execution_count": null,
   "id": "6423ac3d-4bf9-40e4-b14e-276d2428e4ad",
   "metadata": {},
   "outputs": [],
   "source": [
    "# # Add a noisy trajectory to the set\n",
    "# # scale = 1/traj_diff + 1.0\n",
    "# scale = 5.0\n",
    "# noisy_u = np.vstack(sqp_non_opt.us.tolist().copy())+np.random.normal(0.0,scale,np.stack(sqp_non_opt.us.tolist()).shape)\n",
    "# us.append(noisy_u)\n",
    "# xs.append(np.stack(problem.rollout([noisy_u[i] for i in range(T)])))"
   ]
  },
  {
   "cell_type": "code",
   "execution_count": null,
   "id": "2c0e83fa-17cb-4b27-97b8-d50befefa496",
   "metadata": {},
   "outputs": [],
   "source": []
  }
 ],
 "metadata": {
  "kernelspec": {
   "display_name": "Python 3 (ipykernel)",
   "language": "python",
   "name": "python3"
  },
  "language_info": {
   "codemirror_mode": {
    "name": "ipython",
    "version": 3
   },
   "file_extension": ".py",
   "mimetype": "text/x-python",
   "name": "python",
   "nbconvert_exporter": "python",
   "pygments_lexer": "ipython3",
   "version": "3.10.12"
  }
 },
 "nbformat": 4,
 "nbformat_minor": 5
}
