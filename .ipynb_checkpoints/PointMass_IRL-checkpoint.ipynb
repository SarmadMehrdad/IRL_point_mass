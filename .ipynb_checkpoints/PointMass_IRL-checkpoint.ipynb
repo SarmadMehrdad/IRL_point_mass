{
 "cells": [
  {
   "cell_type": "code",
   "execution_count": 1,
   "id": "bf12eac3-e5a2-45fd-9908-0c9de011a629",
   "metadata": {},
   "outputs": [],
   "source": [
    "import crocoddyl\n",
    "import pinocchio\n",
    "from IPython.display import HTML\n",
    "import mim_solvers\n",
    "import numpy as np\n",
    "from matplotlib import animation\n",
    "from matplotlib import pyplot as plt\n",
    "from PointMass_utils import *\n",
    "from PointMass_model import DifferentialActionModelPointMass"
   ]
  },
  {
   "cell_type": "code",
   "execution_count": 2,
   "id": "39e063ef-ed83-436f-b579-fd5bda40d0c5",
   "metadata": {},
   "outputs": [],
   "source": [
    "nx = 4\n",
    "nu = 2\n",
    "T = 30\n",
    "start_point = np.array([6, 2, 0, 0])\n",
    "target_low = np.array([10, 0, 0, 0])\n",
    "target_high = np.array([10, 10, 0, 0])\n",
    "obs0 = Obstacle(5, 5, 2, 2, 'Obs0')\n",
    "obs1 = Obstacle(3.5, 3.5, 1, 2, 'Obs1')\n",
    "obs2 = Obstacle(6.5, 6.5, 1, 2, 'Obs2')\n",
    "obs3 = Obstacle(6.5, 3.5, 1, 2, 'Obs3')\n",
    "obs_set = [obs1, obs2, obs3]\n",
    "# obs_set = [obs0]\n",
    "translation_cost = XReg(nx, target_high, 'trans_high')\n",
    "xreg = XReg(nx, start_point, 'XReg')\n",
    "ureg = UReg(nu, None, 'UReg')\n",
    "\n",
    "cost_set = Costs()\n",
    "cost_set.add_cost(translation_cost)\n",
    "cost_set.add_cost(xreg)\n",
    "cost_set.add_cost(ureg)\n",
    "# cost_set.add_cost(obs0)\n",
    "cost_set.add_cost(obs1)\n",
    "cost_set.add_cost(obs2)\n",
    "cost_set.add_cost(obs3)\n",
    "\n",
    "nr = cost_set.nr"
   ]
  },
  {
   "cell_type": "code",
   "execution_count": 3,
   "id": "d94481c5-53f8-46a0-a547-b82ffc6ee5ba",
   "metadata": {},
   "outputs": [
    {
     "name": "stdout",
     "output_type": "stream",
     "text": [
      "iter     merit         cost         grad      step    ||gaps||        KKT\n",
      "   1  4.28254e+01  4.28254e+01  4.95683e+01  1.0000  0.00000e+00  5.64079e+00\n",
      "   2  1.69112e+01  1.69112e+01  2.05110e+02  1.0000  1.24345e-14  5.66871e+00\n",
      "   3  1.10167e+01  1.10167e+01  1.75058e+02  1.0000  3.13968e-07  1.00704e+00\n",
      "   4  1.33076e+00  1.33076e+00  1.08645e+01  1.0000  3.46462e-07  4.93065e-02\n",
      "   5  9.56594e-01  9.56594e-01  1.88450e+01  0.5000  1.44943e-08  4.76863e-02\n",
      "   6  9.12836e-01  9.12836e-01  4.23067e+00  1.0000  1.55073e-08  2.07360e-02\n",
      "   7  9.05907e-01  9.05907e-01  1.02239e+00  1.0000  5.32873e-09  8.90738e-04\n",
      "   8  9.05701e-01  9.05701e-01  4.81315e-02  1.0000  1.57515e-09  5.32641e-05\n",
      " END  9.05700e-01  9.05700e-01  3.50247e-04   ----   7.53435e-11  4.16342e-07\n",
      "True\n"
     ]
    }
   ],
   "source": [
    "# Desired Running and Terminal Model\n",
    "w_run = np.array([10, 1., 1., 2000, 2000, 2000])\n",
    "w_term = np.array([2000, 1., 1., 2000, 2000, 2000])\n",
    "# w_des = np.hstack([w_run, w_term])\n",
    "w_des = (np.hstack([w_run, w_term])/(np.max(np.hstack([w_run, w_term])))).copy()\n",
    "# w_des = (np.hstack([w_run, w_term])/(np.linalg.norm(np.hstack([w_run, w_term])))).copy()\n",
    "w_run = w_des[:nr]; w_term = w_des[nr:]\n",
    "PM_DAM_running = DifferentialActionModelPointMass(cost_set, w_run)\n",
    "PM_DAM_terminal = DifferentialActionModelPointMass(cost_set, w_term)\n",
    "pmDataRunning = PM_DAM_running.createData()\n",
    "pmDataTerminal = PM_DAM_terminal.createData()\n",
    "PM_ND_R = crocoddyl.DifferentialActionModelNumDiff(PM_DAM_running, False)\n",
    "PM_ND_T = crocoddyl.DifferentialActionModelNumDiff(PM_DAM_terminal, False)\n",
    "timeStep = 5e-2\n",
    "PM_IAM = crocoddyl.IntegratedActionModelEuler(PM_ND_R, timeStep)\n",
    "PM_IAM_T = crocoddyl.IntegratedActionModelEuler(PM_ND_T, 0.0)\n",
    "x0 = start_point\n",
    "u0 = np.array([0.0, 0.0])\n",
    "problem = crocoddyl.ShootingProblem(x0, [PM_IAM] * T, PM_IAM_T)\n",
    "# Creating the SQP solver\n",
    "sqp_opt = mim_solvers.SolverSQP(problem)\n",
    "sqp_opt.setCallbacks([crocoddyl.CallbackVerbose()])\n",
    "sqp_opt.with_callbacks=True\n",
    "sqp_opt.termination_tolerance = 1e-5\n",
    "xs_init = [x0 for i in range(T+1)]\n",
    "us_init = [u0 for i in range(T)]\n",
    "\n",
    "# Solving this problem\n",
    "done = sqp_opt.solve(xs_init, us_init, 500)\n",
    "xs_optimal = np.stack(sqp_opt.xs.tolist().copy())\n",
    "us_optimal = np.stack(sqp_opt.us.tolist().copy())\n",
    "print(done)"
   ]
  },
  {
   "cell_type": "code",
   "execution_count": 4,
   "id": "ca0bbc3d-1690-48d6-b939-66b562f26092",
   "metadata": {},
   "outputs": [],
   "source": [
    "# HTML(animatePointMass(xs_optimal, obs_set, target_high).to_jshtml())"
   ]
  },
  {
   "cell_type": "code",
   "execution_count": 5,
   "id": "3fdb9583-1200-4b0f-b1de-fafad7075033",
   "metadata": {},
   "outputs": [
    {
     "data": {
      "image/png": "[encoded data removed]",
      "text/plain": [
       "<Figure size 640x480 with 1 Axes>"
      ]
     },
     "metadata": {},
     "output_type": "display_data"
    }
   ],
   "source": [
    "plot_1_traj(xs_optimal, obs_set, target_high, label='Optimal', linemap = 'b')"
   ]
  },
  {
   "cell_type": "code",
   "execution_count": 6,
   "id": "35751564-117c-4a16-98fc-b5393bfb806f",
   "metadata": {},
   "outputs": [
    {
     "name": "stdout",
     "output_type": "stream",
     "text": [
      "iter     merit         cost         grad      step    ||gaps||        KKT\n",
      "   1  4.06000e+01  4.06000e+01  2.84886e+01  1.0000  0.00000e+00  7.91496e+00\n",
      " END  7.57093e-01  7.57093e-01  7.51392e-05   ----   3.24185e-14  5.89562e-07\n",
      "True\n"
     ]
    }
   ],
   "source": [
    "# Bad Running and Terminal Model\n",
    "w_run = np.array([10, 1., 1., 0., 0., 0.])\n",
    "w_term = np.array([1000, 1., 1., 0., 0., 0.])\n",
    "# w_bad = np.hstack([w_run, w_term])\n",
    "w_bad = (np.hstack([w_run, w_term])/(np.max(np.hstack([w_run, w_term])))).copy()\n",
    "# w_bad = (np.hstack([w_run, w_term])/(np.linalg.norm(np.hstack([w_run, w_term])))).copy()\n",
    "w_run = w_bad[:nr]; w_term = w_bad[nr:]\n",
    "PM_DAM_running = DifferentialActionModelPointMass(cost_set, w_run)\n",
    "PM_DAM_terminal = DifferentialActionModelPointMass(cost_set, w_term)\n",
    "pmDataRunning = PM_DAM_running.createData()\n",
    "pmDataTerminal = PM_DAM_terminal.createData()\n",
    "PM_ND_R = crocoddyl.DifferentialActionModelNumDiff(PM_DAM_running, False)\n",
    "PM_ND_T = crocoddyl.DifferentialActionModelNumDiff(PM_DAM_terminal, False)\n",
    "timeStep = 5e-2\n",
    "PM_IAM = crocoddyl.IntegratedActionModelEuler(PM_ND_R, timeStep)\n",
    "PM_IAM_T = crocoddyl.IntegratedActionModelEuler(PM_ND_T, 0.0)\n",
    "x0 = start_point\n",
    "u0 = np.array([0.0, 0.0])\n",
    "problem = crocoddyl.ShootingProblem(x0, [PM_IAM] * T, PM_IAM_T)\n",
    "# Creating the SQP solver\n",
    "sqp_non_opt = mim_solvers.SolverSQP(problem)\n",
    "sqp_non_opt.setCallbacks([crocoddyl.CallbackVerbose()])\n",
    "sqp_non_opt.with_callbacks=True\n",
    "sqp_non_opt.termination_tolerance = 1e-5\n",
    "xs_init = [x0 for i in range(T+1)]\n",
    "us_init = [u0 for i in range(T)]\n",
    "\n",
    "# Solving this problem\n",
    "done = sqp_non_opt.solve(xs_init, us_init, 500)\n",
    "xs_non_optimal = np.stack(sqp_non_opt.xs.tolist().copy())\n",
    "us_non_optimal = np.stack(sqp_non_opt.us.tolist().copy())\n",
    "print(done)\n"
   ]
  },
  {
   "cell_type": "code",
   "execution_count": 7,
   "id": "67e75e9f-cc45-447f-9511-275d9b0cfb03",
   "metadata": {},
   "outputs": [],
   "source": [
    "# HTML(animatePointMass(xs_non_optimal, obs_set, target_high).to_jshtml())"
   ]
  },
  {
   "cell_type": "code",
   "execution_count": 8,
   "id": "ebdf76ce-5579-406d-ac64-7cbafca0b8c3",
   "metadata": {},
   "outputs": [
    {
     "data": {
      "image/png": "[encoded data removed]",
      "text/plain": [
       "<Figure size 640x480 with 1 Axes>"
      ]
     },
     "metadata": {},
     "output_type": "display_data"
    }
   ],
   "source": [
    "plot_1_traj(xs_non_optimal, obs_set, target_high, label='Non-Optimal', linemap = 'r')"
   ]
  },
  {
   "cell_type": "code",
   "execution_count": 9,
   "id": "54396499-fcd4-4fa1-8eb4-a2d03fbfee5c",
   "metadata": {},
   "outputs": [
    {
     "name": "stdout",
     "output_type": "stream",
     "text": [
      "Desired Trajectory Cost:   0.9057003497049748  || other Trajectory, same cost:    1.9729349047257225\n",
      "Bad Trajectory Cost:       0.7570934349072184  || other Trajectory, same cost:    1.2934140347397742\n"
     ]
    }
   ],
   "source": [
    "print('Desired Trajectory Cost:  ', cost_set.traj_cost(xs_optimal, us_optimal, w_des[:nr], w_des[nr:], timeStep), ' || other Trajectory, same cost:   ', cost_set.traj_cost(xs_non_optimal, us_non_optimal, w_des[:nr], w_des[nr:], timeStep))\n",
    "print('Bad Trajectory Cost:      ', cost_set.traj_cost(xs_non_optimal, us_non_optimal, w_bad[:nr], w_bad[nr:], timeStep), ' || other Trajectory, same cost:   ', cost_set.traj_cost(xs_optimal, us_optimal, w_bad[:nr], w_bad[nr:], timeStep))"
   ]
  },
  {
   "cell_type": "code",
   "execution_count": 10,
   "id": "3aa27aa7-611a-41fb-9912-255ea825acbc",
   "metadata": {},
   "outputs": [],
   "source": [
    "###### IRL #######"
   ]
  },
  {
   "cell_type": "code",
   "execution_count": 11,
   "id": "605a80bc-c803-48ce-9422-09fc597284c4",
   "metadata": {},
   "outputs": [],
   "source": [
    "# generating bad trajectories\n",
    "num_bad = 10\n",
    "scales = 2.0\n",
    "xs_non_optimal_set = []\n",
    "us_non_optimal_set = []\n",
    "xs_non_optimal_set.append(np.stack(xs_non_optimal.tolist()).copy())\n",
    "us_non_optimal_set.append(np.stack(us_non_optimal.tolist()).copy())\n",
    "for _ in range(num_bad):\n",
    "    Us = us_non_optimal.copy()+np.random.normal(0,scales,np.stack(us_non_optimal.tolist()).shape)\n",
    "    # Xs = xs_non_optimal.copy()+np.random.normal(0,0.2,np.stack(xs_non_optimal.tolist()).shape)\n",
    "    us_non_optimal_set.append(Us)\n",
    "    xs_non_optimal_set.append(np.stack(problem.rollout([Us[i] for i in range(T)])))\n",
    "    Us = us_optimal.copy()+np.random.normal(0,scales,np.stack(us_non_optimal.tolist()).shape)\n",
    "    # Xs = xs_non_optimal.copy()+np.random.normal(0,0.2,np.stack(xs_non_optimal.tolist()).shape)\n",
    "    us_non_optimal_set.append(Us)\n",
    "    xs_non_optimal_set.append(np.stack(problem.rollout([Us[i] for i in range(T)])))"
   ]
  },
  {
   "cell_type": "code",
   "execution_count": 12,
   "id": "f9b5271a-57f8-4697-b4df-b786ddc5832f",
   "metadata": {},
   "outputs": [
    {
     "name": "stdout",
     "output_type": "stream",
     "text": [
      "0.4042586635017958\n",
      "Modified:  1.1602168354918954 Original:  0.4690277072882365\n",
      "Modified:  1.8290492290442793e-16 Original:  7.394089968124304e-17\n",
      "Modified:  2.7610614908671273e-36 Original:  1.1161830281442206e-36\n",
      "Modified:  3.395781497760085e-41 Original:  1.3727740898286183e-41\n",
      "Modified:  2.216415221081374e-06 Original:  8.960050550393936e-07\n",
      "Modified:  6.168852130348509e-42 Original:  2.4938119175548938e-42\n",
      "Modified:  9.364559132691227e-50 Original:  3.785704159265291e-50\n",
      "Modified:  2.663512884860208e-10 Original:  1.0767481590534001e-10\n",
      "Modified:  2.0609551962974856e-14 Original:  8.331589931923027e-15\n",
      "Modified:  9.813702947445589e-71 Original:  3.967274437537988e-71\n",
      "Modified:  5.295718503916674e-32 Original:  2.1408400846750842e-32\n",
      "Modified:  3.0093270418404555e-69 Original:  1.2165465279742352e-69\n",
      "Modified:  1.4809335134305109e-61 Original:  5.986802028744371e-62\n",
      "Modified:  0.00028727446734619306 Original:  0.00011613319222756229\n",
      "Modified:  1.0751065608763518e-62 Original:  4.3462114142188603e-63\n",
      "Modified:  6.92717143101028e-09 Original:  2.800369064548038e-09\n",
      "Modified:  3.1540889399004377e-22 Original:  1.2750677794099469e-22\n",
      "Modified:  2.24493829622725e-41 Original:  9.075357552768266e-42\n",
      "Modified:  2.7883079151885396e-23 Original:  1.1271976312255975e-23\n",
      "Modified:  2.7672765824020373e-08 Original:  1.1186955327416647e-08\n",
      "Modified:  3.296873001895785e-13 Original:  1.3327894734815434e-13\n"
     ]
    }
   ],
   "source": [
    "opt_cost = np.exp(-cost_set.traj_cost(xs_optimal,us_optimal,w_des[:nr], w_des[nr:], timeStep))\n",
    "print(opt_cost)\n",
    "for X, U in zip(xs_non_optimal_set, us_non_optimal_set):\n",
    "    print('Modified: ', np.exp(-cost_set.traj_cost(X,U,w_bad[:nr], w_bad[nr:], timeStep))/opt_cost, \n",
    "         'Original: ', np.exp(-cost_set.traj_cost(X,U,w_bad[:nr], w_bad[nr:], timeStep)))"
   ]
  },
  {
   "cell_type": "code",
   "execution_count": 101,
   "id": "9904e761-7547-427c-ab51-4cc1dfb70afc",
   "metadata": {},
   "outputs": [],
   "source": [
    "# IRL Algorithm\n",
    "from scipy.optimize import minimize\n",
    "from scipy.optimize import Bounds\n",
    "\n",
    "def fcn_w(x, cost_set, xs_optimal, us_optimal, xs_non_optimal_set, us_non_optimal_set, dt, Lambda = 0.001):\n",
    "    # x /= np.linalg.norm(x)\n",
    "    nr = cost_set.nr\n",
    "    output = 0\n",
    "    num = np.nextafter(0,1)\n",
    "    den = np.nextafter(0,1)\n",
    "    num += np.exp(-cost_set.traj_cost(xs_optimal, us_optimal, x[:nr], x[nr:], dt))\n",
    "    den += num\n",
    "    for Xs, Us in zip(xs_non_optimal_set, us_non_optimal_set):\n",
    "        den += np.exp(-cost_set.traj_cost(Xs, Us, x[:nr], x[nr:], dt))\n",
    "    output -= np.log(num/den)\n",
    "    output += Lambda*np.linalg.norm(x)\n",
    "    return output\n",
    "\n",
    "def fcn_w_nSamples(x, cost_set, xs_optimal, us_optimal, xs_non_optimal_set, us_non_optimal_set, dt, samples, Lambda = 0.001):\n",
    "    nr = cost_set.nr\n",
    "    num_samples = samples # Have these number of samples per trajectory equidistantly starting from the beginning\n",
    "    output = 0\n",
    "    for i in np.int32(np.linspace(0, len(xs_optimal), num=num_samples+1))[:-1]:\n",
    "        num = np.nextafter(0,1)\n",
    "        den = np.nextafter(0,1)\n",
    "        X_opt = xs_optimal[i:].copy(); U_opt = us_optimal[i:].copy()\n",
    "        num += np.exp(-cost_set.traj_cost(X_opt, U_opt, x[:nr], x[nr:], dt))\n",
    "        den += num\n",
    "        for Xs, Us in zip(xs_non_optimal_set, us_non_optimal_set):\n",
    "            X_nopt = Xs[i:].copy(); U_nopt = Us[i:].copy()\n",
    "            den += np.max([np.nextafter(0,1), np.exp(-cost_set.traj_cost(X_nopt, U_nopt, x[:nr], x[nr:], dt))])\n",
    "        output -= np.log(num/den)\n",
    "    output += Lambda*np.linalg.norm(x)\n",
    "    return output\n",
    "\n",
    "def fcn_w_cum(x, cost_set, xs_optimal, us_optimal, xs_non_optimal_set, us_non_optimal_set, dt, Lambda = 0.001):\n",
    "    return True\n",
    "\n",
    "# def fcn_w_nD(x, cost_set, xs_optimal_set, us_optimal_set, xs_non_optimal_set, us_non_optimal_set, dt, Lambda = 0.001):\n",
    "#     # x /= np.linalg.norm(x)\n",
    "#     nr = cost_set.nr\n",
    "#     output = 0\n",
    "#     for Xs_opt, Us_opt in zip(xs_optimal_set, us_optimal_set):\n",
    "#         num = np.nextafter(0,1)\n",
    "#         den = np.nextafter(0,1)\n",
    "#         num += np.exp(-cost_set.traj_cost(Xs_opt, Us_opt, x[:nr], x[nr:], dt))\n",
    "#         den += num\n",
    "#         for Xs, Us in zip(xs_non_optimal_set, us_non_optimal_set):\n",
    "#             den += np.exp(-cost_set.traj_cost(Xs, Us, x[:nr], x[nr:], dt))\n",
    "#         output -= np.log(num/den)\n",
    "    \n",
    "#     output += Lambda*np.linalg.norm(x)\n",
    "#     return output\n",
    "\n"
   ]
  },
  {
   "cell_type": "code",
   "execution_count": null,
   "id": "f6085ced-6509-44e5-a8e9-7a3b56604fd5",
   "metadata": {},
   "outputs": [
    {
     "name": "stdout",
     "output_type": "stream",
     "text": [
      "RUNNING THE L-BFGS-B CODE\n",
      "\n",
      "           * * *\n",
      "\n",
      "Machine precision = 2.220D-16\n",
      " N =           12     M =           10\n",
      "\n",
      "At X0        12 variables are exactly at the bounds\n",
      "\n",
      "At iterate    0    f=  3.09104D+01    |proj g|=  3.98829D+03\n",
      "\n",
      "At iterate    1    f=  2.34910D+01    |proj g|=  8.55434D+01\n",
      "\n",
      "At iterate    2    f=  1.64779D+01    |proj g|=  1.93138D+02\n",
      "\n",
      "At iterate    3    f=  1.57781D+01    |proj g|=  1.96618D+02\n",
      "\n",
      "At iterate    4    f=  1.33464D+01    |proj g|=  5.60358D+01\n",
      "\n",
      "At iterate    5    f=  1.21499D+01    |proj g|=  1.34633D+02\n",
      "\n",
      "At iterate    6    f=  1.12994D+01    |proj g|=  3.16876D+02\n",
      "\n",
      "At iterate    7    f=  1.03056D+01    |proj g|=  1.67061D+02\n",
      "\n",
      "At iterate    8    f=  9.53787D+00    |proj g|=  1.40944D+02\n",
      "\n",
      "At iterate    9    f=  8.53210D+00    |proj g|=  4.55887D+01\n",
      "\n",
      "At iterate   10    f=  7.64659D+00    |proj g|=  5.52819D+00\n",
      "\n",
      "At iterate   11    f=  7.58851D+00    |proj g|=  4.12813D+00\n",
      "\n",
      "At iterate   12    f=  7.53849D+00    |proj g|=  2.51854D+00\n",
      "\n",
      "At iterate   13    f=  7.52781D+00    |proj g|=  1.93664D+00\n",
      "\n",
      "At iterate   14    f=  7.52378D+00    |proj g|=  1.63196D+00\n",
      "\n",
      "At iterate   15    f=  7.52019D+00    |proj g|=  1.53324D+00\n",
      "\n",
      "At iterate   16    f=  7.51189D+00    |proj g|=  1.53468D+00\n",
      "\n",
      "At iterate   17    f=  7.49256D+00    |proj g|=  1.53480D+00\n",
      "\n",
      "At iterate   18    f=  7.44476D+00    |proj g|=  1.52987D+00\n",
      "\n",
      "At iterate   19    f=  7.31966D+00    |proj g|=  1.50835D+00\n",
      "\n",
      "At iterate   20    f=  6.73454D+00    |proj g|=  1.38329D+00\n",
      "\n",
      "At iterate   21    f=  6.69099D+00    |proj g|=  1.36831D+00\n",
      "\n",
      "At iterate   22    f=  6.50706D+00    |proj g|=  1.29064D+00\n",
      "\n",
      "At iterate   23    f=  5.63734D+00    |proj g|=  8.70378D-01\n",
      "\n",
      "At iterate   24    f=  4.56583D+00    |proj g|=  3.27164D-01\n",
      "\n",
      "At iterate   25    f=  4.23068D+00    |proj g|=  2.45122D-01\n",
      "\n",
      "At iterate   26    f=  3.96159D+00    |proj g|=  1.81554D-01\n",
      "\n",
      "At iterate   27    f=  3.75912D+00    |proj g|=  1.35845D-01\n",
      "\n",
      "At iterate   28    f=  3.58163D+00    |proj g|=  9.65064D-02\n",
      "\n",
      "At iterate   29    f=  3.45194D+00    |proj g|=  6.65261D-02\n",
      "\n",
      "At iterate   30    f=  3.38036D+00    |proj g|=  4.68543D-02\n",
      "\n",
      "At iterate   31    f=  3.35413D+00    |proj g|=  3.59425D-02\n",
      "\n",
      "At iterate   32    f=  3.34906D+00    |proj g|=  3.11842D-02\n",
      "\n",
      "At iterate   33    f=  3.34871D+00    |proj g|=  2.98462D-02\n",
      "\n",
      "At iterate   34    f=  3.34870D+00    |proj g|=  2.96793D-02\n",
      "\n",
      "At iterate   35    f=  3.34870D+00    |proj g|=  2.96610D-02\n",
      "\n",
      "At iterate   36    f=  3.34869D+00    |proj g|=  2.95375D-02\n",
      "\n",
      "At iterate   37    f=  3.34868D+00    |proj g|=  2.93860D-02\n",
      "\n",
      "At iterate   38    f=  3.34863D+00    |proj g|=  2.91268D-02\n",
      "\n",
      "At iterate   39    f=  3.34851D+00    |proj g|=  2.87146D-02\n",
      "\n",
      "At iterate   40    f=  3.34819D+00    |proj g|=  2.80579D-02\n",
      "\n",
      "At iterate   41    f=  3.34737D+00    |proj g|=  2.70191D-02\n"
     ]
    }
   ],
   "source": [
    "dt = timeStep\n",
    "Lambda = 0.01\n",
    "lb = 0.0; ub = np.inf\n",
    "bnds = Bounds(lb, ub)\n",
    "options = {'maxiter': 100, 'iprint': 1,'ftol': 1e-15 ,'gtol' : 1e-15}\n",
    "tol = 1e-15\n",
    "samples = 10\n",
    "# w0 = w_bad\n",
    "w0 = np.zeros_like(w_bad)\n",
    "# w0 = w_des\n",
    "# w0 = 10*np.ones_like(w_bad)\n",
    "\n",
    "# 1 Optimal Demo\n",
    "# args=(cost_set, xs_optimal, us_optimal, xs_non_optimal_set, us_non_optimal_set, dt, Lambda)\n",
    "# res = minimize(fcn_w, \n",
    "#                w0, \n",
    "#                args, \n",
    "#                bounds=bnds, \n",
    "#                method='L-BFGS-B', \n",
    "#                tol = tol,\n",
    "#                options=options)\n",
    "# print(res)\n",
    "\n",
    "# 1 Optimal Demo, Multiple Samples\n",
    "args=(cost_set, xs_optimal, us_optimal, xs_non_optimal_set, us_non_optimal_set, dt, samples, Lambda)\n",
    "res = minimize(fcn_w_nSamples, \n",
    "               w0, \n",
    "               args, \n",
    "               bounds=bnds, \n",
    "               method='L-BFGS-B', \n",
    "               tol = tol,\n",
    "               options=options)\n",
    "print(res)\n",
    "\n",
    "\n",
    "# WIRL = []\n",
    "# for i in range(1,len(xs_non_optimal_set)):\n",
    "#     xs_no_subset = xs_non_optimal_set[:i]\n",
    "#     us_no_subset = us_non_optimal_set[:i]\n",
    "#     res = minimize(fcn_w, \n",
    "#                    w0, \n",
    "#                    args=(cost_set, xs_optimal, us_optimal, xs_no_subset, us_no_subset, dt, Lambda), \n",
    "#                    bounds=bnds, \n",
    "#                    method='L-BFGS-B', \n",
    "#                    tol = tol,\n",
    "#                    options=options)\n",
    "#     WIRL.append(res.x)\n",
    "#     print(res)\n",
    "\n",
    "w_irl = res.x"
   ]
  },
  {
   "cell_type": "code",
   "execution_count": null,
   "id": "f548d71e-7065-47b6-bd11-524f4ce30442",
   "metadata": {},
   "outputs": [],
   "source": [
    "# w_irl /= np.max(w_irl)\n",
    "for i, cost in enumerate(cost_set.costs):\n",
    "    print(cost.name, ':')\n",
    "    print('Running || ', 'Desired: ', w_des[:nr][i], 'IRL: ', w_irl[:nr][i])\n",
    "    print('Terminal || ', 'Desired: ', w_des[nr:][i], 'IRL: ', w_irl[nr:][i])\n",
    "    print('')"
   ]
  },
  {
   "cell_type": "code",
   "execution_count": null,
   "id": "1864cbf4-0d5e-4694-a974-3c1a107cbcfd",
   "metadata": {},
   "outputs": [],
   "source": [
    "# w_irl = w_irl/np.max(w_irl)"
   ]
  },
  {
   "cell_type": "code",
   "execution_count": null,
   "id": "de33ae35-2a22-48d2-bab3-fddf6f3f0e99",
   "metadata": {},
   "outputs": [],
   "source": [
    "print('Desired Trajectory Cost: ', cost_set.traj_cost(xs_optimal, us_optimal, w_des[:nr], w_des[nr:], timeStep), ' || with IRL Weight:  ', cost_set.traj_cost(xs_optimal, us_optimal, w_irl[:nr], w_irl[nr:], timeStep))\n",
    "print('Bad Trajectory Cost:     ', cost_set.traj_cost(xs_non_optimal, us_non_optimal, w_bad[:nr], w_bad[nr:], timeStep), ' || with IRL Weight:  ', cost_set.traj_cost(xs_non_optimal, us_non_optimal, w_irl[:nr], w_irl[nr:], timeStep))"
   ]
  },
  {
   "cell_type": "code",
   "execution_count": null,
   "id": "4e78c1e7-c248-494d-a041-ec3dc69a59e2",
   "metadata": {},
   "outputs": [],
   "source": [
    "# Test IRL 1D Output\n",
    "print('Desired Fcn:    ', fcn_w(w_des, cost_set, xs_optimal, us_optimal, xs_non_optimal_set, us_non_optimal_set, dt, Lambda))\n",
    "print('IRL Fcn:        ', fcn_w(w_irl, cost_set, xs_optimal, us_optimal, xs_non_optimal_set, us_non_optimal_set, dt, Lambda))\n",
    "print('Bad Fcn:        ', fcn_w(w_bad, cost_set, xs_optimal, us_optimal, xs_non_optimal_set, us_non_optimal_set, dt, Lambda))"
   ]
  },
  {
   "cell_type": "code",
   "execution_count": null,
   "id": "1a854832-9e24-41bf-adff-f6afa1a113af",
   "metadata": {},
   "outputs": [],
   "source": [
    "# Run again with bad weights (zero for obstacles)\n",
    "w_run = w_irl[:nr]\n",
    "w_term = w_irl[nr:]\n",
    "PM_DAM_running = DifferentialActionModelPointMass(cost_set, w_run)\n",
    "PM_DAM_terminal = DifferentialActionModelPointMass(cost_set, w_term)\n",
    "pmDataRunning = PM_DAM_running.createData()\n",
    "pmDataTerminal = PM_DAM_terminal.createData()\n",
    "PM_ND_R = crocoddyl.DifferentialActionModelNumDiff(PM_DAM_running, False)\n",
    "PM_ND_T = crocoddyl.DifferentialActionModelNumDiff(PM_DAM_terminal, False)\n",
    "timeStep = 5e-2\n",
    "PM_IAM = crocoddyl.IntegratedActionModelEuler(PM_ND_R, timeStep)\n",
    "PM_IAM_T = crocoddyl.IntegratedActionModelEuler(PM_ND_T, 0.0)\n",
    "x0 = start_point\n",
    "# x0 = np.array([0.0, 0.0, 0.0, 0.0])\n",
    "u0 = np.array([0.0, 0.0])\n",
    "problem = crocoddyl.ShootingProblem(x0, [PM_IAM] * T, PM_IAM_T)\n",
    "# Creating the SQP solver\n",
    "sqp = mim_solvers.SolverSQP(problem)\n",
    "sqp.setCallbacks([crocoddyl.CallbackVerbose()])\n",
    "sqp.with_callbacks=True\n",
    "sqp.termination_tolerance = 1e-5\n",
    "xs_init = [x0 for i in range(T+1)]\n",
    "us_init = [u0 for i in range(T)]\n",
    "# xs_init = [xs_optimal[i] for i in range(T+1)]\n",
    "# us_init = [us_optimal[i] for i in range(T)]\n",
    "\n",
    "# Solving this problem\n",
    "done = sqp.solve(xs_init, us_init, 500)\n",
    "xs_output = np.stack(sqp.xs.tolist().copy())\n",
    "us_output = np.stack(sqp.us.tolist().copy())"
   ]
  },
  {
   "cell_type": "code",
   "execution_count": null,
   "id": "753d8e61-5624-4352-8d54-2bb3243dcef8",
   "metadata": {},
   "outputs": [],
   "source": [
    "print('IRL Trajectory Cost:  ', cost_set.traj_cost(xs_output, us_output, w_irl[:nr], w_irl[nr:], timeStep))\n",
    "print('with Desired Weight:  ', cost_set.traj_cost(xs_output, us_output, w_des[:nr], w_des[nr:], timeStep)) \n",
    "print('with Bad Weight:      ', cost_set.traj_cost(xs_output, us_output, w_bad[:nr], w_bad[nr:], timeStep))"
   ]
  },
  {
   "cell_type": "code",
   "execution_count": null,
   "id": "c5a8aedc-66a7-4c74-a7a8-d284a48265f8",
   "metadata": {},
   "outputs": [],
   "source": [
    "print('IRL Trajectory Cost:      ', cost_set.traj_cost(xs_output, us_output, w_irl[:nr], w_irl[nr:], timeStep))\n",
    "print('Desired Trajectory Cost:  ', cost_set.traj_cost(xs_optimal, us_optimal, w_des[:nr], w_des[nr:], timeStep))"
   ]
  },
  {
   "cell_type": "code",
   "execution_count": null,
   "id": "c0856eac-418c-4e7b-bd82-c3f42c17beac",
   "metadata": {},
   "outputs": [],
   "source": [
    "print('IRL Trajectory with Desired Cost: ', cost_set.traj_cost(xs_output, us_output, w_des[:nr], w_des[nr:], timeStep))\n",
    "print('Initial Optimal Trajectory Cost:  ', cost_set.traj_cost(xs_optimal, us_optimal, w_des[:nr], w_des[nr:], timeStep))"
   ]
  },
  {
   "cell_type": "code",
   "execution_count": null,
   "id": "70a71c58-f906-4408-ad61-e696fce81acd",
   "metadata": {},
   "outputs": [],
   "source": [
    "plot_results(xs_optimal, xs_non_optimal_set, xs_output, obs_set, target_high)"
   ]
  },
  {
   "cell_type": "code",
   "execution_count": null,
   "id": "56d490a2-ae96-4728-bb45-b314bbf49bab",
   "metadata": {},
   "outputs": [],
   "source": [
    "P_irl = distributions(cost_set, xs_optimal, us_optimal, xs_non_optimal_set, us_non_optimal_set, w_irl[:nr], w_irl[nr:], dt)\n",
    "P_des = distributions(cost_set, xs_optimal, us_optimal, xs_non_optimal_set, us_non_optimal_set, w_des[:nr], w_des[nr:], dt)   "
   ]
  },
  {
   "cell_type": "code",
   "execution_count": null,
   "id": "412ec628-d7a1-4202-8fed-39f243113846",
   "metadata": {},
   "outputs": [],
   "source": [
    "P_irl/np.max(P_irl)"
   ]
  },
  {
   "cell_type": "code",
   "execution_count": null,
   "id": "3e25325c-4eac-4c4a-a61a-bb0d98a782c3",
   "metadata": {},
   "outputs": [],
   "source": [
    "P_des/np.max(P_des)"
   ]
  },
  {
   "cell_type": "code",
   "execution_count": null,
   "id": "743601be-ca63-499f-8222-a2050c840d72",
   "metadata": {},
   "outputs": [],
   "source": [
    "plt.plot(-1/np.log(P_irl[1:]),label='IRL')\n",
    "plt.plot(-1/np.log(P_des[1:]),label='Desired')\n",
    "plt.legend()\n",
    "plt.title('Inverse Negative Log(P), Desired should be higher')\n",
    "plt.show()"
   ]
  },
  {
   "cell_type": "code",
   "execution_count": null,
   "id": "1c9ab6ad-9d84-486c-80ee-7f76e13d0103",
   "metadata": {},
   "outputs": [],
   "source": []
  }
 ],
 "metadata": {
  "kernelspec": {
   "display_name": "Python 3 (ipykernel)",
   "language": "python",
   "name": "python3"
  },
  "language_info": {
   "codemirror_mode": {
    "name": "ipython",
    "version": 3
   },
   "file_extension": ".py",
   "mimetype": "text/x-python",
   "name": "python",
   "nbconvert_exporter": "python",
   "pygments_lexer": "ipython3",
   "version": "3.10.12"
  }
 },
 "nbformat": 4,
 "nbformat_minor": 5
}
