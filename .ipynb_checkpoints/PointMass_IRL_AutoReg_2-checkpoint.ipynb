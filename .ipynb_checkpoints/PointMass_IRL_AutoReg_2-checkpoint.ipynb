{
 "cells": [
  {
   "cell_type": "code",
   "execution_count": null,
   "id": "a75d44cc-63fb-436d-b285-377cf5b68382",
   "metadata": {},
   "outputs": [],
   "source": [
    "# IRL AutoRegressive 2:\n",
    "# In this algorithm, SQP is embedded within the IRL block to ensure a higher optimality of the resulting trajectory\n",
    "# based on the distance of the new trajectory with the optimal trajectory in the feature space"
   ]
  },
  {
   "cell_type": "code",
   "execution_count": 1,
   "id": "8d76daa0-25e8-4bf7-ad8e-feb8a301453b",
   "metadata": {},
   "outputs": [],
   "source": [
    "import crocoddyl\n",
    "import pinocchio\n",
    "from IPython.display import HTML\n",
    "import mim_solvers\n",
    "import numpy as np\n",
    "import random\n",
    "from matplotlib import animation\n",
    "from matplotlib import pyplot as plt\n",
    "from PointMass_utils import *\n",
    "from PointMass_model import *\n",
    "from scipy.optimize import minimize\n",
    "from scipy.optimize import Bounds"
   ]
  },
  {
   "cell_type": "code",
   "execution_count": 2,
   "id": "f36c6b01-f572-4cfc-85d6-232f3edd67c4",
   "metadata": {},
   "outputs": [],
   "source": [
    "nx = 4\n",
    "nu = 2\n",
    "T = 20\n",
    "start_point = np.array([0, 0, 0, 0])\n",
    "target_low = np.array([10, 0, 0, 0])\n",
    "target_high = np.array([10, 10, 0, 0])\n",
    "obs_act = 1.5\n",
    "obs0 = Obstacle(10, 8, 2, obs_act, 'Obs0')\n",
    "obs1 = Obstacle(4, 3.5, 2, obs_act, 'Obs1')\n",
    "obs2 = Obstacle(8, 7, 1, obs_act, 'Obs2')\n",
    "obs3 = Obstacle(4.5, 6, 1, obs_act, 'Obs3')\n",
    "obs4 = Obstacle(4, 4, 1, obs_act, 'Obs4')\n",
    "obs5 = Obstacle(6, 7.5, 1, obs_act, 'Obs5')\n",
    "obs6 = Obstacle(7.5, 3, 1, obs_act, 'Obs6')\n",
    "obs7 = Obstacle(5, 1, 1, obs_act, 'Obs7')\n",
    "obs8 = Obstacle(2.5, 2, 1, obs_act, 'Obs8')\n",
    "obs_set = [obs1]#, obs2, obs3]#, obs4, obs5, obs6, obs7, obs8]\n",
    "# obs_set = [obs0]\n",
    "translation_cost = XReg(nx, target_high, 'trans_high')\n",
    "xreg = XReg(nx, start_point, 'XReg')\n",
    "ureg = UReg(nu, None, 'UReg')\n",
    "\n",
    "cost_set = Costs()\n",
    "cost_set.add_cost(translation_cost)\n",
    "cost_set.add_cost(xreg)\n",
    "cost_set.add_cost(ureg)\n",
    "# cost_set.add_cost(obs0)\n",
    "cost_set.add_cost(obs1)\n",
    "# cost_set.add_cost(obs2)\n",
    "# cost_set.add_cost(obs3)\n",
    "# cost_set.add_cost(obs4)\n",
    "# cost_set.add_cost(obs5)\n",
    "# cost_set.add_cost(obs6)\n",
    "# cost_set.add_cost(obs7)\n",
    "# cost_set.add_cost(obs8)\n",
    "\n",
    "nr = cost_set.nr"
   ]
  },
  {
   "cell_type": "code",
   "execution_count": 3,
   "id": "adc82999-02e7-4ff5-befc-5883c8d58f47",
   "metadata": {},
   "outputs": [],
   "source": [
    "# Desired Weights\n",
    "w_run_possibles = np.array([10, 1., 1., 2000, 2000, 2000, 2000, 1000, 2000, 2000, 2000])\n",
    "w_term_possibles = np.array([2000, 1., 1., 1000, 1000, 1000, 500, 0, 1000, 1000, 1000])\n",
    "w_run = w_run_possibles[:nr]\n",
    "w_term = w_term_possibles[:nr]\n",
    "obs_set = obs_set[:nr]\n",
    "# w_des = np.hstack([w_run, w_term])\n",
    "w_des = (np.hstack([w_run, w_term])/(np.max(np.hstack([w_run, w_term])))).copy()\n",
    "# w_des = (np.hstack([w_run, w_term])/(np.linalg.norm(np.hstack([w_run, w_term])))).copy()"
   ]
  },
  {
   "cell_type": "code",
   "execution_count": 19,
   "id": "98ccf0e2-bc95-4ed0-b48b-f55a8faf1543",
   "metadata": {},
   "outputs": [
    {
     "name": "stdout",
     "output_type": "stream",
     "text": [
      "Collecting 100 trajectories\n",
      "10 Trajectories Collected\n",
      "20 Trajectories Collected\n",
      "Trajectory 24 Rejected\n",
      "30 Trajectories Collected\n",
      "Trajectory 33 Rejected\n",
      "Trajectory 34 Rejected\n",
      "Trajectory 35 Rejected\n",
      "40 Trajectories Collected\n",
      "Trajectory 43 Rejected\n",
      "Trajectory 44 Rejected\n",
      "Trajectory 45 Rejected\n",
      "50 Trajectories Collected\n",
      "Trajectory 54 Rejected\n",
      "Trajectory 55 Rejected\n",
      "60 Trajectories Collected\n",
      "70 Trajectories Collected\n",
      "80 Trajectories Collected\n",
      "90 Trajectories Collected\n",
      "100 Trajectories Collected\n"
     ]
    }
   ],
   "source": [
    "samples = 10\n",
    "xlims = [0, 10]\n",
    "ylims = [0, 10]\n",
    "x0 = start_point\n",
    "u0 = np.array([0.0, 0.0])\n",
    "timeStep = 5e-2\n",
    "max_iter = 500\n",
    "XS_Set_optimal, US_Set_optimal = test_model_full(cost_set, obs_set, samples, xlims, ylims, T, w_des, timeStep, max_iter, with_callback = False)\n",
    "xs_optimal = XS_Set_optimal[0]\n",
    "us_optimal = US_Set_optimal[0]\n",
    "# xs_optimal, us_optimal, _ = get_results_from_model(cost_set, x0, u0, T, w_des, timeStep, max_iter, with_callback = True)"
   ]
  },
  {
   "cell_type": "code",
   "execution_count": 20,
   "id": "e6fd84c5-f2c4-4259-9f29-6d879476ce17",
   "metadata": {},
   "outputs": [
    {
     "data": {
      "image/png": "[encoded data removed]",
      "text/plain": [
       "<Figure size 640x480 with 1 Axes>"
      ]
     },
     "metadata": {},
     "output_type": "display_data"
    }
   ],
   "source": [
    "# HTML(animatePointMass(xs_optimal, obs_set, target_high).to_jshtml())\n",
    "plot_1_traj(np.vstack(xs_optimal), obs_set, target_high, label='Optimal', linemap = 'b')"
   ]
  },
  {
   "cell_type": "code",
   "execution_count": 6,
   "id": "da7fc03b-7ba3-4f0e-b11c-eda1ba3c98ff",
   "metadata": {},
   "outputs": [],
   "source": [
    "# Bad Running and Terminal Model\n",
    "w_bad = np.zeros_like(w_des)\n",
    "w_run = w_bad[:nr]\n",
    "w_term = w_bad[nr:]\n",
    "\n",
    "xs_non_optimal, us_non_optimal, sqp_non_opt = get_results_from_model(cost_set, x0, u0, T, w_bad, timeStep, max_iter, with_callback = False)\n",
    "_, _, sqp_loop = get_results_from_model(cost_set, x0, u0, T, w_bad, timeStep, max_iter, with_callback = False)"
   ]
  },
  {
   "cell_type": "code",
   "execution_count": 7,
   "id": "055ca337-3fbc-4caf-b8d9-dbc58249283d",
   "metadata": {},
   "outputs": [],
   "source": [
    "# HTML(animatePointMass(xs_non_optimal, obs_set, target_high).to_jshtml())\n",
    "# plot_1_traj(np.vstack(xs_non_optimal), obs_set, target_high, label='Non-Optimal', linemap = 'r')"
   ]
  },
  {
   "cell_type": "code",
   "execution_count": 8,
   "id": "655c52f5-a38b-4ba0-9c24-7fe1b730da10",
   "metadata": {},
   "outputs": [],
   "source": [
    "# IRL Algorithm\n",
    "def fcn_autoreg_sqp(x, IRL_args, solver_args):\n",
    "    # Parsing the arguments\n",
    "    xs_optimal = IRL_args['xs_opt'].copy(); us_optimal = IRL_args['us_opt'].copy()\n",
    "    xs_non_optimal_set = IRL_args['xs_non_opt_set'].copy(); us_non_optimal_set = IRL_args['us_non_opt_set'].copy()\n",
    "    dt = solver_args['dt']\n",
    "    cost_set = IRL_args['cost_set']\n",
    "    nr = cost_set.nr\n",
    "    T = solver_args['T']\n",
    "    \n",
    "    # Cumulative Features and costs for the desired and the initial bad trajectories\n",
    "    opt_traj_feat = cost_set.cum_feat(xs_optimal, us_optimal, dt)\n",
    "    bad_traj_feat = cost_set.cum_feat(np.zeros_like(xs_optimal), np.zeros_like(us_optimal), dt)\n",
    "    opt_traj_cost = cost_set.traj_cost(xs_optimal, us_optimal, x[:nr], x[nr:], dt)\n",
    "    bad_traj_cost = cost_set.traj_cost(np.zeros_like(xs_optimal), np.zeros_like(us_optimal), x[:nr], x[nr:], dt)\n",
    "\n",
    "    # Resetting the weights of the solver and solving with weights 'x'\n",
    "    solver = reset_weights(solver_args['solver'], x[:nr], x[nr:])\n",
    "    solver.with_callbacks = solver_args['callback']\n",
    "    solver.termination_tolerance = solver_args['solver_tol']\n",
    "    xs_init = [solver_args['prev_x'][i] for i in range(T+1)]\n",
    "    us_init = [solver_args['prev_u'][i] for i in range(T)]\n",
    "    solver.solve(xs_init, us_init, solver_args['max_iter'])\n",
    "    xs_non_optimal_set.append(np.vstack(solver.xs.tolist().copy()))\n",
    "    us_non_optimal_set.append(np.vstack(solver.us.tolist().copy()))\n",
    "    new_traj_feat = cost_set.cum_feat(solver.xs.copy(), solver.us.copy(), dt)\n",
    "    \n",
    "    \n",
    "    output = 0; den = 0\n",
    "    # Negative log term\n",
    "    num = np.max([np.nextafter(0,1),np.exp(-opt_traj_cost)])\n",
    "    den += num\n",
    "    for Xs, Us in zip(xs_non_optimal_set, us_non_optimal_set):\n",
    "        non_opt_traj_cost = cost_set.traj_cost(Xs, Us, x[:nr], x[nr:], dt)\n",
    "        if IRL_args['use_factor']:\n",
    "            non_opt_traj_feat = cost_set.cum_feat(Xs, Us, dt)\n",
    "            alpha = np.exp(np.linalg.norm(opt_traj_feat - non_opt_traj_feat)/(np.linalg.norm(opt_traj_feat - bad_traj_feat)))\n",
    "            den += np.max([np.nextafter(0,1),alpha*np.exp(-non_opt_traj_cost)])\n",
    "        else:\n",
    "            den += np.max([np.nextafter(0,1),np.exp(-non_opt_traj_cost)])\n",
    "    output -= np.log(num/den)\n",
    "\n",
    "    # Weight Regularization Term\n",
    "    output += IRL_args['Lambda']*np.linalg.norm(x)**2\n",
    "\n",
    "    # Feature Regularization Term\n",
    "    output += IRL_args['Beta']*(np.linalg.norm(opt_traj_feat - new_traj_feat)/np.linalg.norm(opt_traj_feat - bad_traj_feat))**2\n",
    "    \n",
    "    return output"
   ]
  },
  {
   "cell_type": "code",
   "execution_count": 9,
   "id": "3ce68bd0-11d6-46d3-8e12-6b480b59cf39",
   "metadata": {},
   "outputs": [
    {
     "name": "stdout",
     "output_type": "stream",
     "text": [
      "Fcn Value: 11.7282 || Weight Diff: 0.7410 || Traj Diff: 136.5646, || Optimality: 0.0421\n",
      "Fcn Value: 0.7059 || Weight Diff: 0.3112 || Traj Diff: 0.0003, || Optimality: 0.0004\n",
      "Fcn Value: 1.1077 || Weight Diff: 0.0018 || Traj Diff: 0.0002, || Optimality: 0.0000\n",
      "Fcn Value: 1.3828 || Weight Diff: 0.0227 || Traj Diff: 0.0009, || Optimality: 0.0001\n",
      "Fcn Value: 1.6043 || Weight Diff: 0.0303 || Traj Diff: 0.0000, || Optimality: 0.0001\n",
      "Fcn Value: 1.7866 || Weight Diff: 0.0062 || Traj Diff: 0.0000, || Optimality: 0.0000\n",
      "Fcn Value: 1.9407 || Weight Diff: 0.0001 || Traj Diff: 0.0000, || Optimality: 0.0000\n",
      "Fcn Value: 1.9438 || Weight Diff: 0.0000 || Traj Diff: 0.0000, || Optimality: 0.0000\n",
      "Fcn Value: 1.9474 || Weight Diff: 0.0000 || Traj Diff: 0.0000, || Optimality: 0.0000\n",
      "  message: ABNORMAL_TERMINATION_IN_LNSRCH\n",
      "  success: False\n",
      "   status: 2\n",
      "      fun: 1.94741684812442\n",
      "        x: [ 1.479e-04  0.000e+00  1.085e-04  1.795e-01  1.000e+00\n",
      "             1.472e-02  1.654e-03  1.312e-02]\n",
      "      nit: 0\n",
      "      jac: [-5.589e-01  5.268e-01 -2.343e+00 -3.322e-03 -8.894e-03\n",
      "             7.707e-01  0.000e+00  0.000e+00]\n",
      "     nfev: 54\n",
      "     njev: 6\n",
      " hess_inv: <8x8 LbfgsInvHessProduct with dtype=float64>\n"
     ]
    }
   ],
   "source": [
    "xs_non_optimal_set = []; xs_non_optimal_set.append(np.vstack(xs_non_optimal).copy())\n",
    "us_non_optimal_set = []; us_non_optimal_set.append(np.vstack(us_non_optimal).copy())\n",
    "\n",
    "solver_args = {\n",
    "    'solver': sqp_loop,\n",
    "    'max_iter': 5,\n",
    "    'T': T,\n",
    "    'dt': timeStep,\n",
    "    'callback': False,\n",
    "    'solver_tol': 1e-4,\n",
    "    'prev_x': xs_non_optimal,\n",
    "    'prev_u': us_non_optimal\n",
    "}\n",
    "\n",
    "IRL_args = {\n",
    "    'cost_set': cost_set,\n",
    "    'xs_opt': xs_optimal,\n",
    "    'us_opt': us_optimal,\n",
    "    'xs_non_opt_set': xs_non_optimal_set,\n",
    "    'us_non_opt_set': us_non_optimal_set,\n",
    "    'Lambda': 0.0,\n",
    "    'Beta': 1.0,\n",
    "    'use_factor': False\n",
    "}\n",
    "\n",
    "# Optimizer Parameters\n",
    "lb = 0; ub = np.inf\n",
    "bnds = Bounds(lb, ub)\n",
    "options = {'maxls': 5, 'maxiter': 5, 'iprint': -1,'ftol': 1e-5 ,'gtol' : 1e-5}\n",
    "tol = 1e-5\n",
    "\n",
    "# w_loop = w_bad\n",
    "w_loop = np.random.uniform(0.0, 1.0, size=len(w_des))\n",
    "# w_loop = np.ones_like(w_des)\n",
    "w_prev = w_loop\n",
    "w0 = w_loop\n",
    "it = 0\n",
    "max_set_size = 5\n",
    "# it_max_IRL = max_set_size + 1\n",
    "it_max_IRL = 10\n",
    "\n",
    "xs = []\n",
    "us = []\n",
    "ws = []\n",
    "Fcns= []\n",
    "Cost_Diffs = []\n",
    "W_Diffs = []\n",
    "Traj_Diffs = []\n",
    "Opt_Vals = []\n",
    "opt_tol = 1e-5\n",
    "\n",
    "xs.append(np.vstack(xs_non_optimal).copy())\n",
    "us.append(np.vstack(us_non_optimal).copy())\n",
    "ws.append(w_loop)\n",
    "\n",
    "init_choices = ['bad','optimal','previous']\n",
    "opt_feat = cost_set.cum_feat(xs_optimal,us_optimal,solver_args['dt'])\n",
    "non_opt_feat = cost_set.cum_feat(np.zeros_like(xs_optimal), np.zeros_like(us_optimal), solver_args['dt'])\n",
    "optimality = 1\n",
    "while optimality > opt_tol and it < it_max_IRL:\n",
    "\n",
    "    res = minimize(fcn_autoreg_sqp, \n",
    "                   w_loop, \n",
    "                   args=(IRL_args, solver_args), \n",
    "                   bounds=bnds, \n",
    "                   method='L-BFGS-B', \n",
    "                   tol = tol,\n",
    "                   options=options)\n",
    "    # print(res.x)\n",
    "    w_loop = res.x.copy()\n",
    "    if np.max(w_loop) != 0.0:\n",
    "        w_loop /= np.max(w_loop)\n",
    "    fcn_value = fcn_autoreg_sqp(w_loop,IRL_args, solver_args)\n",
    "    # fcn_value = 0.0\n",
    "    Fcns.append(fcn_value)\n",
    "    w_run = w_loop[:nr]\n",
    "    w_term = w_loop[nr:]\n",
    "\n",
    "    sqp_non_opt = reset_weights(sqp_non_opt, w_loop[:nr], w_loop[nr:])\n",
    "    # initial = random.choice(init_choices)\n",
    "    initial = 'previous'\n",
    "    if initial == 'previous':\n",
    "        # Warm-Start with previous trajectory\n",
    "        xs_init = [xs[-1][i] for i in range(T+1)]\n",
    "        us_init = [us[-1][i] for i in range(T)]\n",
    "    elif initial == 'optimal':\n",
    "        # Warm-Start with optimal trajectory\n",
    "        xs_init = [xs_optimal[i] for i in range(T+1)]\n",
    "        us_init = [us_optimal[i] for i in range(T)]\n",
    "    elif initial == 'bad':\n",
    "        # Warm-Start with zero trajectory\n",
    "        xs_init = [x0 for i in range(T+1)]\n",
    "        us_init = [u0 for i in range(T)]\n",
    "\n",
    "    done = sqp_non_opt.solve(xs_init, us_init, solver_args['max_iter'])\n",
    "    solver_args['prev_x'] = sqp_non_opt.xs.copy()\n",
    "    solver_args['prev_u'] = sqp_non_opt.us.copy()\n",
    "    \n",
    "    # Add the trajectory to the set\n",
    "    xs.append(np.vstack(sqp_non_opt.xs.tolist().copy()))\n",
    "    us.append(np.vstack(sqp_non_opt.us.tolist().copy()))\n",
    "    ws.append(w_loop.copy())\n",
    "    \n",
    "    traj_feat = cost_set.cum_feat(sqp_non_opt.xs.tolist().copy(), sqp_non_opt.us.tolist().copy(), solver_args['dt'])\n",
    "    optimality = ((np.linalg.norm(traj_feat - opt_feat))/(np.linalg.norm(opt_feat - non_opt_feat)))**2\n",
    "    Opt_Vals.append(optimality)\n",
    "    \n",
    "    if len(xs) <= max_set_size:\n",
    "        IRL_args['xs_non_opt_set'] = xs\n",
    "        IRL_args['us_non_opt_set'] = us\n",
    "    else:\n",
    "        IRL_args['xs_non_opt_set'] = xs[-max_set_size:]\n",
    "        IRL_args['us_non_opt_set'] = us[-max_set_size:]\n",
    "        \n",
    "    opt_diff = (cost_set.traj_cost(sqp_non_opt.xs.copy(), sqp_non_opt.us.copy(), w_des[:nr], w_des[nr:], solver_args['dt'])- cost_set.traj_cost(xs_optimal, us_optimal, w_des[:nr], w_des[nr:], solver_args['dt']))**2             \n",
    "    w_diff = np.linalg.norm(w_loop - w_prev)\n",
    "    traj_diff = (sqp_non_opt.cost - cost_set.traj_cost(xs_optimal, us_optimal, w_loop[:nr], w_loop[nr:], solver_args['dt']))**2\n",
    "    Cost_Diffs.append(opt_diff)\n",
    "    W_Diffs.append(w_diff)\n",
    "    Traj_Diffs.append(traj_diff)\n",
    "    if it > 0:\n",
    "        print('Fcn Value: {:.4f} || Weight Diff: {:.4f} || Traj Diff: {:.4f}, || Optimality: {:.4f}'.format(\n",
    "            fcn_value, w_diff, traj_diff, optimality\n",
    "        ))\n",
    "    \n",
    "    w_prev = w_loop.copy()\n",
    "    it += 1\n",
    "    # if it == it_max_IRL-1:\n",
    "    #     # options['maxiter'] = 200\n",
    "    #     xs_non_optimal_set = xs\n",
    "    #     us_non_optimal_set = us\n",
    "\n",
    "print(res)\n",
    "# w_irl = res.x/np.max(res.x)\n",
    "w_irl = w_loop\n",
    "# w_irl = ws[ws.index(min(ws))+1]"
   ]
  },
  {
   "cell_type": "code",
   "execution_count": 10,
   "id": "b43f88ad-faa0-478f-a17d-a0d511502ea3",
   "metadata": {},
   "outputs": [
    {
     "data": {
      "image/png": "[encoded data removed]",
      "text/plain": [
       "<Figure size 640x480 with 1 Axes>"
      ]
     },
     "metadata": {},
     "output_type": "display_data"
    }
   ],
   "source": [
    "plot_1_set(xs, obs_set, target_high, label='Non-Optimals', linemap_traj='r:', linemap_set='r:')"
   ]
  },
  {
   "cell_type": "code",
   "execution_count": 11,
   "id": "4e4334cf-6ee5-4e6a-ba53-d08215e08b1a",
   "metadata": {},
   "outputs": [
    {
     "data": {
      "text/plain": [
       "array([1.47871552e-04, 0.00000000e+00, 1.08458761e-04, 1.79531907e-01,\n",
       "       1.00000000e+00, 1.47229405e-02, 1.65395279e-03, 1.31161794e-02])"
      ]
     },
     "execution_count": 11,
     "metadata": {},
     "output_type": "execute_result"
    }
   ],
   "source": [
    "w_loop"
   ]
  },
  {
   "cell_type": "code",
   "execution_count": 15,
   "id": "d99768d8-edc4-42de-ba18-93ea6934b3c9",
   "metadata": {},
   "outputs": [
    {
     "name": "stdout",
     "output_type": "stream",
     "text": [
      "8 4.977917107907776e-06\n"
     ]
    }
   ],
   "source": [
    "n = Opt_Vals.index(min(Opt_Vals))\n",
    "print(n, min(Opt_Vals))"
   ]
  },
  {
   "cell_type": "code",
   "execution_count": 16,
   "id": "c98dd422-7f7b-4eff-8563-4c85af2d3afc",
   "metadata": {},
   "outputs": [
    {
     "name": "stdout",
     "output_type": "stream",
     "text": [
      "trans_high :\n",
      "Running ||  Desired:  0.005 IRL:  0.00014787155196234586\n",
      "Terminal ||  Desired:  1.0 IRL:  1.0\n",
      "\n",
      "XReg :\n",
      "Running ||  Desired:  0.0005 IRL:  0.0\n",
      "Terminal ||  Desired:  0.0005 IRL:  0.014722940534448302\n",
      "\n",
      "UReg :\n",
      "Running ||  Desired:  0.0005 IRL:  0.0001084587612206822\n",
      "Terminal ||  Desired:  0.0005 IRL:  0.0016539527946868003\n",
      "\n",
      "Obs1 :\n",
      "Running ||  Desired:  1.0 IRL:  0.17953190715493964\n",
      "Terminal ||  Desired:  0.5 IRL:  0.013116179381338744\n",
      "\n"
     ]
    }
   ],
   "source": [
    "# w_irl = ws[n+1]\n",
    "w_irl = res.x/np.max(res.x)\n",
    "w_irl /= np.max(w_irl)\n",
    "for i, cost in enumerate(cost_set.costs):\n",
    "    print(cost.name, ':')\n",
    "    print('Running || ', 'Desired: ', w_des[:nr][i], 'IRL: ', w_irl[:nr][i])\n",
    "    print('Terminal || ', 'Desired: ', w_des[nr:][i], 'IRL: ', w_irl[nr:][i])\n",
    "    print('')"
   ]
  },
  {
   "cell_type": "code",
   "execution_count": 17,
   "id": "abfad678-06e8-49b2-855d-b0d3514c98e6",
   "metadata": {},
   "outputs": [
    {
     "name": "stdout",
     "output_type": "stream",
     "text": [
      "Collecting 100 trajectories\n",
      "10 Trajectories Collected\n",
      "20 Trajectories Collected\n",
      "Trajectory 24 Rejected\n",
      "30 Trajectories Collected\n",
      "Trajectory 33 Rejected\n",
      "Trajectory 34 Rejected\n",
      "Trajectory 35 Rejected\n",
      "40 Trajectories Collected\n",
      "Trajectory 43 Rejected\n",
      "Trajectory 44 Rejected\n",
      "Trajectory 45 Rejected\n",
      "50 Trajectories Collected\n",
      "Trajectory 54 Rejected\n",
      "Trajectory 55 Rejected\n",
      "60 Trajectories Collected\n",
      "70 Trajectories Collected\n",
      "80 Trajectories Collected\n",
      "90 Trajectories Collected\n",
      "100 Trajectories Collected\n"
     ]
    }
   ],
   "source": [
    "XS_Set, US_Set = test_model_full(cost_set, obs_set, samples, xlims, ylims, T, w_irl, timeStep, max_iter, with_callback = False)"
   ]
  },
  {
   "cell_type": "code",
   "execution_count": 18,
   "id": "7c685874-13d3-4f9e-951d-50acb61bfb61",
   "metadata": {},
   "outputs": [
    {
     "data": {
      "image/png": "[encoded data removed]",
      "text/plain": [
       "<Figure size 640x480 with 1 Axes>"
      ]
     },
     "metadata": {},
     "output_type": "display_data"
    },
    {
     "name": "stdout",
     "output_type": "stream",
     "text": [
      "2\n"
     ]
    }
   ],
   "source": [
    "print(plot_tested_model(XS_Set, obs_set, target_high))\n",
    "# print(plot_tested_model(XS_Set_optimal, obs_set, target_high))"
   ]
  },
  {
   "cell_type": "code",
   "execution_count": null,
   "id": "6b4b8c8b-f790-4b7b-94ca-7ae5249fc5ac",
   "metadata": {},
   "outputs": [],
   "source": [
    "HTML(animateTraj(xs_optimal, xs, obs_set, target_high, sleep=500, animType=2).to_jshtml())"
   ]
  },
  {
   "cell_type": "code",
   "execution_count": null,
   "id": "fd213117-763b-47c8-9877-c529b037859c",
   "metadata": {},
   "outputs": [],
   "source": [
    "# Testing\n",
    "w_run = w_irl[:nr]\n",
    "w_term = w_irl[nr:]\n",
    "# w_run = w_des[:nr]\n",
    "# w_term = w_des[nr:]\n",
    "# w_run = ws[n][:nr]\n",
    "# w_term = ws[n][nr:]\n",
    "\n",
    "x0 = start_point\n",
    "# x0 = np.array([5.0, 3.5, 0.0, 0.0])\n",
    "u0 = np.array([0.0, 0.0])\n",
    "\n",
    "xs_output, us_output, sqp = get_results_from_model(cost_set, x0, u0, T, w_irl, timeStep, max_iter, with_callback = True)"
   ]
  },
  {
   "cell_type": "code",
   "execution_count": null,
   "id": "834e5918-dae5-483d-84fa-3bd37d3dc7b8",
   "metadata": {},
   "outputs": [],
   "source": [
    "plot_results(xs_optimal, xs, xs_output, obs_set, target_high)"
   ]
  },
  {
   "cell_type": "code",
   "execution_count": null,
   "id": "bf92d975-b2f6-4f6a-a21a-77b9206aebcd",
   "metadata": {},
   "outputs": [],
   "source": [
    "# creating sets\n",
    "all_set_x = []\n",
    "all_set_u = []\n",
    "training_set_x = []\n",
    "training_set_u = []\n",
    "\n",
    "all_set_x.append(xs[-1]); all_set_x.append(xs_optimal); training_set_x.append(xs_optimal)\n",
    "all_set_u.append(us[-1]); all_set_u.append(us_optimal); training_set_u.append(us_optimal)\n",
    "\n",
    "for X, U in zip(xs, us):\n",
    "    all_set_x.append(X); training_set_x.append(X)\n",
    "    all_set_u.append(U); training_set_u.append(U)"
   ]
  },
  {
   "cell_type": "code",
   "execution_count": null,
   "id": "84468f65-fbbf-46cb-93b5-1e2f6eaea9a4",
   "metadata": {},
   "outputs": [],
   "source": [
    "P_irl = distributions(cost_set, training_set_x, training_set_u, w_irl[:nr], w_irl[nr:], dt)\n",
    "P_des = distributions(cost_set, training_set_x, training_set_u, w_des[:nr], w_des[nr:], dt)"
   ]
  },
  {
   "cell_type": "code",
   "execution_count": null,
   "id": "85926e1e-40f5-419d-b8c2-be5a9f5a63b1",
   "metadata": {},
   "outputs": [],
   "source": [
    "plt.plot(-1/np.log(P_irl[1:]),label='IRL')\n",
    "plt.plot(-1/np.log(P_des[1:]),label='Desired')\n",
    "plt.legend()\n",
    "plt.gca().set_title(r'$\\frac{-1}{P(\\tau)}$')\n",
    "plt.show()"
   ]
  },
  {
   "cell_type": "code",
   "execution_count": null,
   "id": "6423ac3d-4bf9-40e4-b14e-276d2428e4ad",
   "metadata": {},
   "outputs": [],
   "source": [
    "# # Add a noisy trajectory to the set\n",
    "# # scale = 1/traj_diff + 1.0\n",
    "# scale = 5.0\n",
    "# noisy_u = np.vstack(sqp_non_opt.us.tolist().copy())+np.random.normal(0.0,scale,np.stack(sqp_non_opt.us.tolist()).shape)\n",
    "# us.append(noisy_u)\n",
    "# xs.append(np.stack(problem.rollout([noisy_u[i] for i in range(T)])))"
   ]
  },
  {
   "cell_type": "code",
   "execution_count": null,
   "id": "2c0e83fa-17cb-4b27-97b8-d50befefa496",
   "metadata": {},
   "outputs": [],
   "source": []
  }
 ],
 "metadata": {
  "kernelspec": {
   "display_name": "Python 3 (ipykernel)",
   "language": "python",
   "name": "python3"
  },
  "language_info": {
   "codemirror_mode": {
    "name": "ipython",
    "version": 3
   },
   "file_extension": ".py",
   "mimetype": "text/x-python",
   "name": "python",
   "nbconvert_exporter": "python",
   "pygments_lexer": "ipython3",
   "version": "3.10.12"
  }
 },
 "nbformat": 4,
 "nbformat_minor": 5
}
