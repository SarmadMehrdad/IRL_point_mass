{
 "cells": [
  {
   "cell_type": "code",
   "execution_count": 1,
   "id": "0ba040b9-b3d0-415d-816c-08a567a5f3f8",
   "metadata": {},
   "outputs": [],
   "source": [
    "import crocoddyl\n",
    "import pinocchio\n",
    "from IPython.display import HTML\n",
    "import mim_solvers\n",
    "import numpy as np\n",
    "import random\n",
    "from matplotlib import animation\n",
    "from matplotlib import pyplot as plt\n",
    "from PointMass_utils import *\n",
    "from PointMass_model import DifferentialActionModelPointMass"
   ]
  },
  {
   "cell_type": "code",
   "execution_count": 2,
   "id": "df53435e-4342-40b7-bcef-28dda802dfd3",
   "metadata": {},
   "outputs": [],
   "source": [
    "nq = 2; nv = 2; nx = 4\n",
    "nu = 2\n",
    "T = 50\n",
    "start_point = np.array([0, 0, 0, 0])\n",
    "target_low = np.array([10, 0, 0, 0])\n",
    "target_high = np.array([10, 10, 0, 0])\n",
    "obs0 = Obstacle(5, 5, 2, 1, 'Obs0')\n",
    "obs1 = Obstacle(3.5, 3.5, 1, 1, 'Obs1')\n",
    "obs2 = Obstacle(6.5, 6.5, 1, 1, 'Obs2')\n",
    "obs3 = Obstacle(6.5, 3.5, 1, 1, 'Obs3')\n",
    "obs_set = [obs1, obs2, obs3]\n",
    "translation_cost = XReg(nx, target_high[:nx], 'trans_high')\n",
    "xreg = XReg(nx, start_point, 'XReg')\n",
    "ureg = UReg(nu, None, 'UReg')\n",
    "\n",
    "cost_set = Costs()\n",
    "cost_set.add_cost(translation_cost)\n",
    "# cost_set.add_cost(xreg)\n",
    "# cost_set.add_cost(ureg)\n",
    "# cost_set.add_cost(obs0)\n",
    "cost_set.add_cost(obs1)\n",
    "cost_set.add_cost(obs2)\n",
    "cost_set.add_cost(obs3)\n",
    "\n",
    "nr = cost_set.nr"
   ]
  },
  {
   "cell_type": "code",
   "execution_count": 3,
   "id": "3fcc61f4-8157-4680-91a9-689b3d8a6d3f",
   "metadata": {},
   "outputs": [
    {
     "name": "stdout",
     "output_type": "stream",
     "text": [
      "iter     merit         cost         grad      step    ||gaps||        KKT\n",
      "   1  1.02500e+02  1.02500e+02  3.68493e+01  1.0000  0.00000e+00  9.98278e+00\n",
      "   2  1.42478e+00  1.42478e+00  1.28352e-02  1.0000  3.05311e-14  3.92439e-03\n",
      "   3  1.42456e+00  1.42456e+00  1.12979e-02  1.0000  2.08847e-11  2.83009e-03\n",
      "   4  1.42438e+00  1.42438e+00  1.00797e-02  1.0000  1.77597e-11  2.54003e-03\n",
      "   5  1.42423e+00  1.42423e+00  1.06188e-03  1.0000  2.13386e-11  5.63264e-04\n",
      "   6  1.42422e+00  1.42422e+00  1.15581e-02  1.0000  1.85828e-12  8.06546e-03\n",
      "   7  1.42407e+00  1.42407e+00  1.04776e-03  1.0000  1.94904e-11  3.95658e-03\n",
      "   8  1.42405e+00  1.42405e+00  1.04358e-03  1.0000  1.85438e-12  4.09454e-03\n",
      "   9  1.42403e+00  1.42403e+00  3.20259e-03  1.0000  1.99568e-12  1.79717e-02\n",
      "  10  1.42392e+00  1.42392e+00  2.95743e-03  1.0000  4.37430e-12  1.00394e-02\n",
      "iter     merit         cost         grad      step    ||gaps||        KKT\n",
      "  11  1.42381e+00  1.42381e+00  2.79995e-03  1.0000  4.87235e-12  5.20105e-03\n",
      "  12  1.42371e+00  1.42371e+00  3.48069e-02  1.0000  4.61531e-12  4.11363e-02\n",
      "  13  1.42257e+00  1.42257e+00  2.24571e-02  1.0000  6.71232e-11  3.13505e-03\n",
      "  14  1.42189e+00  1.42189e+00  2.11218e-02  1.0000  4.33926e-11  2.48158e-03\n",
      "  15  1.42128e+00  1.42128e+00  2.01025e-02  1.0000  3.46963e-11  2.00701e-03\n",
      "  16  1.42073e+00  1.42073e+00  1.61146e-01  1.0000  2.71344e-11  6.08285e-03\n",
      "  17  1.41670e+00  1.41670e+00  1.36576e-01  1.0000  3.11970e-10  1.31644e-03\n",
      "  18  1.41360e+00  1.41360e+00  1.22345e-01  1.0000  3.03692e-10  1.33915e-03\n",
      "  19  1.41104e+00  1.41104e+00  1.12204e-01  1.0000  2.03305e-10  1.66890e-03\n",
      "  20  1.40887e+00  1.40887e+00  1.03411e-01  1.0000  1.93006e-10  1.71557e-03\n",
      "iter     merit         cost         grad      step    ||gaps||        KKT\n",
      "  21  1.40700e+00  1.40700e+00  9.58531e-02  1.0000  1.37182e-10  1.63972e-03\n",
      "  22  1.40539e+00  1.40539e+00  8.90940e-02  1.0000  1.79533e-10  1.52559e-03\n",
      "  23  1.40399e+00  1.40399e+00  8.29881e-02  1.0000  1.41092e-10  1.40737e-03\n",
      "  24  1.40276e+00  1.40276e+00  7.74824e-02  1.0000  1.45653e-10  1.30006e-03\n",
      "  25  1.40167e+00  1.40167e+00  7.26151e-02  1.0000  1.68189e-10  1.21360e-03\n",
      "  26  1.40069e+00  1.40069e+00  6.85145e-02  1.0000  1.55408e-10  1.16143e-03\n",
      "  27  1.39982e+00  1.39982e+00  6.50445e-02  1.0000  1.34934e-10  1.17154e-03\n",
      "  28  1.39902e+00  1.39902e+00  6.22808e-02  1.0000  1.23313e-10  1.31002e-03\n",
      "  29  1.39829e+00  1.39829e+00  6.10841e-02  1.0000  1.37763e-10  2.53237e-03\n",
      "  30  1.39759e+00  1.39759e+00  6.62384e-02  1.0000  1.29857e-10  6.82459e-03\n",
      "iter     merit         cost         grad      step    ||gaps||        KKT\n",
      "  31  1.39681e+00  1.39681e+00  9.16932e-02  1.0000  1.40241e-10  1.83065e-02\n",
      "  32  1.39549e+00  1.39549e+00  1.31129e-01  1.0000  1.65502e-10  2.88470e-02\n",
      "  33  1.39279e+00  1.39279e+00  1.45709e-01  1.0000  2.49538e-10  1.65264e-02\n",
      "  34  1.38900e+00  1.38900e+00  1.57415e-01  1.0000  2.84812e-10  6.67227e-03\n",
      "  35  1.38442e+00  1.38442e+00  1.74326e-01  1.0000  3.57470e-10  4.09192e-03\n",
      "  36  1.37900e+00  1.37900e+00  1.92289e-01  1.0000  3.97864e-10  4.52766e-03\n",
      "  37  1.37264e+00  1.37264e+00  1.30499e+02  0.0625  4.34308e-10  2.75507e+00\n",
      "  38  1.23191e+00  1.23191e+00  1.04825e+00  1.0000  1.64609e-08  1.56765e-01\n",
      "  39  1.18836e+00  1.18836e+00  1.99585e+00  1.0000  1.23044e-09  3.90057e-03\n",
      "  40  1.17424e+00  1.17424e+00  5.31021e+00  1.0000  3.86387e-09  8.57202e-03\n",
      "iter     merit         cost         grad      step    ||gaps||        KKT\n",
      "  41  1.15238e+00  1.15238e+00  5.46531e+00  1.0000  1.72000e-08  3.67218e-03\n",
      "  42  1.14658e+00  1.14658e+00  2.50352e+00  1.0000  1.69677e-08  4.65882e-04\n",
      "  43  1.14618e+00  1.14618e+00  2.99856e-01  1.0000  9.01381e-09  4.19592e-05\n",
      "True END  1.14617e+00  1.14617e+00  6.70605e-03   ----   1.03427e-09  7.49753e-07\n",
      "\n"
     ]
    }
   ],
   "source": [
    "# Desired Running and Terminal Model\n",
    "w_run = np.array([10, 500, 500, 200])\n",
    "w_term = np.array([1000, 500, 500, 200])\n",
    "w_des = (np.hstack([w_run, w_term])/(np.max(np.hstack([w_run, w_term])))).copy()\n",
    "# w_des = np.hstack([w_run, w_term])\n",
    "w_run = w_des[:nr]; w_term = w_des[nr:]\n",
    "PM_DAM_running = DifferentialActionModelPointMass(cost_set, w_run)\n",
    "PM_DAM_terminal = DifferentialActionModelPointMass(cost_set, w_term)\n",
    "pmDataRunning = PM_DAM_running.createData()\n",
    "pmDataTerminal = PM_DAM_terminal.createData()\n",
    "PM_ND_R = crocoddyl.DifferentialActionModelNumDiff(PM_DAM_running, False)\n",
    "PM_ND_T = crocoddyl.DifferentialActionModelNumDiff(PM_DAM_terminal, False)\n",
    "timeStep = 5e-2\n",
    "PM_IAM = crocoddyl.IntegratedActionModelEuler(PM_ND_R, timeStep)\n",
    "PM_IAM_T = crocoddyl.IntegratedActionModelEuler(PM_ND_T, 0.0)\n",
    "x0 = np.array([0.0, 0.0, 0.0, 0.0])\n",
    "u0 = np.array([0.0, 0.0])\n",
    "problem = crocoddyl.ShootingProblem(x0, [PM_IAM] * T, PM_IAM_T)\n",
    "# Creating the SQP solver\n",
    "sqp_opt = mim_solvers.SolverSQP(problem)\n",
    "sqp_opt.setCallbacks([crocoddyl.CallbackVerbose()])\n",
    "sqp_opt.with_callbacks=True\n",
    "sqp_opt.termination_tolerance = 1e-5\n",
    "xs_init = [x0 for i in range(T+1)]\n",
    "us_init = [u0 for i in range(T)]\n",
    "\n",
    "# Solving this problem\n",
    "done = sqp_opt.solve(xs_init, us_init, 500)\n",
    "xs_optimal = np.stack(sqp_opt.xs.tolist().copy())\n",
    "us_optimal = np.stack(sqp_opt.us.tolist().copy())\n",
    "print(done)"
   ]
  },
  {
   "cell_type": "code",
   "execution_count": 4,
   "id": "809a1fdb-7aec-47b3-9e3a-1e9c57d4deab",
   "metadata": {},
   "outputs": [
    {
     "data": {
      "image/png": "[encoded data removed]",
      "text/plain": [
       "<Figure size 640x480 with 1 Axes>"
      ]
     },
     "metadata": {},
     "output_type": "display_data"
    }
   ],
   "source": [
    "# HTML(animatePointMass(xs_optimal, obs_set, target_high).to_jshtml())\n",
    "plot_1_traj(xs_optimal, obs_set, target_high, label='Optimal', linemap = 'b')"
   ]
  },
  {
   "cell_type": "code",
   "execution_count": 5,
   "id": "43d10beb-540b-4f96-933f-25109794aca0",
   "metadata": {},
   "outputs": [
    {
     "data": {
      "text/plain": [
       "1.1461714994634464"
      ]
     },
     "execution_count": 5,
     "metadata": {},
     "output_type": "execute_result"
    }
   ],
   "source": [
    "sqp_opt.cost"
   ]
  },
  {
   "cell_type": "code",
   "execution_count": 11,
   "id": "628c0842-7939-4b99-8c5f-6e23a04ca6be",
   "metadata": {},
   "outputs": [
    {
     "name": "stdout",
     "output_type": "stream",
     "text": [
      "1.1461714994634464\n"
     ]
    }
   ],
   "source": [
    "sqp_cost = 0.0\n",
    "for i, (RD, RM) in enumerate(zip(sqp_opt.problem.runningDatas, sqp_opt.problem.runningModels)):\n",
    "    r = RD.differential.data_0.r\n",
    "    sqp_cost += np.sum(0.5*RM.differential.model.costWeights*(r**2))*timeStep\n",
    "r = sqp_opt.problem.terminalData.differential.data_0.r\n",
    "sqp_cost += np.sum(0.5*sqp_opt.problem.terminalModel.differential.model.costWeights*(r**2))\n",
    "print(sqp_cost)"
   ]
  },
  {
   "cell_type": "code",
   "execution_count": 6,
   "id": "e46f0918-438a-4c05-aef1-e04dba1fb91e",
   "metadata": {},
   "outputs": [
    {
     "data": {
      "text/plain": [
       "1.1461714994634464"
      ]
     },
     "execution_count": 6,
     "metadata": {},
     "output_type": "execute_result"
    }
   ],
   "source": [
    "cost_set.traj_cost(sqp_opt.xs, sqp_opt.us, w_des[:nr], w_des[nr:], timeStep)"
   ]
  },
  {
   "cell_type": "code",
   "execution_count": 189,
   "id": "85adaac8-2752-4219-ace9-3ca977f1f954",
   "metadata": {},
   "outputs": [],
   "source": [
    "from scipy.optimize import minimize\n",
    "from scipy.optimize import Bounds\n",
    "\n",
    "def fcn_w(x, alpha, mean):\n",
    "    output = 0\n",
    "    for a, m in zip(alpha, mean):\n",
    "        output -= (np.exp(a**2))*np.exp(-(x-m)**2)\n",
    "    return output"
   ]
  },
  {
   "cell_type": "code",
   "execution_count": 195,
   "id": "3bb3c924-5772-4f8e-b667-083c03c321a6",
   "metadata": {},
   "outputs": [
    {
     "name": "stdout",
     "output_type": "stream",
     "text": [
      "X: -5.000000005870465, FCN: -8886110.520508178\n"
     ]
    }
   ],
   "source": [
    "bound = Bounds(-np.inf, np.inf)\n",
    "alpha = [1, 2, 4]\n",
    "mean = [-1, 3, -5]\n",
    "x0 = 0.0\n",
    "options = {'maxiter': 500, 'iprint': -1,'ftol': 1e-25 ,'gtol' : 1e-25}\n",
    "res = minimize(fcn_w, x0, tol = 1e-25, options=options, args=(alpha, mean), bounds=bound)\n",
    "print('X: {}, FCN: {}'.format(res.x.item(), fcn_w(res.x.item(), alpha, mean)))"
   ]
  },
  {
   "cell_type": "code",
   "execution_count": 196,
   "id": "d04fd612-d1b8-41ab-b89c-647c4d7b7f2a",
   "metadata": {},
   "outputs": [
    {
     "data": {
      "image/png": "[encoded data removed]",
      "text/plain": [
       "<Figure size 640x480 with 1 Axes>"
      ]
     },
     "metadata": {},
     "output_type": "display_data"
    }
   ],
   "source": [
    "x = np.linspace(-10,10,10000)\n",
    "y = [fcn_w(x[i], alpha, mean) for i in range(len(x))]\n",
    "plt.plot(x,y)\n",
    "plt.grid()\n",
    "plt.show()"
   ]
  },
  {
   "cell_type": "code",
   "execution_count": 199,
   "id": "c2ecba42-156e-48b1-8bc1-4694d8b5cbaa",
   "metadata": {},
   "outputs": [
    {
     "data": {
      "text/plain": [
       "1.0"
      ]
     },
     "execution_count": 199,
     "metadata": {},
     "output_type": "execute_result"
    }
   ],
   "source": [
    "A = np.array([-1])\n",
    "np.linalg.norm(A)"
   ]
  },
  {
   "cell_type": "code",
   "execution_count": 20,
   "id": "dcb609b6-f966-4c65-bf77-6fbbffbd3e13",
   "metadata": {},
   "outputs": [
    {
     "name": "stdout",
     "output_type": "stream",
     "text": [
      "values:  [-1.  3. -1. -1.]\n",
      "\n",
      "vectors:  [[-0.8660254   0.5         0.32842618  0.10655131]\n",
      " [ 0.28867513  0.5        -0.85895877 -0.13142374]\n",
      " [ 0.28867513  0.5         0.18282338 -0.68436551]\n",
      " [ 0.28867513  0.5         0.3477092   0.70923795]]\n"
     ]
    }
   ],
   "source": [
    "n = 4\n",
    "A = np.ones(n) - np.identity(n)\n",
    "print('values: ', np.linalg.eig(A)[0])\n",
    "print('')\n",
    "print('vectors: ', np.linalg.eig(A)[1])\n"
   ]
  },
  {
   "cell_type": "code",
   "execution_count": 21,
   "id": "845ce0e3-9460-4efa-aeb2-647b39b12161",
   "metadata": {},
   "outputs": [
    {
     "data": {
      "text/plain": [
       "-2.9999999999999996"
      ]
     },
     "execution_count": 21,
     "metadata": {},
     "output_type": "execute_result"
    }
   ],
   "source": [
    "np.linalg.det(A)"
   ]
  }
 ],
 "metadata": {
  "kernelspec": {
   "display_name": "Python 3 (ipykernel)",
   "language": "python",
   "name": "python3"
  },
  "language_info": {
   "codemirror_mode": {
    "name": "ipython",
    "version": 3
   },
   "file_extension": ".py",
   "mimetype": "text/x-python",
   "name": "python",
   "nbconvert_exporter": "python",
   "pygments_lexer": "ipython3",
   "version": "3.10.12"
  }
 },
 "nbformat": 4,
 "nbformat_minor": 5
}
