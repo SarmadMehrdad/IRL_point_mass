{
 "cells": [
  {
   "cell_type": "code",
   "execution_count": 1,
   "id": "ba6177c2-635f-43ba-a3af-3451821ea186",
   "metadata": {},
   "outputs": [],
   "source": [
    "import mujoco\n",
    "import cv2\n",
    "import numpy as np\n",
    "import yaml\n",
    "import pickle\n",
    "import pathlib\n",
    "import pickle\n",
    "import mujoco.viewer\n",
    "from operator import index\n",
    "import pinocchio as pin\n",
    "from pinocchio.utils import *\n",
    "import numpy as np\n",
    "from numpy.linalg import norm, solve\n",
    "import time\n",
    "from scipy.stats import multivariate_normal\n",
    "import matplotlib.pyplot as plt\n",
    "from matplotlib import cm, markers\n",
    "import matplotlib.pyplot as plt\n",
    "from matplotlib.lines import Line2D\n",
    "from ipywidgets import widgets, interact"
   ]
  },
  {
   "cell_type": "code",
   "execution_count": 37,
   "id": "fde521f3-24ee-4a0a-b8c8-93433c32e645",
   "metadata": {},
   "outputs": [],
   "source": [
    "class TrajOpt():\n",
    "    def __init__(self, X, X_dot, X_ddot, t, goal):\n",
    "        \n",
    "        self.t = t\n",
    "        self.dt = 0.05\n",
    "        self.X = X\n",
    "        self.X_dot = X_dot\n",
    "        self.X_ddot = X_ddot\n",
    "        self.goal = goal\n",
    "        \n",
    "        self.feature_length = self.X.shape[0]\n",
    "        self.feature_count = self.X.shape[1]\n",
    "        \n",
    "        self.K = 50*np.identity(self.feature_count)\n",
    "        self.D = 2*np.sqrt(self.K)\n",
    "        self.conv_rate = 0.01\n",
    "        self.alpha = -np.log(self.conv_rate)\n",
    "        self.tau = self.t[-1]\n",
    "        self.s = np.exp((-self.alpha/self.tau)*self.t)\n",
    "        \n",
    "        self.v = self.tau*self.X_dot\n",
    "        self.v_dot = self.tau*self.X_ddot\n",
    "        self.tau_v_dot = self.tau*self.v_dot\n",
    "        \n",
    "        self.K_inv = np.linalg.inv(self.K)\n",
    "\n",
    "        self.theta = None\n",
    "\n",
    "        self.Dv = np.zeros(shape=self.X.shape)\n",
    "        for i in range(self.feature_length):\n",
    "            self.Dv[i] = self.D@self.v[i]\n",
    "        \n",
    "        self.f_target = np.zeros(shape=self.X.shape)\n",
    "        for i in range(self.feature_length):\n",
    "            self.f_target[i] = self.tau_v_dot[i] + self.Dv[i] + self.K@(self.X[i] - self.goal)\n",
    "\n",
    "    def learn_weights(self):\n",
    "        # ci= np.logspace(-3, 0, num=self.bf_number)\n",
    "        # h = self.bf_number / (ci ** 2)\n",
    "        # ci_tile = np.tile(ci[None],(self.feature_length,1))\n",
    "        # s = np.tile(self.s[:,None], (1, self.bf_number))\n",
    "        # self.psi_matrix = np.exp(-h * (s - ci_tile) ** 2)\n",
    "        # self.inv_sum_bfs = 1.0 / np.sum(self.psi_matrix, axis=-1)\n",
    "        \n",
    "        # self.bf_target = np.einsum('lb,l->lb',self.psi_matrix*s,self.inv_sum_bfs)\n",
    "\n",
    "        self.bf_target = np.zeros(shape=(self.feature_length,self.feature_length))\n",
    "        for i in range(self.feature_length):\n",
    "            self.bf_target[i,i] = 1\n",
    "        print(self.bf_target.shape)\n",
    "        print(self.f_target.shape)\n",
    "        sol = np.linalg.lstsq(self.bf_target,self.f_target,rcond=None)\n",
    "        self.theta = sol[0]\n",
    "        print('Theta is leaned using LWR. Shape => ', self.theta.shape)\n",
    "\n",
    "    def get_theta(self):\n",
    "        return self.theta\n",
    "\n",
    "    def set_theta(self, value):\n",
    "        self.theta = value\n",
    "\n",
    "    def get_g(self, ind):\n",
    "        return self.bf_target[ind]\n",
    "\n",
    "    def get_g_all(self):\n",
    "        return self.bf_target\n",
    "\n",
    "    def get_f(self):\n",
    "        return self.f_target\n",
    "    \n",
    "    def rollout(self, x, x_dot, theta, ind):\n",
    "        # f = self.psi_matrix[ind]@theta\n",
    "        # f *= self.inv_sum_bfs[ind]\n",
    "        # f *= self.s[ind]\n",
    "\n",
    "        f = self.bf_target[ind]@theta\n",
    "        # f *= self.inv_sum_bfs[ind]\n",
    "        f *= self.s[ind]\n",
    "\n",
    "        v = self.tau * x_dot\n",
    "        v_dot = (1.0 / self.tau) * (np.dot(self.K, self.goal - x) - np.dot(self.D, v) + f)\n",
    "        v = v + v_dot * self.dt\n",
    "        x_dot = v / self.tau\n",
    "        x = x + x_dot * self.dt\n",
    "\n",
    "        return x, x_dot\n",
    "\n",
    "        \n",
    "    "
   ]
  },
  {
   "cell_type": "code",
   "execution_count": 38,
   "id": "01bf4fd5-c10a-43ae-b236-71c04676b81a",
   "metadata": {},
   "outputs": [],
   "source": [
    "with open('../data.pkl', 'rb') as f:\n",
    "    data = pickle.load(f)\n",
    "\n",
    "t = data['time']\n",
    "X = data['X']\n",
    "X_dot = data['X_dot']\n",
    "X_ddot = data['X_ddot']\n",
    "x0 = data['x0']\n",
    "goal = data['goal']\n",
    "num_g = data['num_g']\n",
    "num_data = data['num_data']\n",
    "cost_mu = data['cost_mu']\n",
    "cost_sigma = data['cost_sigma']\n",
    "init_cost = data['cost']\n",
    "\n",
    "ref = np.linspace(0,X.shape[1]-1,200,dtype=int)\n",
    "demo_num = 4\n",
    "t = t[demo_num,ref]\n",
    "X = X[demo_num,ref,:]\n",
    "X_dot = X_dot[demo_num,ref,:]\n",
    "X_ddot = X_ddot[demo_num,ref,:]\n",
    "feature_length = X.shape[0]\n",
    "feature_count = X.shape[1]"
   ]
  },
  {
   "cell_type": "code",
   "execution_count": 39,
   "id": "89e643e8-7d9a-458f-b646-6afedb075fd1",
   "metadata": {},
   "outputs": [
    {
     "name": "stdout",
     "output_type": "stream",
     "text": [
      "(200, 200)\n",
      "(200, 2)\n",
      "Theta is leaned using LWR. Shape =>  (200, 2)\n"
     ]
    }
   ],
   "source": [
    "traj = TrajOpt(X, X_dot, X_ddot, t, goal)\n",
    "traj.learn_weights()\n",
    "weights = traj.get_theta()\n",
    "f = traj.get_f()\n",
    "g = traj.get_g_all()"
   ]
  },
  {
   "cell_type": "code",
   "execution_count": 40,
   "id": "fca6b29c-3081-4760-8e71-5cae3d70d593",
   "metadata": {},
   "outputs": [],
   "source": [
    "x_roll = np.zeros(shape=X.shape)\n",
    "xd_roll = np.zeros(shape=X_dot.shape)\n",
    "for i in range(feature_length):\n",
    "    if i == 0:\n",
    "        x_roll[i]=x0\n",
    "        xd_roll[i] =X_dot[0] \n",
    "    else:\n",
    "        x,xd = traj.rollout(x_roll[i-1],xd_roll[i-1],weights,i)\n",
    "        x_roll[i]=x\n",
    "        xd_roll[i]=xd\n",
    "\n",
    "        \n",
    "\n",
    "\n",
    "# wg = np.einsum('ij,jk->ik',g,weights)\n",
    "# wg.shape\n",
    "# fwg = f+wg\n",
    "# plt.plot(t,wg[:,0])\n",
    "# plt.plot(t,f[:,0])"
   ]
  },
  {
   "cell_type": "code",
   "execution_count": 41,
   "id": "f4da54da-3729-43f2-a1e2-22e1191c8e35",
   "metadata": {},
   "outputs": [
    {
     "data": {
      "text/plain": [
       "[<matplotlib.lines.Line2D at 0x7b456c454eb0>]"
      ]
     },
     "execution_count": 41,
     "metadata": {},
     "output_type": "execute_result"
    },
    {
     "data": {
      "image/png": "[encoded data removed]",
      "text/plain": [
       "<Figure size 640x480 with 1 Axes>"
      ]
     },
     "metadata": {},
     "output_type": "display_data"
    }
   ],
   "source": [
    "plt.plot(x_roll[:,0],x_roll[:,1])\n",
    "plt.plot(X[:,0],X[:,1])"
   ]
  },
  {
   "cell_type": "code",
   "execution_count": null,
   "id": "c78f19a0-062c-4e4c-87df-69fca3d75bea",
   "metadata": {},
   "outputs": [],
   "source": []
  }
 ],
 "metadata": {
  "kernelspec": {
   "display_name": "Python 3 (ipykernel)",
   "language": "python",
   "name": "python3"
  },
  "language_info": {
   "codemirror_mode": {
    "name": "ipython",
    "version": 3
   },
   "file_extension": ".py",
   "mimetype": "text/x-python",
   "name": "python",
   "nbconvert_exporter": "python",
   "pygments_lexer": "ipython3",
   "version": "3.10.12"
  }
 },
 "nbformat": 4,
 "nbformat_minor": 5
}
